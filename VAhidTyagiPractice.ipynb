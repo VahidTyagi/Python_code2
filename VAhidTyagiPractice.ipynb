{
  "cells": [
    {
      "cell_type": "markdown",
      "metadata": {
        "id": "view-in-github",
        "colab_type": "text"
      },
      "source": [
        "<a href=\"https://colab.research.google.com/github/VahidTyagi/Python_code2/blob/main/VAhidTyagiPractice.ipynb\" target=\"_parent\"><img src=\"https://colab.research.google.com/assets/colab-badge.svg\" alt=\"Open In Colab\"/></a>"
      ]
    },
    {
      "cell_type": "code",
      "execution_count": null,
      "metadata": {
        "id": "22TPhg3ZwdQn"
      },
      "outputs": [],
      "source": []
    },
    {
      "cell_type": "code",
      "execution_count": null,
      "metadata": {
        "id": "-16lnCpocGcX"
      },
      "outputs": [],
      "source": []
    },
    {
      "cell_type": "code",
      "execution_count": null,
      "metadata": {
        "colab": {
          "base_uri": "https://localhost:8080/"
        },
        "id": "IA7VrDsbwj2v",
        "outputId": "da22ba29-b35d-48c0-bbb9-f2c09418811b"
      },
      "outputs": [
        {
          "name": "stdout",
          "output_type": "stream",
          "text": [
            "apple\n",
            "banana\n",
            "orange\n",
            "melon\n"
          ]
        }
      ],
      "source": [
        "fruits = [\"apple\", \"banana\", \"orange\",\"melon\"]\n",
        "for fruit in fruits:\n",
        " print(fruit)"
      ]
    },
    {
      "cell_type": "code",
      "execution_count": null,
      "metadata": {
        "colab": {
          "base_uri": "https://localhost:8080/"
        },
        "id": "mnqymYyXxNnU",
        "outputId": "c00998ca-69cb-4e89-9127-3c5243fd6b1d"
      },
      "outputs": [
        {
          "name": "stdout",
          "output_type": "stream",
          "text": [
            "4.0\n"
          ]
        }
      ],
      "source": [
        "import math\n",
        "x=16\n",
        "result=math.sqrt(x)\n",
        "print(result)"
      ]
    },
    {
      "cell_type": "code",
      "execution_count": null,
      "metadata": {
        "colab": {
          "base_uri": "https://localhost:8080/"
        },
        "id": "WeKUP_17xjfM",
        "outputId": "2a3c0907-5760-4d23-f69f-c56cb2445dbd"
      },
      "outputs": [
        {
          "name": "stdout",
          "output_type": "stream",
          "text": [
            "x is not greater than 10\n"
          ]
        }
      ],
      "source": [
        "x=9.9\n",
        "if x>10:\n",
        "   print(\"x is greater than 10\")\n",
        "else:\n",
        "   print(\"x is not greater than 10\")"
      ]
    },
    {
      "cell_type": "code",
      "execution_count": null,
      "metadata": {
        "colab": {
          "base_uri": "https://localhost:8080/"
        },
        "id": "XiN9PJQDx2Fs",
        "outputId": "b6bf7b44-45bc-4ac2-cb47-59784d8e7970"
      },
      "outputs": [
        {
          "name": "stdout",
          "output_type": "stream",
          "text": [
            "8\n"
          ]
        }
      ],
      "source": [
        "def add(a,b):\n",
        "   return a+b\n",
        "\n",
        "result = add (3,5)\n",
        "print(result)"
      ]
    },
    {
      "cell_type": "code",
      "execution_count": null,
      "metadata": {
        "colab": {
          "base_uri": "https://localhost:8080/",
          "height": 35
        },
        "id": "xVyhPDEJ22Su",
        "outputId": "4e9dbc19-aad6-40aa-c804-0cd8625b6df9"
      },
      "outputs": [
        {
          "data": {
            "application/vnd.google.colaboratory.intrinsic+json": {
              "type": "string"
            },
            "text/plain": [
              "'Hello World !!!'"
            ]
          },
          "execution_count": 1,
          "metadata": {},
          "output_type": "execute_result"
        }
      ],
      "source": [
        "# Single word\n",
        "my_first_string= 'Hello World !!!'\n",
        "my_first_string"
      ]
    },
    {
      "cell_type": "code",
      "execution_count": null,
      "metadata": {
        "colab": {
          "base_uri": "https://localhost:8080/"
        },
        "id": "UTVZ0fdf91r3",
        "outputId": "a96eacac-ba40-40a4-fb60-3739e156f7e8"
      },
      "outputs": [
        {
          "name": "stdout",
          "output_type": "stream",
          "text": [
            "Statistics sits at the heart of machine learning\n"
          ]
        }
      ],
      "source": [
        "# Entire phrase\n",
        "phrase = 'Statistics sits at the heart of machine learning'\n",
        "print(phrase)\n"
      ]
    },
    {
      "cell_type": "code",
      "execution_count": null,
      "metadata": {
        "colab": {
          "base_uri": "https://localhost:8080/"
        },
        "id": "UOaBTYv297gg",
        "outputId": "6917b5f7-598f-424c-af2b-b7f0aa7d3c32"
      },
      "outputs": [
        {
          "data": {
            "text/plain": [
              "str"
            ]
          },
          "execution_count": 4,
          "metadata": {},
          "output_type": "execute_result"
        }
      ],
      "source": [
        "type(phrase)"
      ]
    },
    {
      "cell_type": "markdown",
      "metadata": {
        "id": "JzaeezHU-Gnk"
      },
      "source": [
        "# We can also use double quote\n",
        "my_string = \"String built with double quotes\"\n",
        "print(my_string)   # Use the print command"
      ]
    },
    {
      "cell_type": "markdown",
      "metadata": {
        "id": "mWedhF6C-jup"
      },
      "source": [
        "message = \"Hey kal, how are you doing?\"\n",
        "\n",
        "# Oops, I made a typo!\n",
        "message[4] = 'p' #this is called slicing. You'll learn more about it in upcoming sessions\n",
        "\n",
        "print(message)"
      ]
    },
    {
      "cell_type": "code",
      "execution_count": null,
      "metadata": {
        "colab": {
          "base_uri": "https://localhost:8080/"
        },
        "id": "AH7ynOxz-u3L",
        "outputId": "c92ca632-2ecd-4fbe-95d7-28ebe7d04432"
      },
      "outputs": [
        {
          "data": {
            "text/plain": [
              "6"
            ]
          },
          "execution_count": 13,
          "metadata": {},
          "output_type": "execute_result"
        }
      ],
      "source": [
        "\n",
        "# Print the length of the string\n",
        "string = \"algorithma\"\n",
        "len(\"string\")"
      ]
    },
    {
      "cell_type": "code",
      "execution_count": null,
      "metadata": {
        "colab": {
          "base_uri": "https://localhost:8080/"
        },
        "id": "LmipHvBh_h35",
        "outputId": "94cfade4-981c-4d4f-8887-eaae62af6435"
      },
      "outputs": [
        {
          "data": {
            "text/plain": [
              "2"
            ]
          },
          "execution_count": 14,
          "metadata": {},
          "output_type": "execute_result"
        }
      ],
      "source": [
        "string.count('a')"
      ]
    },
    {
      "cell_type": "code",
      "execution_count": null,
      "metadata": {
        "colab": {
          "base_uri": "https://localhost:8080/"
        },
        "id": "HWDQDEH2__UK",
        "outputId": "7cb14539-221e-466a-9c42-1bab9f207ed4"
      },
      "outputs": [
        {
          "data": {
            "text/plain": [
              "5"
            ]
          },
          "execution_count": 15,
          "metadata": {},
          "output_type": "execute_result"
        }
      ],
      "source": [
        "books = \"Python for Everyone, Learn Python the Hard Way, Python Crash Course , Starting Out with Python\"\n",
        "books.count('e')"
      ]
    },
    {
      "cell_type": "code",
      "execution_count": null,
      "metadata": {
        "id": "dJojGLmQBI1X"
      },
      "outputs": [],
      "source": [
        "# Assign a list to an variable named my_list\n",
        "my_list = [1,2,3,4]"
      ]
    },
    {
      "cell_type": "markdown",
      "metadata": {
        "id": "r3Yy48duBMpH"
      },
      "source": [
        "\n",
        "print(my_list)\n"
      ]
    },
    {
      "cell_type": "code",
      "execution_count": null,
      "metadata": {
        "colab": {
          "base_uri": "https://localhost:8080/"
        },
        "id": "oMg1PAQCBQ-A",
        "outputId": "93a68089-20eb-4116-96b0-ff385fa40225"
      },
      "outputs": [
        {
          "data": {
            "text/plain": [
              "list"
            ]
          },
          "execution_count": 18,
          "metadata": {},
          "output_type": "execute_result"
        }
      ],
      "source": [
        "type(my_list)"
      ]
    },
    {
      "cell_type": "code",
      "execution_count": null,
      "metadata": {
        "colab": {
          "base_uri": "https://localhost:8080/"
        },
        "id": "nkmgSrziBXTK",
        "outputId": "db42245c-70a3-4963-8cd0-f39b5620cd5f"
      },
      "outputs": [
        {
          "data": {
            "text/plain": [
              "['A string', 23, 100.232, 'o', True]"
            ]
          },
          "execution_count": 19,
          "metadata": {},
          "output_type": "execute_result"
        }
      ],
      "source": [
        "my_list = ['A string',23,100.232,'o',True]\n",
        "my_list"
      ]
    },
    {
      "cell_type": "code",
      "execution_count": null,
      "metadata": {
        "colab": {
          "base_uri": "https://localhost:8080/"
        },
        "id": "JpljjCxgBpQ4",
        "outputId": "fe82e9ae-86f2-4944-d4be-7cf855dccc92"
      },
      "outputs": [
        {
          "name": "stdout",
          "output_type": "stream",
          "text": [
            "[1, 2, 3, 7.7, 5]\n"
          ]
        }
      ],
      "source": [
        "# create a list\n",
        "my_list = [1, 2, 3, 4, 5]\n",
        "\n",
        "# modify the list\n",
        "my_list[3] = 7.7\n",
        "\n",
        "# print out the modified list\n",
        "print(my_list)"
      ]
    },
    {
      "cell_type": "code",
      "execution_count": null,
      "metadata": {
        "colab": {
          "base_uri": "https://localhost:8080/"
        },
        "id": "tSZfc7BZCKG1",
        "outputId": "12793dd9-db76-476b-af8b-c8faf0dde479"
      },
      "outputs": [
        {
          "data": {
            "text/plain": [
              "7"
            ]
          },
          "execution_count": 26,
          "metadata": {},
          "output_type": "execute_result"
        }
      ],
      "source": [
        "loss_functions = ['Mean Absolute Error','1', 'Mean Squared Error', 'Huber Loss', 'Log Loss', 'Hinge Loss', 'Kullback-Leibler']\n",
        "len(loss_functions)"
      ]
    },
    {
      "cell_type": "code",
      "execution_count": null,
      "metadata": {
        "colab": {
          "base_uri": "https://localhost:8080/"
        },
        "id": "awk6tG15CXhV",
        "outputId": "969dfd56-d2db-4818-836c-bd3113697f72"
      },
      "outputs": [
        {
          "data": {
            "text/plain": [
              "24.5"
            ]
          },
          "execution_count": 27,
          "metadata": {},
          "output_type": "execute_result"
        }
      ],
      "source": [
        "new_list = [6, 9, 1, 3, 5.5]\n",
        "\n",
        "\n",
        "sum(new_list)"
      ]
    },
    {
      "cell_type": "code",
      "execution_count": null,
      "metadata": {
        "colab": {
          "base_uri": "https://localhost:8080/"
        },
        "id": "y4E4o35xCfYp",
        "outputId": "eb4da16e-7522-4f07-b1b1-9bfaeef66ebc"
      },
      "outputs": [
        {
          "name": "stdout",
          "output_type": "stream",
          "text": [
            "82.3\n"
          ]
        }
      ],
      "source": [
        "# List of student marks\n",
        "\n",
        "marks = [87, 76, 95, 68, 80, 83, 92, 74, 79, 89]\n",
        "sum(marks)\n",
        "\n",
        "mean_marks = sum(marks)/10\n",
        "print(mean_marks)\n",
        "\n",
        "\n"
      ]
    },
    {
      "cell_type": "code",
      "execution_count": null,
      "metadata": {
        "id": "PXhoZrXkEakj"
      },
      "outputs": [],
      "source": [
        "# Create a tuple\n",
        "my_tuple = (1,2,3)"
      ]
    },
    {
      "cell_type": "code",
      "execution_count": null,
      "metadata": {
        "colab": {
          "base_uri": "https://localhost:8080/"
        },
        "id": "uORKHN-oEf0D",
        "outputId": "7f9df06b-fe19-45c3-8c9d-f4f53fe236d1"
      },
      "outputs": [
        {
          "name": "stdout",
          "output_type": "stream",
          "text": [
            "(1, 2, 3)\n"
          ]
        }
      ],
      "source": [
        "print(my_tuple)"
      ]
    },
    {
      "cell_type": "code",
      "execution_count": null,
      "metadata": {
        "colab": {
          "base_uri": "https://localhost:8080/"
        },
        "id": "Hk-p_-uyEiIW",
        "outputId": "70550a83-8906-45a6-bf33-661fb98873c9"
      },
      "outputs": [
        {
          "data": {
            "text/plain": [
              "tuple"
            ]
          },
          "execution_count": 39,
          "metadata": {},
          "output_type": "execute_result"
        }
      ],
      "source": [
        "type(my_tuple)"
      ]
    },
    {
      "cell_type": "code",
      "execution_count": null,
      "metadata": {
        "colab": {
          "base_uri": "https://localhost:8080/"
        },
        "id": "KnuFWc6nEmbv",
        "outputId": "243b4112-5919-40fe-f912-97aa89ba0fe4"
      },
      "outputs": [
        {
          "data": {
            "text/plain": [
              "('one', 2, 4.53, 'asbc')"
            ]
          },
          "execution_count": 40,
          "metadata": {},
          "output_type": "execute_result"
        }
      ],
      "source": [
        "# Can also mix object types\n",
        "another_tuple = ('one',2, 4.53, 'asbc')\n",
        "\n",
        "# Show\n",
        "another_tuple"
      ]
    },
    {
      "cell_type": "code",
      "execution_count": null,
      "metadata": {
        "colab": {
          "base_uri": "https://localhost:8080/"
        },
        "id": "PXya4HbREuR-",
        "outputId": "7d7232a7-1a97-4617-8b32-7302cea6e8ac"
      },
      "outputs": [
        {
          "data": {
            "text/plain": [
              "tuple"
            ]
          },
          "execution_count": 41,
          "metadata": {},
          "output_type": "execute_result"
        }
      ],
      "source": [
        "yet_another_tuple = (1,)\n",
        "\n",
        "\n",
        "type(yet_another_tuple)"
      ]
    },
    {
      "cell_type": "code",
      "execution_count": null,
      "metadata": {
        "id": "KT4UXfAtFr-w"
      },
      "outputs": [],
      "source": [
        "# Make a dictionary with {} and : to signify a key and a value\n",
        "marvel_dict = {'Name':'Thor',\n",
        "               'Place':'Asgard',\n",
        "               'Weapon' : 'Hammer'}"
      ]
    },
    {
      "cell_type": "code",
      "execution_count": null,
      "metadata": {
        "colab": {
          "base_uri": "https://localhost:8080/",
          "height": 35
        },
        "id": "ex3X8MckFxKT",
        "outputId": "fbf59c32-9f74-402e-d446-3842f22e6819"
      },
      "outputs": [
        {
          "data": {
            "application/vnd.google.colaboratory.intrinsic+json": {
              "type": "string"
            },
            "text/plain": [
              "'Asgard'"
            ]
          },
          "execution_count": 46,
          "metadata": {},
          "output_type": "execute_result"
        }
      ],
      "source": [
        "# Call values by their key\n",
        "marvel_dict['Place']"
      ]
    },
    {
      "cell_type": "code",
      "execution_count": null,
      "metadata": {
        "colab": {
          "base_uri": "https://localhost:8080/"
        },
        "id": "_D1_N_w1Hbmh",
        "outputId": "91f0c878-802f-4681-c054-86f7989cc67a"
      },
      "outputs": [
        {
          "name": "stdout",
          "output_type": "stream",
          "text": [
            "{'id': 1234, 'name': 'John Smith', 'email': 'john.smith@example.com', 'phone': '555-555-1212'}\n"
          ]
        }
      ],
      "source": [
        "customer = {\n",
        "    \"id\": 1234,\n",
        "    \"name\": \"John Smith\",\n",
        "    \"email\": \"john@example.com\"\n",
        "}\n",
        "\n",
        "# Update the customer's email address\n",
        "customer[\"email\"] = \"john.smith@example.com\"\n",
        "\n",
        "# Add a new key-value pair\n",
        "customer[\"phone\"] = \"555-555-1212\"\n",
        "\n",
        "print(customer)"
      ]
    },
    {
      "cell_type": "code",
      "execution_count": null,
      "metadata": {
        "colab": {
          "base_uri": "https://localhost:8080/"
        },
        "id": "spaPR6n2HxRO",
        "outputId": "53a71451-932e-49fd-c12d-14f16fbf2211"
      },
      "outputs": [
        {
          "data": {
            "text/plain": [
              "dict_keys(['Name', 'Place', 'Weapon'])"
            ]
          },
          "execution_count": 48,
          "metadata": {},
          "output_type": "execute_result"
        }
      ],
      "source": [
        "marvel_dict.keys()"
      ]
    },
    {
      "cell_type": "code",
      "execution_count": null,
      "metadata": {
        "colab": {
          "base_uri": "https://localhost:8080/"
        },
        "id": "q8JNm_CCH9sg",
        "outputId": "a77c6a8c-9efa-498f-be38-fdde767861cc"
      },
      "outputs": [
        {
          "data": {
            "text/plain": [
              "dict_values(['Thor', 'Asgard', 'Hammer'])"
            ]
          },
          "execution_count": 50,
          "metadata": {},
          "output_type": "execute_result"
        }
      ],
      "source": [
        "marvel_dict.values()"
      ]
    },
    {
      "cell_type": "code",
      "execution_count": null,
      "metadata": {
        "colab": {
          "base_uri": "https://localhost:8080/"
        },
        "id": "it0niyrFIGeK",
        "outputId": "0ee5745a-5451-454d-fb6a-d81ba8af76aa"
      },
      "outputs": [
        {
          "data": {
            "text/plain": [
              "['Thor', 'Asgard', 'Hammer']"
            ]
          },
          "execution_count": 51,
          "metadata": {},
          "output_type": "execute_result"
        }
      ],
      "source": [
        "list(marvel_dict.values())"
      ]
    },
    {
      "cell_type": "code",
      "execution_count": null,
      "metadata": {
        "id": "l17jUoNGIXt_"
      },
      "outputs": [],
      "source": [
        "#Here's John's list:\n",
        "fruits=['Mango','Mango','Pineapple','Pineapple','Apple','Mango','Banana','Banana', 'Pineapple','Apple','Pineapple']"
      ]
    },
    {
      "cell_type": "code",
      "execution_count": null,
      "metadata": {
        "id": "i8eNPxhBIiHf"
      },
      "outputs": [],
      "source": [
        "\n",
        "# Step 2: Create an empty dictionary which will contain the unique fruit names\n",
        "fruit_dict={}\n",
        "\n",
        "# Set the values for each key separately\n",
        "\n",
        "# First Key\n",
        "fruit_dict['Mango']=  fruits.count(\"Mango\")  #use the count method you learned in Lists to get the count of Mango\n",
        "\n",
        "# Second Key\n",
        "fruit_dict['Pineapple']= fruits.count(\"Pineapple\")\n",
        "\n",
        "# Third Key\n",
        "fruit_dict['Apple']= fruits.count(\"Apple\")\n",
        "\n",
        "# Fourth Key\n",
        "fruit_dict['Banana']= fruits.count(\"Banana\")"
      ]
    },
    {
      "cell_type": "code",
      "execution_count": null,
      "metadata": {
        "colab": {
          "base_uri": "https://localhost:8080/"
        },
        "id": "8cB1PeqhI6Tu",
        "outputId": "8667e00a-ffc0-41d4-e678-7d5e15efd8c6"
      },
      "outputs": [
        {
          "name": "stdout",
          "output_type": "stream",
          "text": [
            "{'Mango': 3, 'Pineapple': 4, 'Apple': 2, 'Banana': 2}\n"
          ]
        }
      ],
      "source": [
        "\n",
        "print(fruit_dict)"
      ]
    },
    {
      "cell_type": "code",
      "execution_count": null,
      "metadata": {
        "id": "5WAocskpKRVY"
      },
      "outputs": [],
      "source": [
        "# Create an empty set\n",
        "empty_set = set()"
      ]
    },
    {
      "cell_type": "code",
      "execution_count": null,
      "metadata": {
        "id": "svul2H5HKdnc"
      },
      "outputs": [],
      "source": [
        "# Create a non-empty set within curly braces\n",
        "non_empty_set = {1,6,4,'abc'}"
      ]
    },
    {
      "cell_type": "code",
      "execution_count": null,
      "metadata": {
        "colab": {
          "base_uri": "https://localhost:8080/"
        },
        "id": "21sIZJnfKgRA",
        "outputId": "e3eaddf8-b761-406c-b4bb-a1e005c97d58"
      },
      "outputs": [
        {
          "data": {
            "text/plain": [
              "set"
            ]
          },
          "execution_count": 57,
          "metadata": {},
          "output_type": "execute_result"
        }
      ],
      "source": [
        "type(non_empty_set)"
      ]
    },
    {
      "cell_type": "code",
      "execution_count": null,
      "metadata": {
        "colab": {
          "base_uri": "https://localhost:8080/"
        },
        "id": "54vNIc6XOyEs",
        "outputId": "ea33d651-c4cc-41d5-c40a-d07d560beb1d"
      },
      "outputs": [
        {
          "name": "stdout",
          "output_type": "stream",
          "text": [
            "{2, 3, 4, 5, 7, 9}\n"
          ]
        }
      ],
      "source": [
        "my_set = {5,7,9,3}\n",
        "\n",
        "\n",
        "# add multiple elements\n",
        "my_set.update([2, 3, 4])\n",
        "print(my_set)"
      ]
    },
    {
      "cell_type": "code",
      "execution_count": null,
      "metadata": {
        "colab": {
          "base_uri": "https://localhost:8080/"
        },
        "id": "83sjPqinO3xl",
        "outputId": "5f8b8fde-02f4-4080-fbd4-1f4caa3faeb4"
      },
      "outputs": [
        {
          "data": {
            "text/plain": [
              "{1, 2, 3, 4, 5, 6, 7, 8}"
            ]
          },
          "execution_count": 59,
          "metadata": {},
          "output_type": "execute_result"
        }
      ],
      "source": [
        "# Initialize sets A and B\n",
        "A = {1, 2, 3, 4, 5}\n",
        "B = {4, 5, 6, 7, 8}\n",
        "\n",
        "\n",
        "A.union(B)\n"
      ]
    },
    {
      "cell_type": "code",
      "execution_count": null,
      "metadata": {
        "colab": {
          "base_uri": "https://localhost:8080/"
        },
        "id": "RZWCGOGJO9ID",
        "outputId": "9a56b748-453e-4589-8c84-4f0373583840"
      },
      "outputs": [
        {
          "data": {
            "text/plain": [
              "{4, 5}"
            ]
          },
          "execution_count": 60,
          "metadata": {},
          "output_type": "execute_result"
        }
      ],
      "source": [
        "A = {1, 2, 3, 4, 5}\n",
        "B = {4, 5, 6, 7, 8}\n",
        "\n",
        "\n",
        "A.intersection(B)\n"
      ]
    },
    {
      "cell_type": "code",
      "execution_count": null,
      "metadata": {
        "colab": {
          "base_uri": "https://localhost:8080/"
        },
        "id": "BEiYhudaPCj9",
        "outputId": "a22afd41-cdaa-4980-9dd6-8a569bc9496b"
      },
      "outputs": [
        {
          "data": {
            "text/plain": [
              "{1, 2, 3}"
            ]
          },
          "execution_count": 61,
          "metadata": {},
          "output_type": "execute_result"
        }
      ],
      "source": [
        "A = {1, 2, 3, 4, 5}\n",
        "B = {4, 5, 6, 7, 8}\n",
        "\n",
        "\n",
        "A.difference(B)"
      ]
    },
    {
      "cell_type": "code",
      "execution_count": null,
      "metadata": {
        "colab": {
          "base_uri": "https://localhost:8080/"
        },
        "id": "uFhcW2YDPIus",
        "outputId": "cb865728-8645-4375-a4b5-b695a73eacfd"
      },
      "outputs": [
        {
          "data": {
            "text/plain": [
              "{1, 2, 3, 6, 7, 8}"
            ]
          },
          "execution_count": 62,
          "metadata": {},
          "output_type": "execute_result"
        }
      ],
      "source": [
        "A = {1, 2, 3, 4, 5}\n",
        "B = {4, 5, 6, 7, 8}\n",
        "\n",
        "\n",
        "A.symmetric_difference(B)"
      ]
    },
    {
      "cell_type": "code",
      "execution_count": null,
      "metadata": {
        "colab": {
          "base_uri": "https://localhost:8080/"
        },
        "id": "C7qQGmbzUj8o",
        "outputId": "460303bc-ad73-4e18-be5f-840eb68c473c"
      },
      "outputs": [
        {
          "name": "stdout",
          "output_type": "stream",
          "text": [
            "o\n",
            "!\n"
          ]
        }
      ],
      "source": [
        "my_string = \"Hello, world!\"\n",
        "print(my_string[4]) # Output: \"H\"\n",
        "print(my_string[-1]) # Output: \"!\""
      ]
    },
    {
      "cell_type": "code",
      "execution_count": null,
      "metadata": {
        "id": "sOKX5fwCWrLx"
      },
      "outputs": [],
      "source": []
    },
    {
      "cell_type": "code",
      "execution_count": null,
      "metadata": {
        "colab": {
          "base_uri": "https://localhost:8080/"
        },
        "id": "wVmkEpy2U1bK",
        "outputId": "6bee8c5c-b0f4-400b-9926-00c29d939765"
      },
      "outputs": [
        {
          "name": "stdout",
          "output_type": "stream",
          "text": [
            "3\n",
            "5\n"
          ]
        }
      ],
      "source": [
        "my_tuple = (1, 2, 3, 4, 5)\n",
        "print(my_tuple[2]) # Output: 3\n",
        "print(my_tuple[-1]) # Output: 5"
      ]
    },
    {
      "cell_type": "code",
      "execution_count": null,
      "metadata": {
        "colab": {
          "base_uri": "https://localhost:8080/",
          "height": 184
        },
        "id": "c5ItXTyzVA68",
        "outputId": "59dcb9de-859f-404d-8b59-1bdad09f0830"
      },
      "outputs": [
        {
          "ename": "IndexError",
          "evalue": "ignored",
          "output_type": "error",
          "traceback": [
            "\u001b[0;31m---------------------------------------------------------------------------\u001b[0m",
            "\u001b[0;31mIndexError\u001b[0m                                Traceback (most recent call last)",
            "\u001b[0;32m<ipython-input-20-a2fb06d070d0>\u001b[0m in \u001b[0;36m<cell line: 2>\u001b[0;34m()\u001b[0m\n\u001b[1;32m      1\u001b[0m \u001b[0mmy_list\u001b[0m \u001b[0;34m=\u001b[0m \u001b[0;34m[\u001b[0m\u001b[0;36m1\u001b[0m\u001b[0;34m,\u001b[0m \u001b[0;36m2\u001b[0m\u001b[0;34m,\u001b[0m \u001b[0;36m3\u001b[0m\u001b[0;34m,\u001b[0m \u001b[0;36m4\u001b[0m\u001b[0;34m,\u001b[0m \u001b[0;36m5\u001b[0m\u001b[0;34m]\u001b[0m\u001b[0;34m\u001b[0m\u001b[0;34m\u001b[0m\u001b[0m\n\u001b[0;32m----> 2\u001b[0;31m \u001b[0mprint\u001b[0m\u001b[0;34m(\u001b[0m\u001b[0mmy_list\u001b[0m\u001b[0;34m[\u001b[0m\u001b[0;36m5\u001b[0m\u001b[0;34m]\u001b[0m\u001b[0;34m)\u001b[0m \u001b[0;31m# Output: 3\u001b[0m\u001b[0;34m\u001b[0m\u001b[0;34m\u001b[0m\u001b[0m\n\u001b[0m",
            "\u001b[0;31mIndexError\u001b[0m: list index out of range"
          ]
        }
      ],
      "source": [
        "my_list = [1, 2, 3, 4, 5]\n",
        "print(my_list[5]) # Output: 3\n"
      ]
    },
    {
      "cell_type": "code",
      "execution_count": null,
      "metadata": {
        "colab": {
          "base_uri": "https://localhost:8080/"
        },
        "id": "ExrJtMQhXE7w",
        "outputId": "3f4f5667-8ca0-4ce4-dc59-c2f3b86c8d5a"
      },
      "outputs": [
        {
          "name": "stdout",
          "output_type": "stream",
          "text": [
            "m\n"
          ]
        }
      ],
      "source": [
        "string=\"Almabetter!\"\n",
        "print(string[2])"
      ]
    },
    {
      "cell_type": "code",
      "execution_count": null,
      "metadata": {
        "colab": {
          "base_uri": "https://localhost:8080/"
        },
        "id": "6MiCT68DVc6N",
        "outputId": "26c62cb4-eed6-4745-f632-54a5b3ea5f4b"
      },
      "outputs": [
        {
          "name": "stdout",
          "output_type": "stream",
          "text": [
            "John\n",
            "New York\n"
          ]
        }
      ],
      "source": [
        "my_dict = {\"name\": \"John\", \"age\": 30, \"city\": \"New York\"}\n",
        "print(my_dict[\"name\"]) # Output: \"John\"\n",
        "print(my_dict[\"city\"]) # Output: \"New York\""
      ]
    },
    {
      "cell_type": "code",
      "execution_count": null,
      "metadata": {
        "colab": {
          "base_uri": "https://localhost:8080/"
        },
        "id": "Zx1i5eO8WIF_",
        "outputId": "b1dedefc-cfe5-44f7-d5a4-78dcb11ef984"
      },
      "outputs": [
        {
          "name": "stdout",
          "output_type": "stream",
          "text": [
            "Hello\n",
            "world!\n"
          ]
        }
      ],
      "source": [
        "my_string = \"Hello, world!\"\n",
        "print(my_string[0:5]) # Output: \"Hello\"\n",
        "print(my_string[7:]) # Output: \"world!\""
      ]
    },
    {
      "cell_type": "code",
      "execution_count": null,
      "metadata": {
        "colab": {
          "base_uri": "https://localhost:8080/"
        },
        "id": "J4ee25qWWswq",
        "outputId": "4a3b2a67-062a-4816-bdf0-fe51ffd36bf0"
      },
      "outputs": [
        {
          "name": "stdout",
          "output_type": "stream",
          "text": [
            "\n"
          ]
        }
      ],
      "source": [
        "my_string = \"strategy\"\n",
        "print(my_string[-1:-5])\n"
      ]
    },
    {
      "cell_type": "code",
      "execution_count": null,
      "metadata": {
        "colab": {
          "base_uri": "https://localhost:8080/"
        },
        "id": "GC_kbcV8XLeV",
        "outputId": "53b6138c-20e4-4030-fc63-5e39b12d5ced"
      },
      "outputs": [
        {
          "name": "stdout",
          "output_type": "stream",
          "text": [
            "\n"
          ]
        }
      ],
      "source": [
        "my_string = \"strategy\"\n",
        "print(my_string[-1: 2])"
      ]
    },
    {
      "cell_type": "code",
      "execution_count": null,
      "metadata": {
        "colab": {
          "base_uri": "https://localhost:8080/"
        },
        "id": "CJzPBknsXWVI",
        "outputId": "4a019f22-1d1f-44e6-fb14-c434f24fd370"
      },
      "outputs": [
        {
          "name": "stdout",
          "output_type": "stream",
          "text": [
            "(2, 3)\n",
            "(1, 2)\n",
            "\n"
          ]
        }
      ],
      "source": [
        "my_tuple = (1, 2, 3, 4, 5)\n",
        "print(my_tuple[1:3]) # Output: (2, 3)\n",
        "print(my_tuple[:2]) # Output: (1, 2)\n",
        "\n",
        "my_string = \"strategy\"\n",
        "print(my_string[-1: 2])"
      ]
    },
    {
      "cell_type": "code",
      "execution_count": null,
      "metadata": {
        "colab": {
          "base_uri": "https://localhost:8080/"
        },
        "id": "OXjglV5BXh6w",
        "outputId": "5dfac652-ba80-4c5a-ec80-55cf0c8b6cd4"
      },
      "outputs": [
        {
          "name": "stdout",
          "output_type": "stream",
          "text": [
            "[3, 4, 5]\n",
            "[1, 2, 3]\n",
            "[2, 4]\n"
          ]
        }
      ],
      "source": [
        "my_list = [1, 2, 3, 4, 5]\n",
        "print(my_list[2:]) # Output: [3, 4, 5]\n",
        "print(my_list[:3]) # Output: [1, 2, 3]\n",
        "print(my_list[1:4:2]) # Output: [2, 4]\n"
      ]
    },
    {
      "cell_type": "code",
      "execution_count": null,
      "metadata": {
        "colab": {
          "base_uri": "https://localhost:8080/"
        },
        "id": "4c4X7H-EJQen",
        "outputId": "ceeb9372-2f5e-448c-e99a-1b736e1f93b5"
      },
      "outputs": [
        {
          "name": "stdout",
          "output_type": "stream",
          "text": [
            "3\n",
            "5\n"
          ]
        }
      ],
      "source": [
        "my_list = [1, 2, 3, 4, 5]\n",
        "print(my_list[2]) # Output: 3\n",
        "print(my_list[-1]) # Output: 5"
      ]
    },
    {
      "cell_type": "code",
      "execution_count": null,
      "metadata": {
        "colab": {
          "base_uri": "https://localhost:8080/"
        },
        "id": "wKvFckR8Jdq-",
        "outputId": "7549df83-043a-47fa-8165-2a6d5bd3860d"
      },
      "outputs": [
        {
          "name": "stdout",
          "output_type": "stream",
          "text": [
            "[2, 3, 4, 5]\n"
          ]
        }
      ],
      "source": [
        "print(my_list[1:]) # Output: 5"
      ]
    },
    {
      "cell_type": "code",
      "execution_count": null,
      "metadata": {
        "colab": {
          "base_uri": "https://localhost:8080/"
        },
        "id": "6RxC-nFvPA35",
        "outputId": "b01ed8cd-aa8d-4687-be63-f7c44d8881af"
      },
      "outputs": [
        {
          "name": "stdout",
          "output_type": "stream",
          "text": [
            "Hello\n",
            "world!\n"
          ]
        }
      ],
      "source": [
        "\n",
        "my_string = \"Hello, world!\"\n",
        "print(my_string[0:5]) # Output: \"Hello\"\n",
        "print(my_string[7:]) # Output: \"world!\""
      ]
    },
    {
      "cell_type": "code",
      "execution_count": null,
      "metadata": {
        "colab": {
          "base_uri": "https://localhost:8080/",
          "height": 35
        },
        "id": "rBR-C705PKdy",
        "outputId": "5f9f91b4-c018-40be-8205-ada7f05ccc4c"
      },
      "outputs": [
        {
          "data": {
            "application/vnd.google.colaboratory.intrinsic+json": {
              "type": "string"
            },
            "text/plain": [
              "'Hlo ol!'"
            ]
          },
          "execution_count": 6,
          "metadata": {},
          "output_type": "execute_result"
        }
      ],
      "source": [
        "my_string[::2]"
      ]
    },
    {
      "cell_type": "code",
      "execution_count": null,
      "metadata": {
        "colab": {
          "base_uri": "https://localhost:8080/",
          "height": 35
        },
        "id": "mig4blhEPcE-",
        "outputId": "114174be-caf2-47e9-c47c-5f828f61feb8"
      },
      "outputs": [
        {
          "data": {
            "application/vnd.google.colaboratory.intrinsic+json": {
              "type": "string"
            },
            "text/plain": [
              "'!dlrow ,olleH'"
            ]
          },
          "execution_count": 7,
          "metadata": {},
          "output_type": "execute_result"
        }
      ],
      "source": [
        "my_string[::-1]"
      ]
    },
    {
      "cell_type": "code",
      "execution_count": null,
      "metadata": {
        "colab": {
          "base_uri": "https://localhost:8080/"
        },
        "id": "LArkukB6PnxD",
        "outputId": "a4218e13-5624-41a9-ee56-694b0b82b4af"
      },
      "outputs": [
        {
          "name": "stdout",
          "output_type": "stream",
          "text": [
            "yget\n"
          ]
        }
      ],
      "source": [
        "my_string = \"Strategy\"\n",
        "print(my_string[:-5:-1])"
      ]
    },
    {
      "cell_type": "code",
      "execution_count": null,
      "metadata": {
        "colab": {
          "base_uri": "https://localhost:8080/"
        },
        "id": "HLHyEEBmTz8y",
        "outputId": "174192de-78a4-4fe6-c6cc-358fb5d0d5e5"
      },
      "outputs": [
        {
          "name": "stdout",
          "output_type": "stream",
          "text": [
            "['Spider-Man', 'Iron Man', 'Hulk', 'Thor', 'Black Widow', 'Captain America']\n"
          ]
        }
      ],
      "source": [
        "\n",
        "#Here's the list\n",
        "marvel_words = ['Avengers', 'X-Men', 'Spider-Man', 'Iron Man', 'Hulk', 'Thor', 'Black Widow', 'Captain America', 'Wolverine', 'Doctor Strange','Namor']\n",
        "\n",
        "print(marvel_words[2:8])"
      ]
    },
    {
      "cell_type": "code",
      "execution_count": null,
      "metadata": {
        "colab": {
          "base_uri": "https://localhost:8080/"
        },
        "id": "TLkGD0JqUJtn",
        "outputId": "8af51d23-3586-4e01-d2ba-8caa12cfe296"
      },
      "outputs": [
        {
          "name": "stdout",
          "output_type": "stream",
          "text": [
            "['Avengers', 'Spider-Man', 'Hulk', 'Black Widow', 'Wolverine', 'Namor']\n"
          ]
        }
      ],
      "source": [
        "print(marvel_words[: : 2])"
      ]
    },
    {
      "cell_type": "code",
      "execution_count": null,
      "metadata": {
        "id": "inSebRRpdS7T"
      },
      "outputs": [],
      "source": []
    },
    {
      "cell_type": "code",
      "execution_count": null,
      "metadata": {
        "colab": {
          "base_uri": "https://localhost:8080/"
        },
        "id": "hyHq7mtsUbgz",
        "outputId": "ff1429f1-3a7a-4715-df97-2d8dfa49a72e"
      },
      "outputs": [
        {
          "name": "stdout",
          "output_type": "stream",
          "text": [
            "['X-Men', 'Iron Man', 'Thor', 'Captain America', 'Doctor Strange']\n"
          ]
        }
      ],
      "source": [
        "print(marvel_words[1: : 2])"
      ]
    },
    {
      "cell_type": "code",
      "execution_count": null,
      "metadata": {
        "id": "4nCEXDFYdT1O"
      },
      "outputs": [],
      "source": []
    },
    {
      "cell_type": "code",
      "execution_count": null,
      "metadata": {
        "colab": {
          "base_uri": "https://localhost:8080/"
        },
        "id": "t5OnADvpMffO",
        "outputId": "95cde9be-0f57-4faa-9bec-6df7a70c8a7d"
      },
      "outputs": [
        {
          "name": "stdout",
          "output_type": "stream",
          "text": [
            "13\n",
            "7\n",
            "30\n",
            "3.3333333333333335\n",
            "1\n",
            "3\n"
          ]
        }
      ],
      "source": [
        "x = 10\n",
        "y = 3\n",
        "\n",
        "print(x + y)\n",
        "print(x - y)\n",
        "print(x * y)\n",
        "print(x / y)\n",
        "print(x%y)\n",
        "print(x//y)\n"
      ]
    },
    {
      "cell_type": "code",
      "execution_count": null,
      "metadata": {
        "colab": {
          "base_uri": "https://localhost:8080/"
        },
        "id": "xrlT4n3dNu3k",
        "outputId": "20e65909-8f92-464c-ae58-04be96ca639b"
      },
      "outputs": [
        {
          "name": "stdout",
          "output_type": "stream",
          "text": [
            "False\n",
            "True\n",
            "False\n",
            "True\n",
            "False\n",
            "True\n"
          ]
        }
      ],
      "source": [
        "x = 5\n",
        "y = 10\n",
        "\n",
        "print(x == y)\n",
        "print(x != y)\n",
        "print(x > y)\n",
        "print(x < y)\n",
        "print(x >= y)\n",
        "print(x <= y)"
      ]
    },
    {
      "cell_type": "code",
      "execution_count": null,
      "metadata": {
        "colab": {
          "base_uri": "https://localhost:8080/"
        },
        "id": "e4LKizSOTGYK",
        "outputId": "96e0d650-c980-46c1-d7f5-9e5b8fd311d3"
      },
      "outputs": [
        {
          "name": "stdout",
          "output_type": "stream",
          "text": [
            "True\n",
            "False\n"
          ]
        }
      ],
      "source": [
        "sentence = \"The quick brown fox jumps over the lazy dog\"\n",
        "print(\"fox\" in sentence)   # True\n",
        "print(\"cat\" in sentence)   # False\n"
      ]
    },
    {
      "cell_type": "code",
      "execution_count": null,
      "metadata": {
        "colab": {
          "base_uri": "https://localhost:8080/"
        },
        "id": "hsPb-gAGTfcU",
        "outputId": "245c35ef-fc3a-4983-8d52-4540f903c644"
      },
      "outputs": [
        {
          "name": "stdout",
          "output_type": "stream",
          "text": [
            "1\n"
          ]
        }
      ],
      "source": [
        "books = [\n",
        "    \"Python for Data Science Handbook by Jake VanderPlas\",\n",
        "    \"The Pragmatic Programmer by Andrew Hunt and David Thomas\",\n",
        "    \"Python Machine Learning by Sebastian Raschka\",\n",
        "    \"The Alchemist by Paulo Coelho\",\n",
        "]\n",
        "#print(\"Python\" in books)\n",
        "\"Python\" in books[2]\n",
        "\n",
        "\n",
        "count=0\n",
        "\n",
        "\n",
        "count=count+1\n",
        "print(count)\n",
        "\n"
      ]
    },
    {
      "cell_type": "code",
      "execution_count": null,
      "metadata": {
        "colab": {
          "base_uri": "https://localhost:8080/"
        },
        "id": "iUzRcUrtV2Ol",
        "outputId": "800ffcba-fec5-4f40-f0c9-b31e217eca5f"
      },
      "outputs": [
        {
          "name": "stdout",
          "output_type": "stream",
          "text": [
            "Hello world\n",
            "spamspamspam\n"
          ]
        }
      ],
      "source": [
        "# concatenation\n",
        "string1 = \"Hello\"\n",
        "string2 = \"world\"\n",
        "result = string1 + \" \" + string2\n",
        "print(result)  # Output: \"Hello world\"\n",
        "\n",
        "# repetition\n",
        "string = \"spam\"\n",
        "result = string * 3\n",
        "print(result)  # Output: \"spamspamspam\""
      ]
    },
    {
      "cell_type": "code",
      "execution_count": null,
      "metadata": {
        "colab": {
          "base_uri": "https://localhost:8080/"
        },
        "id": "s68L1DShV7to",
        "outputId": "13574d21-26a0-4d77-9fe7-c587cc07000c"
      },
      "outputs": [
        {
          "name": "stdout",
          "output_type": "stream",
          "text": [
            "True\n",
            "False\n"
          ]
        }
      ],
      "source": [
        "# checking if a substring exists in a string\n",
        "string = \"Hello world\"\n",
        "print(\"world\" in string)   # Output: True\n",
        "print(\"Python\" in string)  # Output: False\n"
      ]
    },
    {
      "cell_type": "code",
      "execution_count": null,
      "metadata": {
        "colab": {
          "base_uri": "https://localhost:8080/"
        },
        "id": "y4M7gx-yp1n_",
        "outputId": "97584056-2d8b-47c2-aaac-513829770b1d"
      },
      "outputs": [
        {
          "name": "stdout",
          "output_type": "stream",
          "text": [
            "Enter your name: tyagi\n",
            "Hello, tyagi!\n"
          ]
        }
      ],
      "source": [
        "name = input(\"Enter your name: \")\n",
        "print(\"Hello, \" + name + \"!\")"
      ]
    },
    {
      "cell_type": "code",
      "execution_count": null,
      "metadata": {
        "colab": {
          "base_uri": "https://localhost:8080/"
        },
        "id": "oLWHL_XQqo8X",
        "outputId": "3268e9d8-d1c9-40bf-a717-6a3dd42f18cd"
      },
      "outputs": [
        {
          "name": "stdout",
          "output_type": "stream",
          "text": [
            "Enter your age: 67\n",
            "You will be 68 next year.\n"
          ]
        }
      ],
      "source": [
        "age_str = input(\"Enter your age: \")\n",
        "age = int(age_str)\n",
        "print(\"You will be \" + str(age + 1) + \" next year.\")"
      ]
    },
    {
      "cell_type": "code",
      "execution_count": null,
      "metadata": {
        "colab": {
          "base_uri": "https://localhost:8080/"
        },
        "id": "rlLC5tfer70k",
        "outputId": "3b27caaf-ce42-4321-cfd6-fb787b38fef6"
      },
      "outputs": [
        {
          "name": "stdout",
          "output_type": "stream",
          "text": [
            "my_list - [1, 2, 3]\n",
            "my_dict - {'name': 'John', 'age': 30}\n",
            "my_set - {'cherry', 'banana', 'apple'}\n",
            "my_tuple - (1, 2, 3)\n",
            "my_string - Hello, world!\n",
            "my_int - 42\n"
          ]
        }
      ],
      "source": [
        "# Create a new list object\n",
        "my_list = list([1, 2, 3])\n",
        "print(\"my_list -\", my_list)  # Output: my_list - [1, 2, 3]\n",
        "\n",
        "\n",
        "# Create a new dictionary object\n",
        "my_dict = dict({'name': 'John', 'age': 30})\n",
        "print(\"my_dict -\", my_dict)  # Output: my_dict - {'name': 'John', 'age': 30}\n",
        "\n",
        "\n",
        "# Create a new set object\n",
        "my_set = set(['apple', 'banana', 'cherry', 'apple'])\n",
        "print(\"my_set -\", my_set)  # Output: my_set - {'apple', 'banana', 'cherry'}\n",
        "\n",
        "\n",
        "# Create a new tuple object\n",
        "my_tuple = tuple((1, 2, 3))\n",
        "print(\"my_tuple -\", my_tuple)  # Output: my_tuple - (1, 2, 3)\n",
        "\n",
        "\n",
        "# Create a new string object\n",
        "my_string = str('Hello, world!')\n",
        "print(\"my_string -\", my_string)  # Output: my_string - Hello, world!\n",
        "\n",
        "\n",
        "# Create a new integer object\n",
        "my_int = int(42)\n",
        "print(\"my_int -\", my_int)  # Output: my_int - 42\n"
      ]
    },
    {
      "cell_type": "code",
      "execution_count": null,
      "metadata": {
        "colab": {
          "base_uri": "https://localhost:8080/"
        },
        "id": "SlbkcjrOs2JJ",
        "outputId": "714e9540-b384-42af-f10c-367f55b5d3ef"
      },
      "outputs": [
        {
          "name": "stdout",
          "output_type": "stream",
          "text": [
            "Type casting from int to str: <class 'int'> <class 'str'>\n"
          ]
        }
      ],
      "source": [
        "# Type casting from int to str\n",
        "\n",
        "my_int = 42\n",
        "my_string = str(my_int)\n",
        "print(\"Type casting from int to str:\", type(my_int), type(my_string))"
      ]
    },
    {
      "cell_type": "code",
      "execution_count": null,
      "metadata": {
        "colab": {
          "base_uri": "https://localhost:8080/"
        },
        "id": "n2YLVq9vu9nF",
        "outputId": "d251d1de-aa7f-4b82-d5a5-85b5b9b43105"
      },
      "outputs": [
        {
          "name": "stdout",
          "output_type": "stream",
          "text": [
            "Original list: [3, 1, 4, 1, 5, 9, 2, 6, 5, 3]\n",
            "Sorted list: [1, 1, 2, 3, 3, 4, 5, 5, 6, 9]\n"
          ]
        }
      ],
      "source": [
        "#1. sorted() - sorts a list object in ascending order\n",
        "\n",
        "my_list = [3, 1, 4, 1, 5, 9, 2, 6, 5, 3]\n",
        "sorted_list = sorted(my_list)\n",
        "print(\"Original list:\", my_list)\n",
        "print(\"Sorted list:\", sorted_list)"
      ]
    },
    {
      "cell_type": "code",
      "execution_count": null,
      "metadata": {
        "colab": {
          "base_uri": "https://localhost:8080/"
        },
        "id": "lHOEqeCMvIHD",
        "outputId": "931d1665-287a-47f6-8043-00bf8d66e164"
      },
      "outputs": [
        {
          "name": "stdout",
          "output_type": "stream",
          "text": [
            "Original list: [1, 2, 3, 4]\n",
            "List after appending 5: [1, 2, 3, 4, 5]\n"
          ]
        }
      ],
      "source": [
        "my_list = [1, 2, 3, 4]\n",
        "print(\"Original list:\", my_list)\n",
        "my_list.append(5)\n",
        "print(\"List after appending 5:\", my_list)"
      ]
    },
    {
      "cell_type": "code",
      "execution_count": null,
      "metadata": {
        "colab": {
          "base_uri": "https://localhost:8080/"
        },
        "id": "Yjm0P1xjvK33",
        "outputId": "78367b9b-66d9-4f22-916d-891edaff33d0"
      },
      "outputs": [
        {
          "name": "stdout",
          "output_type": "stream",
          "text": [
            "Original dictionary: {'name': 'John', 'age': 30}\n",
            "Dictionary after updating: {'name': 'John', 'age': 31, 'gender': 'Male'}\n"
          ]
        }
      ],
      "source": [
        "\n",
        "#3. update() - adds or updates a key-value pair in a dictionary\n",
        "\n",
        "my_dict = {\"name\": \"John\", \"age\": 30}\n",
        "print(\"Original dictionary:\", my_dict)\n",
        "my_dict.update({\"age\": 31, \"gender\": \"Male\"})\n",
        "print(\"Dictionary after updating:\", my_dict)"
      ]
    },
    {
      "cell_type": "code",
      "execution_count": null,
      "metadata": {
        "colab": {
          "base_uri": "https://localhost:8080/"
        },
        "id": "JpBqQfYbvNoP",
        "outputId": "f28c5e36-979e-49a1-9fdd-6eef860dbdf0"
      },
      "outputs": [
        {
          "name": "stdout",
          "output_type": "stream",
          "text": [
            "Original string: Hello, World!\n",
            "String after replacing: Hello, Python!\n"
          ]
        }
      ],
      "source": [
        "#4. replace() - replaces a substring in a string with a new substring\n",
        "\n",
        "my_string = \"Hello, World!\"\n",
        "new_string = my_string.replace(\"World\", \"Python\")\n",
        "print(\"Original string:\", my_string)\n",
        "print(\"String after replacing:\", new_string)\n"
      ]
    },
    {
      "cell_type": "code",
      "execution_count": null,
      "metadata": {
        "colab": {
          "base_uri": "https://localhost:8080/"
        },
        "id": "IrCSnKxCvQfN",
        "outputId": "4c25e60c-b74e-4ab0-be8a-d1a973408952"
      },
      "outputs": [
        {
          "name": "stdout",
          "output_type": "stream",
          "text": [
            "Original list: [1, 2, 3]\n",
            "List after extending: [1, 2, 3, 4, 5, 6]\n"
          ]
        }
      ],
      "source": [
        "#5. extend() - adds multiple elements to the end of a list\n",
        "\n",
        "my_list = [1, 2, 3]\n",
        "print(\"Original list:\", my_list)\n",
        "my_list.extend([4, 5, 6])\n",
        "print(\"List after extending:\", my_list)"
      ]
    },
    {
      "cell_type": "code",
      "execution_count": null,
      "metadata": {
        "colab": {
          "base_uri": "https://localhost:8080/"
        },
        "id": "aJxWPKPl397H",
        "outputId": "c83ff73b-2935-4968-a01a-355c3734d07e"
      },
      "outputs": [
        {
          "name": "stdout",
          "output_type": "stream",
          "text": [
            "bear\n"
          ]
        }
      ],
      "source": [
        "animals=['Bear','bear']\n",
        "print(max(animals))  #What do you think would be the result?"
      ]
    },
    {
      "cell_type": "code",
      "execution_count": null,
      "metadata": {
        "colab": {
          "base_uri": "https://localhost:8080/"
        },
        "id": "7XGZj_ex5L9p",
        "outputId": "3bff0be4-fd23-490e-ee08-a6a7c54fa9b1"
      },
      "outputs": [
        {
          "name": "stdout",
          "output_type": "stream",
          "text": [
            "List after inserting item: [4, 2, 7, 8, 1, 6, 5] \n",
            "\n",
            "Reversed list: [5, 6, 1, 8, 7, 2, 4] \n",
            "\n",
            "New copied list: [5, 6, 1, 8, 7, 2, 4] \n",
            "\n"
          ]
        }
      ],
      "source": [
        "\n",
        "# create a list\n",
        "my_list = [4, 2, 8, 1, 6, 5]\n",
        "\n",
        "my_list.insert(2, 7)    # Syntax - my_list.append(index, element)\n",
        "print(\"List after inserting item:\", my_list,'\\n')\n",
        "\n",
        "my_list.reverse()\n",
        "print(\"Reversed list:\", my_list,'\\n')\n",
        "\n",
        "new_list = my_list.copy()\n",
        "print(\"New copied list:\", new_list,'\\n')\n"
      ]
    },
    {
      "cell_type": "code",
      "execution_count": null,
      "metadata": {
        "colab": {
          "base_uri": "https://localhost:8080/"
        },
        "id": "JqQW7w5z5d_L",
        "outputId": "15415cc5-4740-4fdf-d36b-9e678fdeeb07"
      },
      "outputs": [
        {
          "name": "stdout",
          "output_type": "stream",
          "text": [
            "My Movie Collection: ['The Godfather', 'The Shawshank Redemption', 'The Dark Knight', 'Pulp Fiction', 'Goodfellas']\n"
          ]
        }
      ],
      "source": [
        "# start with an empty list\n",
        "\n",
        "movie_collection = []\n",
        "\n",
        "\n",
        "# Add some movies to the collection using the append() method\n",
        "\n",
        "movie_collection.append(\"The Godfather\")\n",
        "movie_collection.append(\"The Shawshank Redemption\")\n",
        "movie_collection.append(\"The Dark Knight\")\n",
        "movie_collection.append(\"Pulp Fiction\")\n",
        "movie_collection.append(\"Goodfellas\")\n",
        "\n",
        "\n",
        "# Print the current collection of movies\n",
        "\n",
        "print(\"My Movie Collection:\", movie_collection)\n"
      ]
    },
    {
      "cell_type": "code",
      "execution_count": null,
      "metadata": {
        "colab": {
          "base_uri": "https://localhost:8080/"
        },
        "id": "nWuZ2t2E7piW",
        "outputId": "41b16d7e-5ee9-4383-b96f-90c08dae1655"
      },
      "outputs": [
        {
          "name": "stdout",
          "output_type": "stream",
          "text": [
            "36\n"
          ]
        }
      ],
      "source": [
        "my_list = [2, 4, 6, 6, 8, 10]\n",
        "print(sum(my_list))"
      ]
    },
    {
      "cell_type": "code",
      "execution_count": null,
      "metadata": {
        "colab": {
          "base_uri": "https://localhost:8080/"
        },
        "id": "EjqB3iTR8PnR",
        "outputId": "2983e6d3-429f-492c-bc29-958f561ce534"
      },
      "outputs": [
        {
          "name": "stdout",
          "output_type": "stream",
          "text": [
            "7\n"
          ]
        }
      ],
      "source": [
        "temperatures = (-5, 12, 4, 8, -2)\n",
        "print(max(temperatures) + min(temperatures))"
      ]
    },
    {
      "cell_type": "code",
      "execution_count": null,
      "metadata": {
        "colab": {
          "base_uri": "https://localhost:8080/"
        },
        "id": "M9dWh8pP8iYe",
        "outputId": "aa1e9c86-5093-4b1b-b1e4-4ab81508e656"
      },
      "outputs": [
        {
          "name": "stdout",
          "output_type": "stream",
          "text": [
            "dog\n"
          ]
        }
      ],
      "source": [
        "my_list = ['cat', 'dog', 'bear', \"Dog\"]\n",
        "print(max(my_list))"
      ]
    },
    {
      "cell_type": "code",
      "execution_count": null,
      "metadata": {
        "colab": {
          "base_uri": "https://localhost:8080/",
          "height": 131
        },
        "id": "QvPyAgQy9HWK",
        "outputId": "10ad5d98-48db-4f10-9200-976dce0fb7fb"
      },
      "outputs": [
        {
          "ename": "SyntaxError",
          "evalue": "ignored",
          "output_type": "error",
          "traceback": [
            "\u001b[0;36m  File \u001b[0;32m\"<ipython-input-21-f09612343a73>\"\u001b[0;36m, line \u001b[0;32m2\u001b[0m\n\u001b[0;31m    len(input(\"string\"))?\u001b[0m\n\u001b[0m                        ^\u001b[0m\n\u001b[0;31mSyntaxError\u001b[0m\u001b[0;31m:\u001b[0m invalid syntax\n"
          ]
        }
      ],
      "source": [
        "#len=\"Vahid\"\n",
        "len(input(\"string\"))?"
      ]
    },
    {
      "cell_type": "code",
      "execution_count": null,
      "metadata": {
        "colab": {
          "base_uri": "https://localhost:8080/"
        },
        "id": "sEaW3olcaFph",
        "outputId": "c012d37f-a899-494a-d575-b7278e5b7679"
      },
      "outputs": [
        {
          "name": "stdout",
          "output_type": "stream",
          "text": [
            "Enter Your NameJack\n",
            "HelloJack!\n"
          ]
        }
      ],
      "source": [
        "name = input(\"Enter Your Name\")\n",
        "print(\"Hello\" + name + \"!\")"
      ]
    },
    {
      "cell_type": "code",
      "execution_count": null,
      "metadata": {
        "colab": {
          "base_uri": "https://localhost:8080/"
        },
        "id": "7Nt5ZUxAaoM8",
        "outputId": "8c914069-cc18-4421-9b08-1f29f4d881cb"
      },
      "outputs": [
        {
          "name": "stdout",
          "output_type": "stream",
          "text": [
            "enter your age65\n",
            "65\n",
            "you will be66nexy year.\n"
          ]
        }
      ],
      "source": [
        "age_str = input(\"enter your age\")\n",
        "age = int(age_str)\n",
        "print(age)\n",
        "print(\"you will be\" + str(age+1) + \"nexy year.\")"
      ]
    },
    {
      "cell_type": "code",
      "execution_count": null,
      "metadata": {
        "colab": {
          "base_uri": "https://localhost:8080/"
        },
        "id": "_1IQxnpwbz86",
        "outputId": "09cb929c-f70e-4c7a-90b6-296866fd901f"
      },
      "outputs": [
        {
          "name": "stdout",
          "output_type": "stream",
          "text": [
            "my_list - [1, 2, 3, [1, 2, 3, 4]]\n"
          ]
        }
      ],
      "source": [
        "\n",
        "# Create a new list object\n",
        "my_list = list([1, 2, 3,[1,2,3,4]])\n",
        "print(\"my_list -\", my_list)  # Output: my_list - [1, 2, 3]"
      ]
    },
    {
      "cell_type": "code",
      "execution_count": null,
      "metadata": {
        "colab": {
          "base_uri": "https://localhost:8080/"
        },
        "id": "WkCVb2l2cRST",
        "outputId": "5f3f9295-8221-4d9c-f495-3dbf4f0eb92b"
      },
      "outputs": [
        {
          "name": "stdout",
          "output_type": "stream",
          "text": [
            "my_set - {'apple [\"banana\",\"apple\",\"apple\"]', 'apple', 'cherry', 'banana'}\n",
            "my_listt - ['apple', 'banana', 'cherry', 'apple']\n"
          ]
        }
      ],
      "source": [
        "# Create a new set object\n",
        "my_set = set(['apple','apple', 'banana', 'cherry', 'apple [\"banana\",\"apple\",\"apple\"]', 'apple [\"banana\",\"apple\",\"apple\"]'])\n",
        "print(\"my_set -\", my_set)  # Output: my_set - {'apple', 'banana', 'cherry'}\n",
        "\n",
        "# Create a new set object\n",
        "my_listt = list(['apple', 'banana', 'cherry', 'apple'])\n",
        "print(\"my_listt -\", my_listt)\n"
      ]
    },
    {
      "cell_type": "code",
      "execution_count": null,
      "metadata": {
        "colab": {
          "base_uri": "https://localhost:8080/",
          "height": 201
        },
        "id": "wqGT_-nSd0rp",
        "outputId": "a5a078f7-bc64-47e1-a266-79bbdec44847"
      },
      "outputs": [
        {
          "ename": "TypeError",
          "evalue": "ignored",
          "output_type": "error",
          "traceback": [
            "\u001b[0;31m---------------------------------------------------------------------------\u001b[0m",
            "\u001b[0;31mTypeError\u001b[0m                                 Traceback (most recent call last)",
            "\u001b[0;32m<ipython-input-12-4fe7dc34e693>\u001b[0m in \u001b[0;36m<cell line: 2>\u001b[0;34m()\u001b[0m\n\u001b[1;32m      1\u001b[0m \u001b[0mint_v\u001b[0m \u001b[0;34m=\u001b[0m \u001b[0;36m42\u001b[0m\u001b[0;34m\u001b[0m\u001b[0;34m\u001b[0m\u001b[0m\n\u001b[0;32m----> 2\u001b[0;31m \u001b[0mmy_str1\u001b[0m \u001b[0;34m=\u001b[0m \u001b[0mstr\u001b[0m\u001b[0;34m[\u001b[0m\u001b[0mint_v\u001b[0m\u001b[0;34m]\u001b[0m\u001b[0;34m\u001b[0m\u001b[0;34m\u001b[0m\u001b[0m\n\u001b[0m\u001b[1;32m      3\u001b[0m \u001b[0mprint\u001b[0m\u001b[0;34m(\u001b[0m\u001b[0mmy_str1\u001b[0m\u001b[0;34m)\u001b[0m\u001b[0;34m\u001b[0m\u001b[0;34m\u001b[0m\u001b[0m\n",
            "\u001b[0;31mTypeError\u001b[0m: 'type' object is not subscriptable"
          ]
        }
      ],
      "source": [
        "int_v = 42\n",
        "my_str1 = str[int_v]\n",
        "print(my_str1)"
      ]
    },
    {
      "cell_type": "code",
      "execution_count": null,
      "metadata": {
        "colab": {
          "base_uri": "https://localhost:8080/"
        },
        "id": "082_MPADeVFV",
        "outputId": "f1b31ca7-a296-4559-aa77-8260b7b31760"
      },
      "outputs": [
        {
          "name": "stdout",
          "output_type": "stream",
          "text": [
            "42\n"
          ]
        }
      ],
      "source": [
        "my_int = 42\n",
        "my_string = str(my_int)\n",
        "print(my_string)"
      ]
    },
    {
      "cell_type": "code",
      "source": [],
      "metadata": {
        "id": "iupyCAm-RO4K"
      },
      "execution_count": null,
      "outputs": []
    },
    {
      "cell_type": "code",
      "source": [],
      "metadata": {
        "id": "1f-Ye1vvRO8w"
      },
      "execution_count": null,
      "outputs": []
    },
    {
      "cell_type": "markdown",
      "metadata": {
        "id": "gXCCL_4axJp7"
      },
      "source": [
        "marks= int(input(\"Enter the marks\"))\n",
        "#marks = int(mark)\n",
        "if marks>90:\n",
        "  print(\"Grade - A\")\n",
        "elif marks>80:\n",
        "  print(\"Grade - B\")\n",
        "elif marks>70:\n",
        "  print(\"Grade - C\")\n",
        "elif marks>60:\n",
        "  print(\"Grade - D\")\n",
        "else:\n",
        "  print(\"Pass\")"
      ]
    },
    {
      "cell_type": "code",
      "execution_count": null,
      "metadata": {
        "colab": {
          "base_uri": "https://localhost:8080/",
          "height": 253
        },
        "id": "8PX2OQDxmAjN",
        "outputId": "fa99aede-0703-44b5-c8b4-ef490d9495c6"
      },
      "outputs": [
        {
          "ename": "ValueError",
          "evalue": "ignored",
          "output_type": "error",
          "traceback": [
            "\u001b[0;31m---------------------------------------------------------------------------\u001b[0m",
            "\u001b[0;31mValueError\u001b[0m                                Traceback (most recent call last)",
            "\u001b[0;32m<ipython-input-6-4869d6f958b3>\u001b[0m in \u001b[0;36m<cell line: 3>\u001b[0;34m()\u001b[0m\n\u001b[1;32m      1\u001b[0m \u001b[0mstatement\u001b[0m\u001b[0;34m=\u001b[0m \u001b[0;34m\"arnav is writing a book titled 'python made easy'. His book is expected to release in March\"\u001b[0m\u001b[0;34m\u001b[0m\u001b[0;34m\u001b[0m\u001b[0m\n\u001b[1;32m      2\u001b[0m \u001b[0;34m\u001b[0m\u001b[0m\n\u001b[0;32m----> 3\u001b[0;31m \u001b[0msentence_list\u001b[0m\u001b[0;34m=\u001b[0m\u001b[0mstatement\u001b[0m\u001b[0;34m.\u001b[0m\u001b[0msplit\u001b[0m\u001b[0;34m(\u001b[0m\u001b[0;34m\"\"\u001b[0m\u001b[0;34m)\u001b[0m   \u001b[0;31m# What would you split the string on?\u001b[0m\u001b[0;34m\u001b[0m\u001b[0;34m\u001b[0m\u001b[0m\n\u001b[0m\u001b[1;32m      4\u001b[0m \u001b[0;34m\u001b[0m\u001b[0m\n\u001b[1;32m      5\u001b[0m \u001b[0mprint\u001b[0m\u001b[0;34m(\u001b[0m\u001b[0msentence_list\u001b[0m\u001b[0;34m)\u001b[0m\u001b[0;34m\u001b[0m\u001b[0;34m\u001b[0m\u001b[0m\n",
            "\u001b[0;31mValueError\u001b[0m: empty separator"
          ]
        }
      ],
      "source": [
        "statement= \"arnav is writing a book titled 'python made easy'. His book is expected to release in March\"\n",
        "\n",
        "sentence_list=statement.split(\"\")   # What would you split the string on?\n",
        "\n",
        "print(sentence_list)\n"
      ]
    },
    {
      "cell_type": "code",
      "execution_count": null,
      "metadata": {
        "colab": {
          "base_uri": "https://localhost:8080/"
        },
        "id": "qXhCxir2nG6b",
        "outputId": "23063342-ecb0-4767-c42e-27a4a8c3cd16"
      },
      "outputs": [
        {
          "name": "stdout",
          "output_type": "stream",
          "text": [
            "['one', 'two', 'three']\n"
          ]
        }
      ],
      "source": [
        "string = \"one,two,three\"\n",
        "words = string.split(',')\n",
        "print(words)"
      ]
    },
    {
      "cell_type": "code",
      "execution_count": null,
      "metadata": {
        "colab": {
          "base_uri": "https://localhost:8080/"
        },
        "id": "W4n9-aert9Tu",
        "outputId": "273aba1f-1cca-4afc-afa4-33bf48e7a604"
      },
      "outputs": [
        {
          "name": "stdout",
          "output_type": "stream",
          "text": [
            "Total number of fruits available: 8\n",
            "All the available fruits: {'mango', 'apple', 'grape', 'orange', 'pineapple', 'banana'}\n",
            "Common fruits in both baskets: {'banana', 'orange'}\n"
          ]
        }
      ],
      "source": [
        "# Define sets for fruits in each basket\n",
        "basket1 = {'apple', 'banana', 'grape', 'orange'}\n",
        "basket2 = {'banana', 'mango', 'pineapple', 'orange'}\n",
        "\n",
        "# Find the total number of fruits available\n",
        "total_fruits = len(basket1)+ len(basket2)\n",
        "print(\"Total number of fruits available:\", total_fruits)\n",
        "\n",
        "# Find fruits available in both baskets\n",
        "both_baskets = basket1 | basket2   # Replace x with appropriate method\n",
        "print(\"All the available fruits:\", both_baskets)\n",
        "\n",
        "# Find only the common fruits in both baskets\n",
        "common_fruits = basket1 & basket2   # Replace x with appropriate method\n",
        "print(\"Common fruits in both baskets:\", common_fruits)"
      ]
    },
    {
      "cell_type": "code",
      "execution_count": null,
      "metadata": {
        "colab": {
          "base_uri": "https://localhost:8080/",
          "height": 131
        },
        "id": "5X-QRDDc3VFL",
        "outputId": "8e70ec72-b377-4b62-8a57-6f1b37fe6f5b"
      },
      "outputs": [
        {
          "ename": "SyntaxError",
          "evalue": "ignored",
          "output_type": "error",
          "traceback": [
            "\u001b[0;36m  File \u001b[0;32m\"<ipython-input-14-db81909d208f>\"\u001b[0;36m, line \u001b[0;32m15\u001b[0m\n\u001b[0;31m    print(\"Your ticket price is Rs.\", price\")\u001b[0m\n\u001b[0m                                           ^\u001b[0m\n\u001b[0;31mSyntaxError\u001b[0m\u001b[0;31m:\u001b[0m unterminated string literal (detected at line 15)\n"
          ]
        }
      ],
      "source": [
        "# calculate the ticket price\n",
        "\n",
        "age = int(input(\"How old are you? \"))\n",
        "\n",
        "if age < 5:\n",
        "    price = 0\n",
        "elif age <= 12:\n",
        "    price = 50\n",
        "elif age <= 64:\n",
        "    price = 100\n",
        "else:\n",
        "    price = 70\n",
        "\n",
        "# print out the ticket price\n",
        "print(\"Your ticket price is Rs.\", price, sep=\"\")"
      ]
    },
    {
      "cell_type": "code",
      "execution_count": null,
      "metadata": {
        "colab": {
          "base_uri": "https://localhost:8080/"
        },
        "id": "n7KZgn9J3xIC",
        "outputId": "a814116f-6548-4d1d-8368-fd8f7f427e25"
      },
      "outputs": [
        {
          "name": "stdout",
          "output_type": "stream",
          "text": [
            "What is your numeric score? 65\n",
            "Your letter grade is D\n"
          ]
        }
      ],
      "source": [
        "score = int(input(\"What is your numeric score? \"))\n",
        "\n",
        "# calculate the letter grade\n",
        "if score < 60:\n",
        "    letter_grade = \"F\"\n",
        "else:\n",
        "    if score < 70:\n",
        "        letter_grade = \"D\"\n",
        "    else:\n",
        "        if score < 80:\n",
        "            letter_grade = \"C\"\n",
        "        else:\n",
        "            if score < 90:\n",
        "                letter_grade = \"B\"\n",
        "            else:\n",
        "                letter_grade = \"A\"\n",
        "\n",
        "\n",
        "\n",
        "# print out the letter grade\n",
        "print(\"Your letter grade is\", letter_grade)"
      ]
    },
    {
      "cell_type": "code",
      "execution_count": null,
      "metadata": {
        "colab": {
          "base_uri": "https://localhost:8080/"
        },
        "id": "2FN3nnYj4Ywi",
        "outputId": "542350f8-ffcf-4f1d-ef32-8417560b34f2"
      },
      "outputs": [
        {
          "name": "stdout",
          "output_type": "stream",
          "text": [
            "x is greater than 8\n"
          ]
        }
      ],
      "source": [
        "x = 10\n",
        "if x > 5:\n",
        "  if x > 8:\n",
        "    print(\"x is greater than 8\")\n",
        "  else:\n",
        "    print(\"x is greater than 5 but less than or equal to 8\")\n",
        "else:\n",
        "  print(\"x is less than or equal to 5\")"
      ]
    },
    {
      "cell_type": "code",
      "execution_count": null,
      "metadata": {
        "colab": {
          "base_uri": "https://localhost:8080/"
        },
        "id": "Lij7Wbpf4wpy",
        "outputId": "23a24f29-c002-4617-b0ab-809018cadb65"
      },
      "outputs": [
        {
          "name": "stdout",
          "output_type": "stream",
          "text": [
            "x is not equal to 5\n"
          ]
        }
      ],
      "source": [
        "if x == 5:\n",
        "  print(\"x is equal to 5\")\n",
        "else:\n",
        "  print(\"x is not equal to 5\")"
      ]
    },
    {
      "cell_type": "code",
      "execution_count": null,
      "metadata": {
        "colab": {
          "base_uri": "https://localhost:8080/",
          "height": 131
        },
        "id": "xJ1bEAMg47-a",
        "outputId": "74843088-e3cf-49e7-8962-e0d9b5cc519a"
      },
      "outputs": [
        {
          "ename": "SyntaxError",
          "evalue": "ignored",
          "output_type": "error",
          "traceback": [
            "\u001b[0;36m  File \u001b[0;32m\"<ipython-input-18-c06d7157848c>\"\u001b[0;36m, line \u001b[0;32m1\u001b[0m\n\u001b[0;31m    if x == 5\u001b[0m\n\u001b[0m             ^\u001b[0m\n\u001b[0;31mSyntaxError\u001b[0m\u001b[0;31m:\u001b[0m expected ':'\n"
          ]
        }
      ],
      "source": [
        "if x == 5\n",
        "  { print(\"x is equal to 5\") }\n",
        "else\n",
        "  print(\"x is not equal to 5\")"
      ]
    },
    {
      "cell_type": "code",
      "execution_count": null,
      "metadata": {
        "colab": {
          "base_uri": "https://localhost:8080/"
        },
        "id": "yfPFEyEt5JWo",
        "outputId": "81e691d1-cb76-44e2-f3d6-2826309431fc"
      },
      "outputs": [
        {
          "name": "stdout",
          "output_type": "stream",
          "text": [
            "x is between 5 and 10\n"
          ]
        }
      ],
      "source": [
        "x = 10\n",
        "if x < 5:\n",
        "  print(\"x is less than 5\")\n",
        "elif x > 10:\n",
        "  print(\"x is greater than 10\")\n",
        "else:\n",
        "  print(\"x is between 5 and 10\")"
      ]
    },
    {
      "cell_type": "code",
      "execution_count": null,
      "metadata": {
        "colab": {
          "base_uri": "https://localhost:8080/"
        },
        "id": "jhk_2KUUbjdn",
        "outputId": "37b4f47e-07ee-44fd-a187-4d756d61fc04"
      },
      "outputs": [
        {
          "name": "stdout",
          "output_type": "stream",
          "text": [
            "(4, 5)\n"
          ]
        }
      ],
      "source": [
        "tuple1 = (1, 2, 3, 4, 5)\n",
        "print(tuple1[3:6])"
      ]
    },
    {
      "cell_type": "code",
      "execution_count": null,
      "metadata": {
        "colab": {
          "base_uri": "https://localhost:8080/"
        },
        "id": "4pLGa3RqcMPn",
        "outputId": "08f2bf13-561d-45b0-f6fd-ac2c697e7b93"
      },
      "outputs": [
        {
          "name": "stdout",
          "output_type": "stream",
          "text": [
            "<class 'str'>\n"
          ]
        }
      ],
      "source": [
        "sentence=\"Data Science is a pretty interesting subject\"\n",
        "print(type(\"sentence\"))"
      ]
    },
    {
      "cell_type": "code",
      "execution_count": null,
      "metadata": {
        "colab": {
          "base_uri": "https://localhost:8080/"
        },
        "id": "kAw1VZixcgnX",
        "outputId": "5320c81f-9864-440e-b0fe-216c4e7984a2"
      },
      "outputs": [
        {
          "name": "stdout",
          "output_type": "stream",
          "text": [
            "6\n"
          ]
        }
      ],
      "source": [
        "print(len(\"Amoeba\"))"
      ]
    },
    {
      "cell_type": "code",
      "execution_count": null,
      "metadata": {
        "colab": {
          "base_uri": "https://localhost:8080/"
        },
        "id": "4MscBAfrdGQq",
        "outputId": "973e600f-dd03-4e72-8586-d3b7013ed262"
      },
      "outputs": [
        {
          "name": "stdout",
          "output_type": "stream",
          "text": [
            "3\n"
          ]
        }
      ],
      "source": [
        "print(15//4)\n"
      ]
    },
    {
      "cell_type": "code",
      "execution_count": null,
      "metadata": {
        "colab": {
          "base_uri": "https://localhost:8080/"
        },
        "id": "lbag4R4kdNBB",
        "outputId": "168acbfe-245e-47f8-c9bf-c0f889f0d84b"
      },
      "outputs": [
        {
          "name": "stdout",
          "output_type": "stream",
          "text": [
            "bear\n"
          ]
        }
      ],
      "source": [
        "my_list = ['cat', 'dog', 'elephant', 'bear']\n",
        "print(min(my_list))"
      ]
    },
    {
      "cell_type": "code",
      "execution_count": null,
      "metadata": {
        "colab": {
          "base_uri": "https://localhost:8080/"
        },
        "id": "RSIEFPw_ddit",
        "outputId": "44ebf223-ce88-4d43-84fc-bd1753d45a98"
      },
      "outputs": [
        {
          "name": "stdout",
          "output_type": "stream",
          "text": [
            "4\n"
          ]
        }
      ],
      "source": [
        "list1 = [1,1,1,1,0]\n",
        "print(sum(list1))"
      ]
    },
    {
      "cell_type": "code",
      "execution_count": null,
      "metadata": {
        "colab": {
          "base_uri": "https://localhost:8080/"
        },
        "id": "Iq-q3KUydj1l",
        "outputId": "f22d835e-293f-434d-c91e-8f0570fc5fce"
      },
      "outputs": [
        {
          "name": "stdout",
          "output_type": "stream",
          "text": [
            "0\n"
          ]
        }
      ],
      "source": [
        "my_set = {1, 2, 3, 4, 5}\n",
        "my_set.clear()\n",
        "print(len(my_set))"
      ]
    },
    {
      "cell_type": "code",
      "execution_count": null,
      "metadata": {
        "colab": {
          "base_uri": "https://localhost:8080/"
        },
        "id": "e2PyGoPzdxJU",
        "outputId": "16eb0e83-9ff2-47ce-a001-7332f78430c9"
      },
      "outputs": [
        {
          "name": "stdout",
          "output_type": "stream",
          "text": [
            "False\n"
          ]
        }
      ],
      "source": [
        "my_dict = {\"red\": 2, \"blue\": 3, \"green\": 4}\n",
        "print(\"purple\" in my_dict)"
      ]
    },
    {
      "cell_type": "code",
      "execution_count": null,
      "metadata": {
        "colab": {
          "base_uri": "https://localhost:8080/"
        },
        "id": "qXFpFbnWd5Ba",
        "outputId": "51a2da62-ed88-4fc1-86e2-e3d20942139a"
      },
      "outputs": [
        {
          "name": "stdout",
          "output_type": "stream",
          "text": [
            "10\n"
          ]
        }
      ],
      "source": [
        " print(len(\"rhetorical\"))"
      ]
    },
    {
      "cell_type": "code",
      "execution_count": null,
      "metadata": {
        "colab": {
          "base_uri": "https://localhost:8080/"
        },
        "id": "-7gS5N8Le1jz",
        "outputId": "3c2bab2c-fe03-4024-d9ea-295d326e1107"
      },
      "outputs": [
        {
          "name": "stdout",
          "output_type": "stream",
          "text": [
            "A\n"
          ]
        }
      ],
      "source": [
        "string=\"Almabetter!\"\n",
        "print(string[0])"
      ]
    },
    {
      "cell_type": "code",
      "execution_count": null,
      "metadata": {
        "colab": {
          "base_uri": "https://localhost:8080/"
        },
        "id": "f9bOX-xvfL2C",
        "outputId": "2fd55f9c-7038-4843-a890-c4d117bf84c9"
      },
      "outputs": [
        {
          "name": "stdout",
          "output_type": "stream",
          "text": [
            "dict_keys(['a', 'b', 'c'])\n"
          ]
        }
      ],
      "source": [
        "my_dict = {\"a\": 1, \"b\": 2, \"c\": 3}\n",
        "print(my_dict.keys())"
      ]
    },
    {
      "cell_type": "code",
      "execution_count": null,
      "metadata": {
        "colab": {
          "base_uri": "https://localhost:8080/"
        },
        "id": "CMo07zKBfhs7",
        "outputId": "cc1341b4-98f6-46e5-e33b-1f864d467d85"
      },
      "outputs": [
        {
          "name": "stdout",
          "output_type": "stream",
          "text": [
            "36\n"
          ]
        }
      ],
      "source": [
        "my_list = [2, 4, 6, 6, 8, 10]\n",
        "print(sum(my_list))"
      ]
    },
    {
      "cell_type": "markdown",
      "metadata": {
        "id": "UaVvC6tvfroK"
      },
      "source": [
        "sentence=\"Data Science is an interesting course\"\n",
        "print(\"interesting\" in sentence)"
      ]
    },
    {
      "cell_type": "markdown",
      "metadata": {
        "id": "T-vMoED8fzmg"
      },
      "source": [
        "string = \"tryeye\"\n",
        "string[-1]"
      ]
    },
    {
      "cell_type": "code",
      "execution_count": null,
      "metadata": {
        "colab": {
          "base_uri": "https://localhost:8080/"
        },
        "id": "waSdaTVcgCbZ",
        "outputId": "5a09cd7e-7240-4669-aea5-1fafd9c9b242"
      },
      "outputs": [
        {
          "name": "stdout",
          "output_type": "stream",
          "text": [
            "{1, 2, 6, 8}\n"
          ]
        }
      ],
      "source": [
        "set_a = {1,2,6}\n",
        "set_b = {1,2,8}\n",
        "print(set_a | set_b)"
      ]
    },
    {
      "cell_type": "code",
      "execution_count": null,
      "metadata": {
        "colab": {
          "base_uri": "https://localhost:8080/",
          "height": 184
        },
        "id": "pZDPP9Yngdu_",
        "outputId": "76b0d1a8-e43f-4973-ba44-23659e83d7dd"
      },
      "outputs": [
        {
          "ename": "KeyError",
          "evalue": "ignored",
          "output_type": "error",
          "traceback": [
            "\u001b[0;31m---------------------------------------------------------------------------\u001b[0m",
            "\u001b[0;31mKeyError\u001b[0m                                  Traceback (most recent call last)",
            "\u001b[0;32m<ipython-input-18-54009f704f3d>\u001b[0m in \u001b[0;36m<cell line: 2>\u001b[0;34m()\u001b[0m\n\u001b[1;32m      1\u001b[0m \u001b[0mmy_dict\u001b[0m \u001b[0;34m=\u001b[0m \u001b[0;34m{\u001b[0m\u001b[0;34m\"animal\"\u001b[0m\u001b[0;34m:\u001b[0m \u001b[0;34m\"Tiger\"\u001b[0m\u001b[0;34m,\u001b[0m \u001b[0;34m\"bird\"\u001b[0m\u001b[0;34m:\u001b[0m \u001b[0;34m\"Peacock\"\u001b[0m\u001b[0;34m,\u001b[0m \u001b[0;34m\"flower\"\u001b[0m\u001b[0;34m:\u001b[0m \u001b[0;34m\"Lotus\"\u001b[0m\u001b[0;34m}\u001b[0m\u001b[0;34m\u001b[0m\u001b[0;34m\u001b[0m\u001b[0m\n\u001b[0;32m----> 2\u001b[0;31m \u001b[0mprint\u001b[0m\u001b[0;34m(\u001b[0m\u001b[0mmy_dict\u001b[0m\u001b[0;34m[\u001b[0m\u001b[0;34m\"name\"\u001b[0m\u001b[0;34m]\u001b[0m\u001b[0;34m)\u001b[0m\u001b[0;34m\u001b[0m\u001b[0;34m\u001b[0m\u001b[0m\n\u001b[0m",
            "\u001b[0;31mKeyError\u001b[0m: 'name'"
          ]
        }
      ],
      "source": [
        "\n",
        "\n",
        "   my_dict = {\"animal\": \"Tiger\", \"bird\": \"Peacock\", \"flower\": \"Lotus\"}\n",
        "print(my_dict[\"name\"])"
      ]
    },
    {
      "cell_type": "code",
      "execution_count": null,
      "metadata": {
        "colab": {
          "base_uri": "https://localhost:8080/"
        },
        "id": "Varl6MCDhPoo",
        "outputId": "fa6afa22-c673-4f8e-9cd2-019c97ceeae4"
      },
      "outputs": [
        {
          "name": "stdout",
          "output_type": "stream",
          "text": [
            "wor\n"
          ]
        }
      ],
      "source": [
        "my_string = \"hello world\"\n",
        "print(my_string[-5:-2])"
      ]
    },
    {
      "cell_type": "code",
      "execution_count": null,
      "metadata": {
        "id": "sTTlELunhQ6G"
      },
      "outputs": [],
      "source": []
    },
    {
      "cell_type": "code",
      "execution_count": null,
      "metadata": {
        "colab": {
          "base_uri": "https://localhost:8080/"
        },
        "id": "unwm84ZWhhZX",
        "outputId": "82a51109-360b-41d6-9eab-7e1c2ec1714f"
      },
      "outputs": [
        {
          "name": "stdout",
          "output_type": "stream",
          "text": [
            "m\n"
          ]
        }
      ],
      "source": [
        "string=\"Almabetter!\"\n",
        "print(string[2])"
      ]
    },
    {
      "cell_type": "code",
      "execution_count": null,
      "metadata": {
        "colab": {
          "base_uri": "https://localhost:8080/"
        },
        "id": "LiuSBpgjho6d",
        "outputId": "f1f837f7-b7ac-4283-b38f-8f836a790a54"
      },
      "outputs": [
        {
          "name": "stdout",
          "output_type": "stream",
          "text": [
            "dict_items([('a', 1), ('b', 2), ('c', 3)])\n"
          ]
        }
      ],
      "source": [
        "my_dict = {\"a\": 1, \"b\": 2, \"c\": 3}\n",
        "print(my_dict.items())"
      ]
    },
    {
      "cell_type": "code",
      "execution_count": null,
      "metadata": {
        "colab": {
          "base_uri": "https://localhost:8080/"
        },
        "id": "M65xMazMl_In",
        "outputId": "45478446-dd74-4daf-8c96-96a68d132efb"
      },
      "outputs": [
        {
          "name": "stdout",
          "output_type": "stream",
          "text": [
            "4\n",
            "3\n",
            "49\n"
          ]
        }
      ],
      "source": [
        "x = int(input())\n",
        "y = int(input())\n",
        "\n",
        "result =  ((x + y) * (x + y))\n",
        "print(result)"
      ]
    },
    {
      "cell_type": "code",
      "execution_count": null,
      "metadata": {
        "colab": {
          "base_uri": "https://localhost:8080/"
        },
        "id": "dBQ0VDNQnRgU",
        "outputId": "c7acf457-061c-4865-ce80-9b11c8ee7f89"
      },
      "outputs": [
        {
          "name": "stdout",
          "output_type": "stream",
          "text": [
            "6\n",
            "65\n",
            "1.8055555555555556\n"
          ]
        }
      ],
      "source": [
        "# Write your code here\n",
        "\n",
        "height = float(input())\n",
        "weight = float(input())\n",
        "\n",
        "BMI = float((weight)/(height*height))\n",
        "print(BMI)\n"
      ]
    },
    {
      "cell_type": "code",
      "execution_count": null,
      "metadata": {
        "colab": {
          "base_uri": "https://localhost:8080/"
        },
        "id": "uNpZ4cpkq6Dz",
        "outputId": "76b0419b-d46c-4e16-cade-bcbe37510ec5"
      },
      "outputs": [
        {
          "name": "stdout",
          "output_type": "stream",
          "text": [
            "6\n",
            "65\n",
            "1.8055555555555556\n",
            "Your Body Mass Index is:  1.8055555555555556\n",
            "Underweight.\n"
          ]
        }
      ],
      "source": [
        "# Write your code here\n",
        "\n",
        "height = float(input())\n",
        "weight = float(input())\n",
        "\n",
        "BMI = float((weight)/(height*height))\n",
        "print(BMI)\n",
        "\n",
        "#if((BMI>=18.5) and (BMI<=24.9)):\n",
        "#  print(\"it falls within the Healthy Weight range.\")\n",
        "#else:\n",
        "#    print(\"it does not fall within the Healthy Weight range.\")\n",
        "\n",
        "# Print the output\n",
        "print(\"Your Body Mass Index is: \", BMI)\n",
        "\n",
        "if BMI < 18.5:\n",
        "  print(\"Underweight.\")\n",
        "elif BMI <= 24.9:\n",
        "  print(\"Normal.\")\n",
        "elif BMI <= 29.9:\n",
        "  print(\"Overweight.\")\n",
        "else:\n",
        "  print(\"Obese.\")"
      ]
    },
    {
      "cell_type": "code",
      "execution_count": null,
      "metadata": {
        "colab": {
          "base_uri": "https://localhost:8080/"
        },
        "id": "hRJvBv-Zuh-7",
        "outputId": "eb1b1a18-140e-43e5-e333-66811d718cbe"
      },
      "outputs": [
        {
          "name": "stdout",
          "output_type": "stream",
          "text": [
            "code\n",
            "debug\n",
            "code\n",
            "debug\n",
            "dede cobug\n",
            "cobug\n"
          ]
        }
      ],
      "source": [
        "# Write your code here\n",
        "\n",
        "a = input()\n",
        "b = input()\n",
        "print(a)\n",
        "print(b)\n",
        "\n",
        "c = a[-2:]+b[0:2]\n",
        "d=a[0:2]+b[-3:]\n",
        "print(c +\" \" + d)\n",
        "\n",
        "\n"
      ]
    },
    {
      "cell_type": "code",
      "execution_count": null,
      "metadata": {
        "colab": {
          "base_uri": "https://localhost:8080/"
        },
        "id": "aaOuKFiCpwr-",
        "outputId": "4924e2a3-9edb-4b9f-89c7-224a98e3a2d5"
      },
      "outputs": [
        {
          "name": "stdout",
          "output_type": "stream",
          "text": [
            "xVahid\n",
            "2\n"
          ]
        }
      ],
      "source": [
        "x=input('x')\n",
        "c=0\n",
        "for i in x:\n",
        "  if i in 'aeiouAEIOU':\n",
        "    c+=1\n",
        "print(c)"
      ]
    },
    {
      "cell_type": "code",
      "execution_count": null,
      "metadata": {
        "colab": {
          "base_uri": "https://localhost:8080/"
        },
        "id": "wniDvszAEqNV",
        "outputId": "344fc682-73d4-4c77-9c86-51ddfca4e8ca"
      },
      "outputs": [
        {
          "name": "stdout",
          "output_type": "stream",
          "text": [
            "pepperoni\n",
            "mushrooms\n",
            "olives\n",
            "sausage\n"
          ]
        }
      ],
      "source": [
        "#Non Coder:\n",
        "\n",
        "# Define a list of pizza toppings\n",
        "toppings = [\"pepperoni\", \"mushrooms\", \"olives\", \"sausage\"]\n",
        "print(toppings[0])\n",
        "print(toppings[1])\n",
        "print(toppings[2])\n",
        "print(toppings[3])"
      ]
    },
    {
      "cell_type": "code",
      "execution_count": null,
      "metadata": {
        "colab": {
          "base_uri": "https://localhost:8080/"
        },
        "id": "Ewogeld3Es5d",
        "outputId": "a462bbc1-5c68-4158-b56b-e15e0e5cf9dc"
      },
      "outputs": [
        {
          "name": "stdout",
          "output_type": "stream",
          "text": [
            "pepperoni\n",
            "mushrooms\n",
            "olives\n",
            "sausage\n",
            "['pepperoni', 'mushrooms', 'olives', 'sausage', 'bacon', 'peppers', 'pineapple']\n"
          ]
        }
      ],
      "source": [
        "#Coder\n",
        "\n",
        "# Define a list of pizza toppings\n",
        "toppings = [\"pepperoni\", \"mushrooms\", \"olives\", \"sausage\"]\n",
        "\n",
        "# Loop through each topping in the list and print it out\n",
        "for topping in toppings:\n",
        "    print(topping)\n",
        "\n",
        "\n",
        "    # Add new toppings to the list using a loop and the append method\n",
        "new_toppings = [\"bacon\", \"peppers\", \"pineapple\"]\n",
        "\n",
        "for topping in new_toppings:\n",
        "    toppings.append(topping)\n",
        "\n",
        "# Print out the updated list of toppings\n",
        "print(toppings)\n"
      ]
    },
    {
      "cell_type": "code",
      "execution_count": null,
      "metadata": {
        "colab": {
          "base_uri": "https://localhost:8080/"
        },
        "id": "U156-uYOF9Me",
        "outputId": "7b5dc19a-1cea-4c4d-ba01-642b0894fbe8"
      },
      "outputs": [
        {
          "data": {
            "text/plain": [
              "['pepperoni', 'mushrooms', 'olives', 'sausage', 'bacon', 'peppers']"
            ]
          },
          "execution_count": 6,
          "metadata": {},
          "output_type": "execute_result"
        }
      ],
      "source": [
        "toppings = [\"pepperoni\", \"mushrooms\", \"olives\", \"sausage\"]\n",
        "new_toppings = [\"bacon\", \"peppers\", \"pineapple\"]\n",
        "toppings.extend(new_toppings[0:2])  #adding bacon and peppers to topping list\n",
        "toppings\n"
      ]
    },
    {
      "cell_type": "code",
      "execution_count": null,
      "metadata": {
        "colab": {
          "base_uri": "https://localhost:8080/"
        },
        "id": "n9z6o3BnGMEu",
        "outputId": "04a8a0be-2528-4e6c-f47e-e77f55a7d6e2"
      },
      "outputs": [
        {
          "name": "stdout",
          "output_type": "stream",
          "text": [
            "Enter a StringVahid Tyagi\n",
            "The number of vowels in the string is: 4\n"
          ]
        }
      ],
      "source": [
        "string = input(\"Enter a String\")\n",
        "count = 0\n",
        "for char in string:\n",
        "    if char in 'aeiouAEIOU':\n",
        "      count = count+1\n",
        "\n",
        "print(\"The number of vowels in the string is:\", count)\n"
      ]
    },
    {
      "cell_type": "code",
      "execution_count": null,
      "metadata": {
        "colab": {
          "base_uri": "https://localhost:8080/"
        },
        "id": "euNlDc31HTMR",
        "outputId": "df0e643d-0701-4302-a588-b4433e2341f8"
      },
      "outputs": [
        {
          "name": "stdout",
          "output_type": "stream",
          "text": [
            "0\n",
            "1\n",
            "2\n",
            "3\n",
            "4\n"
          ]
        }
      ],
      "source": [
        "\n",
        "# Loop through numbers from 0 to 4\n",
        "for i in range(5):\n",
        "    print(i)"
      ]
    },
    {
      "cell_type": "code",
      "execution_count": null,
      "metadata": {
        "colab": {
          "base_uri": "https://localhost:8080/"
        },
        "id": "HIjb604IJPVX",
        "outputId": "fc4a483a-98fb-424c-8358-6a0b49a0f078"
      },
      "outputs": [
        {
          "name": "stdout",
          "output_type": "stream",
          "text": [
            "2\n",
            "4\n",
            "6\n",
            "8\n"
          ]
        }
      ],
      "source": [
        "# Loop through numbers from 2 to 8, incrementing by 2 each time\n",
        "for i in range(2, 9, 2):\n",
        "    print(i)"
      ]
    },
    {
      "cell_type": "code",
      "execution_count": null,
      "metadata": {
        "colab": {
          "base_uri": "https://localhost:8080/"
        },
        "id": "bIzvw6XuOp5f",
        "outputId": "74cd2937-2535-402d-c186-8e720bfd7089"
      },
      "outputs": [
        {
          "name": "stdout",
          "output_type": "stream",
          "text": [
            "0\n",
            "1\n",
            "2\n",
            "3\n",
            "4\n"
          ]
        }
      ],
      "source": [
        "for i in range(10):\n",
        "    if i == 5:\n",
        "        break\n",
        "    print(i)"
      ]
    },
    {
      "cell_type": "code",
      "execution_count": null,
      "metadata": {
        "colab": {
          "base_uri": "https://localhost:8080/"
        },
        "id": "7NfGsNwcQYMZ",
        "outputId": "f519aa20-17db-4c2b-9af0-cdda5389e296"
      },
      "outputs": [
        {
          "name": "stdout",
          "output_type": "stream",
          "text": [
            "1\n",
            "3\n",
            "5\n",
            "7\n",
            "9\n"
          ]
        }
      ],
      "source": [
        "for i in range(10):\n",
        "    if i % 2 == 0:\n",
        "        continue\n",
        "    print(i)\n"
      ]
    },
    {
      "cell_type": "code",
      "execution_count": null,
      "metadata": {
        "colab": {
          "base_uri": "https://localhost:8080/"
        },
        "id": "Z6VUvVOZRyYZ",
        "outputId": "7e512dea-5375-4a68-c71f-fd29b60a1b39"
      },
      "outputs": [
        {
          "name": "stdout",
          "output_type": "stream",
          "text": [
            "Team 1 is: ['Alice', 'Diana'] \n",
            " And Team 2 is ['Charlie', 'Bob']\n"
          ]
        }
      ],
      "source": [
        "tournament = [['Alice', 'Charlie'], ['Bob', 'Diana']]\n",
        "\n",
        "team1=[]\n",
        "team2=[]\n",
        "for group in tournament:    # First Loop/ Outer Loop.\n",
        "    for player in group:      #  Inner loop.\n",
        "        if player[0]=='A' or player[0]=='D':\n",
        "          team1.append(player)\n",
        "        else:\n",
        "          team2.append(player)\n",
        "\n",
        "print(f'Team 1 is: {team1} \\n And Team 2 is {team2}')"
      ]
    },
    {
      "cell_type": "code",
      "execution_count": null,
      "metadata": {
        "colab": {
          "base_uri": "https://localhost:8080/"
        },
        "id": "kiLjWSt9Tppu",
        "outputId": "eda9dc9c-5e35-4408-88c1-9e34a313f9bc"
      },
      "outputs": [
        {
          "name": "stdout",
          "output_type": "stream",
          "text": [
            "Total even numbers: 12\n",
            "Total odd numbers: 13\n"
          ]
        }
      ],
      "source": [
        "# List of numbers\n",
        "numbers = [\n",
        "    [2, 5, 11, 20, 8],\n",
        "    [9, 4, 15, 28, 17],\n",
        "    [1, 6, 21, 18, 3],\n",
        "    [10, 13, 25, 33, 30],\n",
        "    [14, 7, 16, 19, 22]\n",
        "]\n",
        "\n",
        "# Initialize counters for odd and even numbers\n",
        "even_count = 0\n",
        "odd_count = 0\n",
        "\n",
        "# Iterate through the main list and its sublists using nested loops\n",
        "for sublist in numbers:\n",
        "    for number in sublist:\n",
        "        # Check if the number is odd or even and increment the counters accordingly\n",
        "        if number % 2 == 0:\n",
        "            even_count += 1\n",
        "        else:\n",
        "            odd_count += 1\n",
        "\n",
        "# Print the total count of odd and even numbers\n",
        "print(f\"Total even numbers: {even_count}\")\n",
        "print(f\"Total odd numbers: {odd_count}\")\n",
        "\n"
      ]
    },
    {
      "cell_type": "code",
      "execution_count": null,
      "metadata": {
        "colab": {
          "base_uri": "https://localhost:8080/"
        },
        "id": "vds_GCDaUF1M",
        "outputId": "896e8049-f9d9-4549-9218-fc5a36f12d86"
      },
      "outputs": [
        {
          "name": "stdout",
          "output_type": "stream",
          "text": [
            "The average grade for the class is 83.8.\n"
          ]
        }
      ],
      "source": [
        "# Create a list of grades for each student\n",
        "grades = [90, 85, 95, 80, 75, 85, 90, 85, 70, 80,\n",
        "          90, 75, 80, 85, 90, 95, 80, 75, 85, 90,\n",
        "          85, 90, 75, 80, 85]\n",
        "\n",
        "# Use a for loop to calculate the total grade for the class\n",
        "total_grade = 0\n",
        "for grade in grades:\n",
        "    total_grade += grade\n",
        "\n",
        "# Calculate the average grade for the class\n",
        "average_grade = total_grade / len(grades)\n",
        "\n",
        "# Print the average grade for the class\n",
        "print(f\"The average grade for the class is {average_grade}.\")\n"
      ]
    },
    {
      "cell_type": "code",
      "execution_count": null,
      "metadata": {
        "colab": {
          "base_uri": "https://localhost:8080/"
        },
        "id": "brW1wV88c9sJ",
        "outputId": "f8ea84f4-0929-4d82-9d86-e973afd0c218"
      },
      "outputs": [
        {
          "name": "stdout",
          "output_type": "stream",
          "text": [
            "10\n",
            "8\n",
            "6\n",
            "4\n",
            "2\n"
          ]
        }
      ],
      "source": [
        "for i in range(10, 1, -2):\n",
        "    print(i)"
      ]
    },
    {
      "cell_type": "code",
      "execution_count": null,
      "metadata": {
        "colab": {
          "base_uri": "https://localhost:8080/"
        },
        "id": "USpJVXjcdTct",
        "outputId": "f550a136-3eb0-42f9-cc57-e7a462fe44d4"
      },
      "outputs": [
        {
          "name": "stdout",
          "output_type": "stream",
          "text": [
            "1\n",
            "2\n",
            "3\n",
            "4\n"
          ]
        }
      ],
      "source": [
        "my_tuple = (1, 2, 3, 4)\n",
        "for i in range(len(my_tuple)):\n",
        "    print(my_tuple[i])"
      ]
    },
    {
      "cell_type": "code",
      "execution_count": null,
      "metadata": {
        "id": "ZwJoDP_XduA8"
      },
      "outputs": [],
      "source": [
        "words = [\"apple\", \"banana\", \"cherry\", \"date\", \"elderberry\"]\n",
        "for word in words:\n",
        "    if 'z' in word:\n",
        "       print(word)"
      ]
    },
    {
      "cell_type": "code",
      "execution_count": null,
      "metadata": {
        "colab": {
          "base_uri": "https://localhost:8080/"
        },
        "id": "JBSJnKe6d3wQ",
        "outputId": "cccf7575-1262-4889-a799-cc9c9398e48d"
      },
      "outputs": [
        {
          "name": "stdout",
          "output_type": "stream",
          "text": [
            "3\n",
            "5\n",
            "7\n",
            "9\n"
          ]
        }
      ],
      "source": [
        "for i in range(3, 10, 2):\n",
        "   print(i)"
      ]
    },
    {
      "cell_type": "code",
      "execution_count": null,
      "metadata": {
        "colab": {
          "background_save": true,
          "base_uri": "https://localhost:8080/"
        },
        "id": "5FqgxJFTJvyu",
        "outputId": "3dccd03f-c618-43f4-8e66-993126f2298e"
      },
      "outputs": [
        {
          "ename": "IndentationError",
          "evalue": "ignored",
          "output_type": "error",
          "traceback": [
            "\u001b[0;36m  File \u001b[0;32m\"<ipython-input-4-521690b38966>\"\u001b[0;36m, line \u001b[0;32m8\u001b[0m\n\u001b[0;31m    print (topping)\u001b[0m\n\u001b[0m    ^\u001b[0m\n\u001b[0;31mIndentationError\u001b[0m\u001b[0;31m:\u001b[0m unexpected indent\n"
          ]
        }
      ],
      "source": [
        "toppings = [\"pepperoni\", \"mushrooms\", \"olives\", \"sausage\"]\n",
        "\n",
        "for topping in toppings:\n",
        "  print (topping)\n",
        "\n",
        "topping = toppings.append[\"bacon\", \"peppers\", \"pineapple\"]\n",
        "\n",
        " print (topping)\n"
      ]
    },
    {
      "cell_type": "code",
      "execution_count": null,
      "metadata": {
        "colab": {
          "base_uri": "https://localhost:8080/",
          "height": 374
        },
        "id": "Uoy0KGsPcMpC",
        "outputId": "93dceca7-1fcd-4443-a4c0-5909bb9cb38e"
      },
      "outputs": [
        {
          "name": "stdout",
          "output_type": "stream",
          "text": [
            "Vahid\n"
          ]
        },
        {
          "ename": "ValueError",
          "evalue": "ignored",
          "output_type": "error",
          "traceback": [
            "\u001b[0;31m---------------------------------------------------------------------------\u001b[0m",
            "\u001b[0;31mValueError\u001b[0m                                Traceback (most recent call last)",
            "\u001b[0;32m<ipython-input-2-40b16a58201e>\u001b[0m in \u001b[0;36m<cell line: 6>\u001b[0;34m()\u001b[0m\n\u001b[1;32m      4\u001b[0m   \u001b[0mb\u001b[0m \u001b[0;34m=\u001b[0m \u001b[0mint\u001b[0m\u001b[0;34m(\u001b[0m\u001b[0minput\u001b[0m\u001b[0;34m(\u001b[0m\u001b[0;34m)\u001b[0m\u001b[0;34m)\u001b[0m\u001b[0;34m\u001b[0m\u001b[0;34m\u001b[0m\u001b[0m\n\u001b[1;32m      5\u001b[0m \u001b[0;34m\u001b[0m\u001b[0m\n\u001b[0;32m----> 6\u001b[0;31m \u001b[0mmain\u001b[0m\u001b[0;34m(\u001b[0m\u001b[0;34m)\u001b[0m\u001b[0;34m;\u001b[0m\u001b[0;34m\u001b[0m\u001b[0;34m\u001b[0m\u001b[0m\n\u001b[0m\u001b[1;32m      7\u001b[0m \u001b[0mprint\u001b[0m\u001b[0;34m(\u001b[0m\u001b[0ma\u001b[0m\u001b[0;34m)\u001b[0m\u001b[0;34m\u001b[0m\u001b[0;34m\u001b[0m\u001b[0m\n\u001b[1;32m      8\u001b[0m \u001b[0mprint\u001b[0m\u001b[0;34m(\u001b[0m\u001b[0mb\u001b[0m\u001b[0;34m)\u001b[0m\u001b[0;34m\u001b[0m\u001b[0;34m\u001b[0m\u001b[0m\n",
            "\u001b[0;32m<ipython-input-2-40b16a58201e>\u001b[0m in \u001b[0;36mmain\u001b[0;34m()\u001b[0m\n\u001b[1;32m      1\u001b[0m \u001b[0;31m#write your code inside main function\u001b[0m\u001b[0;34m\u001b[0m\u001b[0;34m\u001b[0m\u001b[0m\n\u001b[1;32m      2\u001b[0m \u001b[0;32mdef\u001b[0m  \u001b[0mmain\u001b[0m\u001b[0;34m(\u001b[0m\u001b[0;34m)\u001b[0m\u001b[0;34m:\u001b[0m\u001b[0;34m\u001b[0m\u001b[0;34m\u001b[0m\u001b[0m\n\u001b[0;32m----> 3\u001b[0;31m   \u001b[0ma\u001b[0m \u001b[0;34m=\u001b[0m \u001b[0mint\u001b[0m\u001b[0;34m(\u001b[0m\u001b[0minput\u001b[0m\u001b[0;34m(\u001b[0m\u001b[0;34m)\u001b[0m\u001b[0;34m)\u001b[0m\u001b[0;34m\u001b[0m\u001b[0;34m\u001b[0m\u001b[0m\n\u001b[0m\u001b[1;32m      4\u001b[0m   \u001b[0mb\u001b[0m \u001b[0;34m=\u001b[0m \u001b[0mint\u001b[0m\u001b[0;34m(\u001b[0m\u001b[0minput\u001b[0m\u001b[0;34m(\u001b[0m\u001b[0;34m)\u001b[0m\u001b[0;34m)\u001b[0m\u001b[0;34m\u001b[0m\u001b[0;34m\u001b[0m\u001b[0m\n\u001b[1;32m      5\u001b[0m \u001b[0;34m\u001b[0m\u001b[0m\n",
            "\u001b[0;31mValueError\u001b[0m: invalid literal for int() with base 10: 'Vahid'"
          ]
        }
      ],
      "source": [
        "#write your code inside main function\n",
        "def  main():\n",
        "  a = int(input())\n",
        "  b = int(input())\n",
        "\n",
        "main();\n",
        "print(a)\n",
        "print(b)"
      ]
    },
    {
      "cell_type": "code",
      "execution_count": null,
      "metadata": {
        "colab": {
          "base_uri": "https://localhost:8080/"
        },
        "id": "0TdEAfnDh509",
        "outputId": "5e56ff68-9070-4167-c058-5ffc0e3b33fa"
      },
      "outputs": [
        {
          "name": "stdout",
          "output_type": "stream",
          "text": [
            "0\n",
            "1\n",
            "2\n",
            "3\n",
            "4\n",
            "5\n",
            "6\n",
            "7\n",
            "8\n",
            "9\n",
            "10\n"
          ]
        }
      ],
      "source": [
        "for i in range(11):\n",
        "\tprint(i)"
      ]
    },
    {
      "cell_type": "code",
      "execution_count": null,
      "metadata": {
        "colab": {
          "base_uri": "https://localhost:8080/"
        },
        "id": "sIh7II6Jh-gK",
        "outputId": "b78e34cd-61c4-42e9-8fb3-3aefb1a91981"
      },
      "outputs": [
        {
          "name": "stdout",
          "output_type": "stream",
          "text": [
            "1\n",
            "2\n",
            "3\n",
            "4\n",
            "5\n",
            "6\n",
            "7\n",
            "8\n",
            "9\n",
            "10\n"
          ]
        }
      ],
      "source": [
        "num = 1\n",
        "while num <= 10:\n",
        "\tprint(num)\n",
        "\tnum = num + 1"
      ]
    },
    {
      "cell_type": "code",
      "execution_count": null,
      "metadata": {
        "colab": {
          "base_uri": "https://localhost:8080/"
        },
        "id": "bobmqo4xmIfN",
        "outputId": "696e6585-56bb-4980-9ced-cb3c1538a9a8"
      },
      "outputs": [
        {
          "name": "stdout",
          "output_type": "stream",
          "text": [
            "Enter a number: 153\n",
            "153 is an Armstrong number\n"
          ]
        }
      ],
      "source": [
        "# Python program to check if the number is an Armstrong number or not\n",
        "\n",
        "# take input from the user\n",
        "num = int(input(\"Enter a number: \"))\n",
        "\n",
        "# initialize sum\n",
        "sum = 0\n",
        "\n",
        "# find the sum of the cube of each digit\n",
        "temp = num\n",
        "while temp > 0:\n",
        "   digit = temp % 10\n",
        "   sum += digit ** 3\n",
        "   temp //= 10\n",
        "\n",
        "# display the result\n",
        "if num == sum:\n",
        "   print(num,\"is an Armstrong number\")\n",
        "else:\n",
        "   print(num,\"is not an Armstrong number\")"
      ]
    },
    {
      "cell_type": "code",
      "execution_count": null,
      "metadata": {
        "colab": {
          "base_uri": "https://localhost:8080/",
          "height": 236
        },
        "id": "7qPECgfRdw_1",
        "outputId": "57b8ac1c-0e9f-4322-f8d1-30b7cd316d7d"
      },
      "outputs": [
        {
          "ename": "KeyboardInterrupt",
          "evalue": "ignored",
          "output_type": "error",
          "traceback": [
            "\u001b[0;31m---------------------------------------------------------------------------\u001b[0m",
            "\u001b[0;31mKeyboardInterrupt\u001b[0m                         Traceback (most recent call last)",
            "\u001b[0;32m<ipython-input-3-e981c020cba1>\u001b[0m in \u001b[0;36m<cell line: 4>\u001b[0;34m()\u001b[0m\n\u001b[1;32m      2\u001b[0m \u001b[0mnumbers\u001b[0m \u001b[0;34m=\u001b[0m \u001b[0;34m[\u001b[0m\u001b[0;36m12\u001b[0m\u001b[0;34m,\u001b[0m\u001b[0;36m7\u001b[0m\u001b[0;34m,\u001b[0m\u001b[0;36m8\u001b[0m\u001b[0;34m,\u001b[0m\u001b[0;36m15\u001b[0m\u001b[0;34m,\u001b[0m\u001b[0;36m20\u001b[0m\u001b[0;34m,\u001b[0m\u001b[0;36m45\u001b[0m\u001b[0;34m]\u001b[0m\u001b[0;34m\u001b[0m\u001b[0;34m\u001b[0m\u001b[0m\n\u001b[1;32m      3\u001b[0m \u001b[0mindex\u001b[0m \u001b[0;34m=\u001b[0m \u001b[0;36m0\u001b[0m\u001b[0;34m\u001b[0m\u001b[0;34m\u001b[0m\u001b[0m\n\u001b[0;32m----> 4\u001b[0;31m \u001b[0;32mwhile\u001b[0m\u001b[0;34m(\u001b[0m\u001b[0mindex\u001b[0m\u001b[0;34m<\u001b[0m\u001b[0mlen\u001b[0m\u001b[0;34m(\u001b[0m\u001b[0mnumbers\u001b[0m\u001b[0;34m)\u001b[0m\u001b[0;34m)\u001b[0m\u001b[0;34m:\u001b[0m\u001b[0;34m\u001b[0m\u001b[0;34m\u001b[0m\u001b[0m\n\u001b[0m\u001b[1;32m      5\u001b[0m  \u001b[0;32mif\u001b[0m \u001b[0;34m(\u001b[0m\u001b[0mnumbers\u001b[0m\u001b[0;34m[\u001b[0m\u001b[0mindex\u001b[0m\u001b[0;34m]\u001b[0m\u001b[0;34m%\u001b[0m\u001b[0;36m2\u001b[0m\u001b[0;34m==\u001b[0m\u001b[0;36m0\u001b[0m\u001b[0;34m)\u001b[0m\u001b[0;34m:\u001b[0m\u001b[0;34m\u001b[0m\u001b[0;34m\u001b[0m\u001b[0m\n\u001b[1;32m      6\u001b[0m    \u001b[0mlist_even\u001b[0m\u001b[0;34m.\u001b[0m\u001b[0mappend\u001b[0m\u001b[0;34m(\u001b[0m\u001b[0mnumbers\u001b[0m\u001b[0;34m[\u001b[0m\u001b[0mindex\u001b[0m\u001b[0;34m]\u001b[0m\u001b[0;34m)\u001b[0m\u001b[0;34m\u001b[0m\u001b[0;34m\u001b[0m\u001b[0m\n",
            "\u001b[0;31mKeyboardInterrupt\u001b[0m: "
          ]
        }
      ],
      "source": [
        "list_even = []\n",
        "numbers = [12,7,8,15,20,45]\n",
        "index = 0\n",
        "while(index<len(numbers)):\n",
        " if (numbers[index]%2==0):\n",
        "   list_even.append(numbers[index])\n",
        "   index = index + 1\n",
        "print(max(list_even))"
      ]
    },
    {
      "cell_type": "markdown",
      "metadata": {
        "id": "psY226g2-Fyd"
      },
      "source": []
    },
    {
      "cell_type": "code",
      "execution_count": null,
      "metadata": {
        "colab": {
          "base_uri": "https://localhost:8080/"
        },
        "id": "bi1L_cVg-Scs",
        "outputId": "964db6b4-28e8-4726-98c6-a278cf53ee82"
      },
      "outputs": [
        {
          "name": "stdout",
          "output_type": "stream",
          "text": [
            "2\n",
            "4\n"
          ]
        }
      ],
      "source": [
        "for i in range(1, 6):\n",
        "   if i % 2 == 0:\n",
        "      print(i)"
      ]
    },
    {
      "cell_type": "code",
      "execution_count": null,
      "metadata": {
        "colab": {
          "base_uri": "https://localhost:8080/"
        },
        "id": "1rsgO-BE-lZw",
        "outputId": "c3620c0e-e889-4bd6-9613-c2ec57e804f7"
      },
      "outputs": [
        {
          "name": "stdout",
          "output_type": "stream",
          "text": [
            "0 0\n",
            "0 1\n",
            "1 0\n",
            "1 1\n",
            "2 0\n",
            "2 1\n"
          ]
        }
      ],
      "source": [
        "for i in range(3):\n",
        "   for j in range(2):\n",
        "      print(i, j)"
      ]
    },
    {
      "cell_type": "code",
      "execution_count": null,
      "metadata": {
        "colab": {
          "base_uri": "https://localhost:8080/"
        },
        "id": "DvGLJRA_-6MU",
        "outputId": "e13302bd-d9a1-4481-90e6-b42ba50e8ca9"
      },
      "outputs": [
        {
          "name": "stdout",
          "output_type": "stream",
          "text": [
            "0\n",
            "0\n",
            "0\n",
            "1\n",
            "0\n",
            "2\n"
          ]
        }
      ],
      "source": [
        "for i in range(3):\n",
        "   for j in range(2):\n",
        "      print(i*j)"
      ]
    },
    {
      "cell_type": "code",
      "execution_count": null,
      "metadata": {
        "id": "67TQ1qBwSGNK"
      },
      "outputs": [],
      "source": [
        "\n",
        "\n",
        "def calculate_sales(monday_sales=0, tuesday_sales=0, wednesday_sales=0, thursday_sales=0, friday_sales=0, saturday_sales=0, sunday_sales=0):\n",
        "    \"\"\"\n",
        "    Calculates the total sales for a given week by adding up the sales for each day of the week.\n",
        "\n",
        "    Args:\n",
        "        monday_sales (float): Sales figure for Monday.\n",
        "        tuesday_sales (float): Sales figure for Tuesday.\n",
        "        wednesday_sales (float): Sales figure for Wednesday.\n",
        "        thursday_sales (float): Sales figure for Thursday.\n",
        "        friday_sales (float): Sales figure for Friday.\n",
        "        saturday_sales (float): Sales figure for Saturday.\n",
        "        sunday_sales (float): Sales figure for Sunday.\n",
        "\n",
        "    Returns:\n",
        "        float: The total sales for the week.\n",
        "    \"\"\"\n",
        "    # Sum up the sales figures for each day of the week\n",
        "    total_sales = monday_sales + tuesday_sales + wednesday_sales + thursday_sales + friday_sales + saturday_sales + sunday_sales\n",
        "\n",
        "    # Return the total sales\n",
        "    return total_sales\n"
      ]
    },
    {
      "cell_type": "code",
      "execution_count": null,
      "metadata": {
        "colab": {
          "base_uri": "https://localhost:8080/"
        },
        "id": "eFm1IhOZSNX1",
        "outputId": "09f61faf-e8a9-48d7-b8ed-38bfcceab2bc"
      },
      "outputs": [
        {
          "name": "stdout",
          "output_type": "stream",
          "text": [
            "1330\n"
          ]
        }
      ],
      "source": [
        "total_sales = calculate_sales(monday_sales = 100, tuesday_sales = 200, wednesday_sales=150, thursday_sales=300, friday_sales=250, saturday_sales=180, sunday_sales=150)\n",
        "print(total_sales)\n"
      ]
    },
    {
      "cell_type": "code",
      "execution_count": null,
      "metadata": {
        "colab": {
          "base_uri": "https://localhost:8080/"
        },
        "id": "wa9KY9qFTGqr",
        "outputId": "67fd3f6f-3652-4e75-e4b3-4d541eb4a568"
      },
      "outputs": [
        {
          "name": "stdout",
          "output_type": "stream",
          "text": [
            "2.0\n"
          ]
        }
      ],
      "source": [
        "def divide(x, y):\n",
        "    return x / y\n",
        "\n",
        "result = divide(4,2)\n",
        "print(result)"
      ]
    },
    {
      "cell_type": "code",
      "execution_count": null,
      "metadata": {
        "colab": {
          "base_uri": "https://localhost:8080/"
        },
        "id": "zrWMk4I3Tlie",
        "outputId": "232441da-fced-48fd-bcbf-3900b14ab327"
      },
      "outputs": [
        {
          "name": "stdout",
          "output_type": "stream",
          "text": [
            "4 is maximum\n"
          ]
        }
      ],
      "source": [
        "def printMax(a, b):\n",
        "   if a > b:\n",
        "      print(a, 'is maximum')\n",
        "   elif a == b:\n",
        "       print(a, 'is equal to', b)\n",
        "   else:\n",
        "        print(b, 'is maximum')\n",
        "printMax(3, 4)"
      ]
    },
    {
      "cell_type": "code",
      "execution_count": null,
      "metadata": {
        "colab": {
          "base_uri": "https://localhost:8080/"
        },
        "id": "vg1SorALZqMM",
        "outputId": "9ec69b80-7e6c-43e6-d499-65595a8ed900"
      },
      "outputs": [
        {
          "name": "stdout",
          "output_type": "stream",
          "text": [
            "Enter your age: 32\n",
            "Enter your height in cm: 11\n",
            "You are old enough to ride the rollercoaster\n",
            "But you do not meet the height requirement.\n"
          ]
        }
      ],
      "source": [
        "# asking user for input\n",
        "age = int(input(\"Enter your age: \"))\n",
        "height = int(input(\"Enter your height in cm: \"))\n",
        "\n",
        "# nested if statements to determine eligibility for a rollercoaster ride\n",
        "if age >= 10:\n",
        "    print(\"You are old enough to ride the rollercoaster\")\n",
        "    if height >= 120:\n",
        "        print(\"And you meet the height requirement.\")\n",
        "    else:\n",
        "        print(\"But you do not meet the height requirement.\")\n",
        "else:\n",
        "    print(\"You are not eligible to ride the rollercoaster because you are too young.\")"
      ]
    },
    {
      "cell_type": "code",
      "execution_count": null,
      "metadata": {
        "colab": {
          "base_uri": "https://localhost:8080/"
        },
        "id": "_P3vEtm_bXzP",
        "outputId": "f33767e7-d967-49da-9f3f-05aa53673e63"
      },
      "outputs": [
        {
          "name": "stdout",
          "output_type": "stream",
          "text": [
            "Enter your number for the table: 5\n",
            "5\n",
            "10\n",
            "15\n",
            "20\n",
            "25\n",
            "30\n",
            "35\n",
            "40\n",
            "45\n",
            "50\n"
          ]
        }
      ],
      "source": [
        "NUMBER = int(input(\"Enter your number for the table: \"))\n",
        "\n",
        "for i in range(10):\n",
        "    table1 = NUMBER * (i+1)\n",
        "    i=i+ 1\n",
        "    print(table1)\n",
        "\n"
      ]
    },
    {
      "cell_type": "code",
      "execution_count": null,
      "metadata": {
        "colab": {
          "base_uri": "https://localhost:8080/"
        },
        "id": "vM7FKGHFdwbP",
        "outputId": "c280ce2f-c9c3-4f7b-8cc7-51b323dc4a00"
      },
      "outputs": [
        {
          "name": "stdout",
          "output_type": "stream",
          "text": [
            "pepperoni\n",
            "mushrooms\n",
            "olives\n",
            "sausage\n",
            "['bacon', 'peppers', 'pineapple']\n",
            "bacon\n",
            "peppers\n",
            "pineapple\n",
            "['pepperoni', 'mushrooms', 'olives', 'sausage', 'pineapple']\n"
          ]
        }
      ],
      "source": [
        "toppings = [\"pepperoni\", \"mushrooms\", \"olives\", \"sausage\"]\n",
        "\n",
        "for topping in toppings:\n",
        "  print (topping)\n",
        "\n",
        "new_toppings = [\"bacon\", \"peppers\", \"pineapple\"]\n",
        "print(new_toppings)\n",
        "for topping in new_toppings:\n",
        "  print(topping)\n",
        "\n",
        "toppings.append(topping)\n",
        "print(toppings)\n",
        "\n"
      ]
    },
    {
      "cell_type": "code",
      "execution_count": null,
      "metadata": {
        "colab": {
          "base_uri": "https://localhost:8080/"
        },
        "id": "NQTQtGABe-0h",
        "outputId": "fdcb2b38-383f-4262-e6e7-8b76a25a8119"
      },
      "outputs": [
        {
          "name": "stdout",
          "output_type": "stream",
          "text": [
            "pepperoni\n",
            "mushrooms\n",
            "olives\n",
            "sausage\n",
            "['pepperoni', 'mushrooms', 'olives', 'sausage', 'bacon', 'peppers', 'pineapple']\n"
          ]
        }
      ],
      "source": [
        "#Coder\n",
        "\n",
        "# Define a list of pizza toppings\n",
        "toppings = [\"pepperoni\", \"mushrooms\", \"olives\", \"sausage\"]\n",
        "\n",
        "# Loop through each topping in the list and print it out\n",
        "for topping in toppings:\n",
        "    print(topping)\n",
        "\n",
        "# Add new toppings to the list using a loop and the append method\n",
        "new_toppings = [\"bacon\", \"peppers\", \"pineapple\"]\n",
        "\n",
        "for topping in new_toppings:\n",
        "    toppings.append(topping)\n",
        "\n",
        "# Print out the updated list of toppings\n",
        "print(toppings)"
      ]
    },
    {
      "cell_type": "code",
      "execution_count": null,
      "metadata": {
        "colab": {
          "base_uri": "https://localhost:8080/"
        },
        "id": "fWVkyLYmfbyB",
        "outputId": "17e72bdf-650d-4107-8014-37b0b93eca66"
      },
      "outputs": [
        {
          "data": {
            "text/plain": [
              "['pepperoni',\n",
              " 'mushrooms',\n",
              " 'olives',\n",
              " 'sausage',\n",
              " 'bacon',\n",
              " 'peppers',\n",
              " 'pineapple']"
            ]
          },
          "execution_count": 20,
          "metadata": {},
          "output_type": "execute_result"
        }
      ],
      "source": [
        "toppings = [\"pepperoni\", \"mushrooms\", \"olives\", \"sausage\"]\n",
        "new_toppings = [\"bacon\", \"peppers\", \"pineapple\"]\n",
        "toppings.extend(new_toppings[0:])  #adding bacon and peppers to topping list\n",
        "toppings"
      ]
    },
    {
      "cell_type": "code",
      "execution_count": null,
      "metadata": {
        "colab": {
          "base_uri": "https://localhost:8080/",
          "height": 131
        },
        "id": "gntkjWaLfjML",
        "outputId": "c8440a9b-24e8-4795-a6b0-f92bb8770538"
      },
      "outputs": [
        {
          "ename": "SyntaxError",
          "evalue": "ignored",
          "output_type": "error",
          "traceback": [
            "\u001b[0;36m  File \u001b[0;32m\"<ipython-input-29-24bb9866e699>\"\u001b[0;36m, line \u001b[0;32m10\u001b[0m\n\u001b[0;31m    print(\"count_vowels:\"  count)\u001b[0m\n\u001b[0m          ^\u001b[0m\n\u001b[0;31mSyntaxError\u001b[0m\u001b[0;31m:\u001b[0m invalid syntax. Perhaps you forgot a comma?\n"
          ]
        }
      ],
      "source": [
        "str_1 = input(\"Please enter the string: \")\n",
        "count = 0\n",
        "count_consonent=0\n",
        "\n",
        "for char in str_1:\n",
        "  if char in \"aeiouAEIOU\":\n",
        "     count = count+1\n",
        "  else:\n",
        "      count_consonent = count_consonent + 1\n",
        "print(count)\n",
        "print(count_consonent)\n"
      ]
    },
    {
      "cell_type": "code",
      "execution_count": null,
      "metadata": {
        "colab": {
          "base_uri": "https://localhost:8080/"
        },
        "id": "j8cjCFEfhqS1",
        "outputId": "8e824c19-924b-444c-e610-5be3237412db"
      },
      "outputs": [
        {
          "name": "stdout",
          "output_type": "stream",
          "text": [
            "5\n",
            "10\n",
            "15\n",
            "20\n",
            "25\n",
            "30\n",
            "35\n",
            "40\n",
            "45\n",
            "50\n"
          ]
        }
      ],
      "source": [
        "for i in range(5, 51, 5):\n",
        "    print(i)"
      ]
    },
    {
      "cell_type": "code",
      "execution_count": null,
      "metadata": {
        "colab": {
          "base_uri": "https://localhost:8080/"
        },
        "id": "682tlic8iRZ4",
        "outputId": "229d5482-2ff6-438a-aa72-1ecf48d6541c"
      },
      "outputs": [
        {
          "name": "stdout",
          "output_type": "stream",
          "text": [
            "1\n",
            "3\n",
            "5\n",
            "6\n",
            "7\n",
            "8\n",
            "9\n"
          ]
        }
      ],
      "source": [
        "for i in range(1,10):\n",
        "    if i == 2 or i==4:\n",
        "        #break\n",
        "        continue\n",
        "    print(i)"
      ]
    },
    {
      "cell_type": "code",
      "execution_count": null,
      "metadata": {
        "colab": {
          "base_uri": "https://localhost:8080/"
        },
        "id": "gyG2whbIi0Qu",
        "outputId": "3f7561f9-9ee3-4321-978c-8919f7f5b678"
      },
      "outputs": [
        {
          "name": "stdout",
          "output_type": "stream",
          "text": [
            "1\n",
            "3\n",
            "5\n",
            "7\n",
            "9\n"
          ]
        }
      ],
      "source": [
        "for i in range(10):\n",
        "    if i % 2 == 0:\n",
        "        continue\n",
        "    print(i)"
      ]
    },
    {
      "cell_type": "code",
      "execution_count": null,
      "metadata": {
        "colab": {
          "base_uri": "https://localhost:8080/"
        },
        "id": "wJFRmvSQjfMk",
        "outputId": "4b334ad1-3483-4953-cffd-1f417d6c7a7f"
      },
      "outputs": [
        {
          "name": "stdout",
          "output_type": "stream",
          "text": [
            "Team 1 is: ['Alice', 'Bob'] \n",
            " And Team 2 is ['Charlie', 'Diana']\n"
          ]
        }
      ],
      "source": [
        "tournament = [['Alice', 'Charlie'], ['Bob', 'Diana']]\n",
        "\n",
        "team1=[]\n",
        "team2=[]\n",
        "for group in tournament:    # First Loop/ Outer Loop.\n",
        "    for player in group:      #  Inner loop.\n",
        "        if player[0]=='A' or player[0]=='B':\n",
        "          team1.append(player)\n",
        "        else:\n",
        "          team2.append(player)\n",
        "\n",
        "print(f'Team 1 is: {team1} \\n And Team 2 is {team2}')"
      ]
    },
    {
      "cell_type": "code",
      "execution_count": null,
      "metadata": {
        "colab": {
          "background_save": true,
          "base_uri": "https://localhost:8080/",
          "height": 131
        },
        "id": "MRBPtqkgkK3Y",
        "outputId": "57061c88-9e67-4f1d-d556-983f19600182"
      },
      "outputs": [
        {
          "name": "stdout",
          "output_type": "stream",
          "text": [
            "3\n",
            "2\n",
            "Even is: 3 \n",
            " And ODD is 2\n",
            "5\n",
            "5\n",
            "Even is: 5 \n",
            " And ODD is 5\n",
            "7\n",
            "8\n",
            "Even is: 7 \n",
            " And ODD is 8\n",
            "9\n",
            "11\n",
            "Even is: 9 \n",
            " And ODD is 11\n",
            "12\n",
            "13\n",
            "Even is: 12 \n",
            " And ODD is 13\n"
          ]
        }
      ],
      "source": [
        "List_numbers = [ [2, 5, 11, 20, 8], [9, 4, 15, 28, 17], [1, 6, 21, 18, 3], [10, 13, 25, 33, 30], [14, 7, 16, 19, 22] ]\n",
        "\n",
        "even=0\n",
        "odd=0\n",
        "\n",
        "for i in List_numbers:\n",
        "    for j in i:\n",
        "      if j%2==0:\n",
        "         even = even+1\n",
        "      else:\n",
        "         odd = odd+1\n",
        "    print(even)\n",
        "     print(odd)\n",
        " print(f'Even is: {even} \\n And ODD is {odd}')"
      ]
    },
    {
      "cell_type": "code",
      "execution_count": null,
      "metadata": {
        "colab": {
          "base_uri": "https://localhost:8080/"
        },
        "id": "BocAYo7hARE-",
        "outputId": "8921559f-616b-4dda-c9eb-3c0b70f6a200"
      },
      "outputs": [
        {
          "name": "stdout",
          "output_type": "stream",
          "text": [
            "x is non-positive\n"
          ]
        }
      ],
      "source": [
        "\n",
        "\n",
        "x = -5\n",
        "y = -10\n",
        "if x > 0:\n",
        "   if y > 0:\n",
        "      print(\"x and y are both positive\")\n",
        "   else:\n",
        "     print(\"x is positive and y is non-positive\")\n",
        "else:\n",
        "   print(\"x is non-positive\")"
      ]
    },
    {
      "cell_type": "code",
      "execution_count": null,
      "metadata": {
        "colab": {
          "base_uri": "https://localhost:8080/"
        },
        "id": "LephVD8mAay2",
        "outputId": "a8960d76-d758-4526-846c-e866bd6d1eba"
      },
      "outputs": [
        {
          "name": "stdout",
          "output_type": "stream",
          "text": [
            "1\n",
            "2\n",
            "3\n",
            "4\n",
            "5\n"
          ]
        }
      ],
      "source": [
        "i = 1\n",
        "while i <= 5:\n",
        "   print(i)\n",
        "   i += 1"
      ]
    },
    {
      "cell_type": "code",
      "execution_count": null,
      "metadata": {
        "colab": {
          "base_uri": "https://localhost:8080/"
        },
        "id": "IaoUIh1OAjwW",
        "outputId": "fb5e1b01-cc75-4bb8-c328-f09a6dd1f943"
      },
      "outputs": [
        {
          "name": "stdout",
          "output_type": "stream",
          "text": [
            "1\n",
            "2\n",
            "3\n",
            "4\n",
            "5\n"
          ]
        }
      ],
      "source": [
        "numbers = [1, 2, 3, 4, 5]\n",
        "for number in numbers:\n",
        "   print(number)"
      ]
    },
    {
      "cell_type": "code",
      "execution_count": null,
      "metadata": {
        "colab": {
          "base_uri": "https://localhost:8080/"
        },
        "id": "uZXcU2HHAxQR",
        "outputId": "88123d19-e05d-4812-a06d-e9c88aca1a13"
      },
      "outputs": [
        {
          "name": "stdout",
          "output_type": "stream",
          "text": [
            "3\n",
            "5\n",
            "7\n",
            "9\n"
          ]
        }
      ],
      "source": [
        "for i in range(3, 10, 2):\n",
        "  print(i)"
      ]
    },
    {
      "cell_type": "code",
      "execution_count": null,
      "metadata": {
        "colab": {
          "background_save": true,
          "base_uri": "https://localhost:8080/"
        },
        "id": "LWqCuQw_B8zN",
        "outputId": "e8a2e458-6486-4265-d939-6b4f2822f73d"
      },
      "outputs": [
        {
          "name": "stdout",
          "output_type": "stream",
          "text": [
            "0\n"
          ]
        }
      ],
      "source": [
        "i = 0\n",
        "while i < 5:\n",
        "  if i % 2 == 0:\n",
        "    print(i)\n",
        "    i += 1"
      ]
    },
    {
      "cell_type": "code",
      "execution_count": null,
      "metadata": {
        "id": "iILkWEO8CGRI"
      },
      "outputs": [],
      "source": [
        "i = 0\n",
        "while i < 5:\n",
        "  if i % 2 == 0:\n",
        "    print(i)\n",
        "    i += 1"
      ]
    },
    {
      "cell_type": "code",
      "source": [
        "\n",
        "my_list = [2,4,6,8]\n",
        "\n",
        "for i in my_list:\n"
      ],
      "metadata": {
        "id": "KvDf3aUmjsAC"
      },
      "execution_count": null,
      "outputs": []
    },
    {
      "cell_type": "code",
      "source": [
        "# A lambda function that adds two numbers\n",
        "add = lambda x, y: x + y\n",
        "\n",
        "# Call the lambda function\n",
        "result = add(3, 4)\n",
        "print(result)\n"
      ],
      "metadata": {
        "colab": {
          "base_uri": "https://localhost:8080/"
        },
        "id": "F2Uj3czslDYe",
        "outputId": "d33e8c1c-7f88-49d8-95c7-0eea6bd10b61"
      },
      "execution_count": null,
      "outputs": [
        {
          "output_type": "stream",
          "name": "stdout",
          "text": [
            "7\n"
          ]
        }
      ]
    },
    {
      "cell_type": "code",
      "source": [
        "# A lambda function that adds two numbers\n",
        "add = lambda x, y: x + y\n",
        "\n",
        "# Call the lambda function\n",
        "print(add(13, 4))\n",
        "#print(result)\n"
      ],
      "metadata": {
        "colab": {
          "base_uri": "https://localhost:8080/",
          "height": 131
        },
        "id": "I8ErtiDzlHSx",
        "outputId": "ab1d789d-7389-47cb-94df-91d515a73e09"
      },
      "execution_count": null,
      "outputs": [
        {
          "output_type": "error",
          "ename": "SyntaxError",
          "evalue": "ignored",
          "traceback": [
            "\u001b[0;36m  File \u001b[0;32m\"<ipython-input-3-d20f7b9821e2>\"\u001b[0;36m, line \u001b[0;32m2\u001b[0m\n\u001b[0;31m    add = lambda x=10, y: x + y\u001b[0m\n\u001b[0m                       ^\u001b[0m\n\u001b[0;31mSyntaxError\u001b[0m\u001b[0;31m:\u001b[0m non-default argument follows default argument\n"
          ]
        }
      ]
    },
    {
      "cell_type": "code",
      "source": [
        "divide = lambda x,y: \"undefined\" if y==0 else x/y\n",
        "\n",
        "print(divide(10,0))\n",
        "print(divide(10,2))"
      ],
      "metadata": {
        "colab": {
          "base_uri": "https://localhost:8080/"
        },
        "id": "lXVqEiCjYEpt",
        "outputId": "252a23d2-7279-41ea-a592-b30c8436d5bd"
      },
      "execution_count": null,
      "outputs": [
        {
          "output_type": "stream",
          "name": "stdout",
          "text": [
            "undefined\n",
            "5.0\n"
          ]
        }
      ]
    },
    {
      "cell_type": "code",
      "source": [
        "numbers = [1,2,3,4,5,6,7,8,9,10]\n",
        "even_numbers = tuple(filter(lambda x: x%2==0, numbers))\n",
        "print(even_numbers)"
      ],
      "metadata": {
        "colab": {
          "base_uri": "https://localhost:8080/"
        },
        "id": "RvoJJNEiZsEx",
        "outputId": "826c5a9c-2541-4ca0-962d-094105c7de94"
      },
      "execution_count": null,
      "outputs": [
        {
          "output_type": "stream",
          "name": "stdout",
          "text": [
            "(2, 4, 6, 8, 10)\n"
          ]
        }
      ]
    },
    {
      "cell_type": "code",
      "source": [
        "my_string = \"hello world\"\n",
        "k = [(i.upper(), len(i)) for i in my_string]\n",
        "print(k)\n",
        "\n"
      ],
      "metadata": {
        "colab": {
          "base_uri": "https://localhost:8080/"
        },
        "id": "XWB2axw0kRNq",
        "outputId": "3a036088-bf44-4be5-a7d8-a073c116c858"
      },
      "execution_count": null,
      "outputs": [
        {
          "output_type": "stream",
          "name": "stdout",
          "text": [
            "[('H', 1), ('E', 1), ('L', 1), ('L', 1), ('O', 1), (' ', 1), ('W', 1), ('O', 1), ('R', 1), ('L', 1), ('D', 1)]\n"
          ]
        }
      ]
    },
    {
      "cell_type": "code",
      "source": [
        "s = {x for x in range(10) if x % 2 == 0}\n",
        "print(s)"
      ],
      "metadata": {
        "colab": {
          "base_uri": "https://localhost:8080/"
        },
        "id": "W13mKB4ake15",
        "outputId": "97fda518-ae85-4a8a-e19e-a8519a1ab5c3"
      },
      "execution_count": null,
      "outputs": [
        {
          "output_type": "stream",
          "name": "stdout",
          "text": [
            "{0, 2, 4, 6, 8}\n"
          ]
        }
      ]
    },
    {
      "cell_type": "code",
      "source": [
        "k = \"hello world\"\n",
        "\n",
        "k = [i for i in my_string if i not in \"aeiou\"]\n",
        "print(k)"
      ],
      "metadata": {
        "colab": {
          "base_uri": "https://localhost:8080/"
        },
        "id": "wFBzwWmBkm_E",
        "outputId": "bc418835-0a56-45d5-fe9d-165df6434036"
      },
      "execution_count": null,
      "outputs": [
        {
          "output_type": "stream",
          "name": "stdout",
          "text": [
            "['h', 'l', 'l', ' ', 'w', 'r', 'l', 'd']\n"
          ]
        }
      ]
    },
    {
      "cell_type": "code",
      "source": [
        "print([i.lower() for i in \"HELLO\"])"
      ],
      "metadata": {
        "colab": {
          "base_uri": "https://localhost:8080/"
        },
        "id": "T21KffdIlHnU",
        "outputId": "4bf2ce93-15a1-4d78-e9b7-bd0608c2724b"
      },
      "execution_count": null,
      "outputs": [
        {
          "output_type": "stream",
          "name": "stdout",
          "text": [
            "['h', 'e', 'l', 'l', 'o']\n"
          ]
        }
      ]
    },
    {
      "cell_type": "code",
      "source": [
        "\n",
        "lst = [1, 2, 3, 4, 5]\n",
        "result = [x**2 for x in lst if x % 2 == 0]\n",
        "print(result)"
      ],
      "metadata": {
        "colab": {
          "base_uri": "https://localhost:8080/"
        },
        "id": "GzZGdUCQlPDi",
        "outputId": "aab01981-f929-4076-d196-6d05df0fe9f7"
      },
      "execution_count": null,
      "outputs": [
        {
          "output_type": "stream",
          "name": "stdout",
          "text": [
            "[4, 16]\n"
          ]
        }
      ]
    },
    {
      "cell_type": "code",
      "source": [
        "print(if i%2==0: i; else: i+1; for i in range(4))"
      ],
      "metadata": {
        "id": "SLIXoAQylb83"
      },
      "execution_count": null,
      "outputs": []
    },
    {
      "cell_type": "code",
      "source": [
        "class Person:\n",
        "    def __init__(self, name, age, hobby):\n",
        "        self.name = name\n",
        "        self.age = age\n",
        "        self.hobby = hobby\n",
        "\n",
        "    def greet(self):\n",
        "        print(\"Hello, my name is\", self.name)\n",
        "        c = self.age + 3\n",
        "        print(\"my age after 3 year is\", c)\n"
      ],
      "metadata": {
        "id": "fOqTRgBULqXH"
      },
      "execution_count": null,
      "outputs": []
    },
    {
      "cell_type": "code",
      "source": [
        "gobinda = Person(\"Gobinda\", 23, \"Reading\")"
      ],
      "metadata": {
        "id": "e_NIdAjML1UJ"
      },
      "execution_count": null,
      "outputs": []
    },
    {
      "cell_type": "code",
      "source": [
        "class MyClass:\n",
        "    # Class Variables\n",
        "    variable1 = \"Hello\"\n",
        "    variable2 = \"World\"\n",
        "\n",
        "    # Class Method\n",
        "    def myMethod(self):\n",
        "        print(\"MyClass method called.\")\n",
        "\n",
        "# Creating Object of MyClass\n",
        "myObject = MyClass()\n",
        "\n",
        "# Accessing Variables\n",
        "print(myObject.variable1)\n",
        "print(myObject.variable2)\n",
        "\n",
        "# Accessing Methods\n",
        "myObject.myMethod()"
      ],
      "metadata": {
        "colab": {
          "base_uri": "https://localhost:8080/"
        },
        "id": "zorcV5cZpZB-",
        "outputId": "9ff5bd8a-11eb-4cf2-e676-5fea2c5ddd6f"
      },
      "execution_count": null,
      "outputs": [
        {
          "output_type": "stream",
          "name": "stdout",
          "text": [
            "Hello\n",
            "World\n",
            "MyClass method called.\n"
          ]
        }
      ]
    },
    {
      "cell_type": "code",
      "source": [
        "class Person:\n",
        "    def __init__(self, namE, agE):\n",
        "        self.Name = namE\n",
        "        self.Age = agE\n",
        "\n",
        "person = Person(\"John\", 30)\n",
        "print(person.Name)\n",
        "print(person.Age)\n",
        "\n",
        "'''\n",
        "class Person:\n",
        "    def __init__(self, name, age):\n",
        "        self.name = name\n",
        "        self.age = age\n",
        "\n",
        "person = Person(\"John\", 30)\n",
        "print(person.name)\n",
        "print(person.age)\n",
        "\n",
        "'''"
      ],
      "metadata": {
        "colab": {
          "base_uri": "https://localhost:8080/",
          "height": 87
        },
        "id": "o3mYmxR8tS_u",
        "outputId": "bab99987-e8fc-40f5-eb83-378add043534"
      },
      "execution_count": null,
      "outputs": [
        {
          "output_type": "stream",
          "name": "stdout",
          "text": [
            "John\n",
            "30\n"
          ]
        },
        {
          "output_type": "execute_result",
          "data": {
            "text/plain": [
              "'\\nclass Person:\\n    def __init__(self, name, age):\\n        self.name = name\\n        self.age = age\\n\\nperson = Person(\"John\", 30)\\nprint(person.name)   \\nprint(person.age) \\n\\n'"
            ],
            "application/vnd.google.colaboratory.intrinsic+json": {
              "type": "string"
            }
          },
          "metadata": {},
          "execution_count": 10
        }
      ]
    },
    {
      "cell_type": "code",
      "source": [
        "\n",
        "class Person:\n",
        "    def __init__(self, name, age):\n",
        "        self.name = name\n",
        "        self.age = age\n",
        "\n",
        "    def greet(self):\n",
        "        print(\"Hello, my name is\", self.name)"
      ],
      "metadata": {
        "id": "cFUaeLQ-vg6w"
      },
      "execution_count": null,
      "outputs": []
    },
    {
      "cell_type": "code",
      "source": [
        "class Person:\n",
        "    def __init__(self, name, age):\n",
        "        self.name = name\n",
        "        self.age = age\n",
        "\n",
        "    def greet(self):\n",
        "        print(\"Hello, my name is\", self.name, self.age)\n",
        "person = Person(\"John\", 30)\n",
        "person.greet()"
      ],
      "metadata": {
        "colab": {
          "base_uri": "https://localhost:8080/"
        },
        "id": "xdN9oSgTwLa7",
        "outputId": "3dcae526-40e9-4de0-f87e-19fd4ed7ca23"
      },
      "execution_count": null,
      "outputs": [
        {
          "output_type": "stream",
          "name": "stdout",
          "text": [
            "Hello, my name is John 30\n"
          ]
        }
      ]
    },
    {
      "cell_type": "code",
      "source": [
        "class Calculator:\n",
        "    # Define the constructor method to initialize the class and set the initial result to 0\n",
        "    def __init__(self):\n",
        "        self.result = 0\n",
        "\n",
        "    # Define a method to add num1 to num2 and store the result\n",
        "    def add(self, num1, num2):\n",
        "        self.result = num1 + num2\n",
        "        return self.result\n",
        "\n",
        "    # Define a method to subtract num2 from num1 and store the result\n",
        "    def subtract(self, num1, num2):\n",
        "        self.result = num1 - num2\n",
        "        return self.result\n",
        "\n",
        "    # Define a method to multiply num1 by num2 and store the result\n",
        "    def multiply(self, num1, num2):\n",
        "        self.result = num1 * num2\n",
        "        return self.result\n",
        "\n",
        "    # Define a method to divide num1 by num2 and store the result. Raise a ValueError if dividing by 0.\n",
        "    def divide(self, num1, num2):\n",
        "        if num2 == 0:\n",
        "            raise ValueError(\"Cannot divide by zero.\")\n",
        "        self.result = num1 / num2\n",
        "        return self.result\n",
        "\n",
        "    # Define a method to clear the result back to 0\n",
        "    def clear(self):\n",
        "        self.result = 0\n",
        "\n",
        "\n",
        "calc=Calculator()\n",
        "#calling add method\n",
        "addition=calc.add(42,6)\n",
        "\n",
        "#calling subtract method\n",
        "subtraction=calc.subtract(42,6)\n",
        "\n",
        "#calling divide method\n",
        "division=calc.divide(42,6)\n",
        "\n",
        "#calling multiply method\n",
        "mulitplication=calc.multiply(42,6)\n",
        "\n",
        "print(\"Addition- \",addition)\n",
        "print(\"subtraction- \",subtraction)\n",
        "print(\"division- \",division)\n",
        "print(\"mulitplication- \",mulitplication)\n",
        "\n",
        "\n",
        "\n"
      ],
      "metadata": {
        "colab": {
          "base_uri": "https://localhost:8080/"
        },
        "id": "75VaQ2nfwpR0",
        "outputId": "d1cbc074-dac8-404e-9049-6efc43582649"
      },
      "execution_count": null,
      "outputs": [
        {
          "output_type": "stream",
          "name": "stdout",
          "text": [
            "Addition-  48\n",
            "subtraction-  36\n",
            "division-  7.0\n",
            "mulitplication-  252\n"
          ]
        }
      ]
    },
    {
      "cell_type": "code",
      "source": [
        "class Pet:\n",
        "    # Define the constructor method to initialize the class with name, age and health_level\n",
        "    def __init__(self, name, age, energy_level):\n",
        "        self.name = name\n",
        "        self.age = age\n",
        "        self.energy_level = energy_level\n",
        "\n",
        "    # Define a method to increase health level when feeding the pet\n",
        "    def feed(self):\n",
        "        self.energy_level += 10\n",
        "\n",
        "    # Define a method to decrease health level when playing with the pet\n",
        "    def play(self):\n",
        "        self.energy_level -= 5\n",
        "\n",
        "    # Define a method to check the health of the pet and print a message based on its health level\n",
        "    def check_health(self):\n",
        "        if self.energy_level < 50:\n",
        "            print(\"Your pet is not feeling well.\")\n",
        "        else:\n",
        "            print(\"Your pet is healthy.\")\n",
        "\n",
        "# Creating Object of Pet Class\n",
        "my_pet = Pet(\"Fluffy\", 2, 50)\n",
        "\n",
        "# Feeding Pet\n",
        "my_pet.feed()\n",
        "\n",
        "# Playing with Pet\n",
        "my_pet.play()\n",
        "\n",
        "# Checking Pet Health\n",
        "my_pet.check_health()\n",
        "\n",
        "# Printing Pet Info\n",
        "print(\"Name:\", my_pet.name)\n",
        "print(\"Age:\", my_pet.age)\n",
        "print(\"Energy Level:\", my_pet.energy_level)\n"
      ],
      "metadata": {
        "colab": {
          "base_uri": "https://localhost:8080/"
        },
        "id": "LjBn6S91xjfu",
        "outputId": "c8ed8775-c740-44fd-d35e-18491dd1994f"
      },
      "execution_count": null,
      "outputs": [
        {
          "output_type": "stream",
          "name": "stdout",
          "text": [
            "Your pet is healthy.\n",
            "Name: Fluffy\n",
            "Age: 2\n",
            "Energy Level: 55\n"
          ]
        }
      ]
    },
    {
      "cell_type": "code",
      "source": [
        "class test:\n",
        "     def __init__(self,a):\n",
        "         self.a=a\n",
        "\n",
        "     def display(self):\n",
        "         print(self.a)\n",
        "obj=test()\n",
        "obj.display()"
      ],
      "metadata": {
        "colab": {
          "base_uri": "https://localhost:8080/",
          "height": 218
        },
        "id": "FRLvNbXU36V3",
        "outputId": "4ee78562-1591-4163-b6c4-49a6286bced7"
      },
      "execution_count": null,
      "outputs": [
        {
          "output_type": "error",
          "ename": "TypeError",
          "evalue": "ignored",
          "traceback": [
            "\u001b[0;31m---------------------------------------------------------------------------\u001b[0m",
            "\u001b[0;31mTypeError\u001b[0m                                 Traceback (most recent call last)",
            "\u001b[0;32m<ipython-input-22-3ab2e67e59b7>\u001b[0m in \u001b[0;36m<cell line: 7>\u001b[0;34m()\u001b[0m\n\u001b[1;32m      5\u001b[0m      \u001b[0;32mdef\u001b[0m \u001b[0mdisplay\u001b[0m\u001b[0;34m(\u001b[0m\u001b[0mself\u001b[0m\u001b[0;34m)\u001b[0m\u001b[0;34m:\u001b[0m\u001b[0;34m\u001b[0m\u001b[0;34m\u001b[0m\u001b[0m\n\u001b[1;32m      6\u001b[0m          \u001b[0mprint\u001b[0m\u001b[0;34m(\u001b[0m\u001b[0mself\u001b[0m\u001b[0;34m.\u001b[0m\u001b[0ma\u001b[0m\u001b[0;34m)\u001b[0m\u001b[0;34m\u001b[0m\u001b[0;34m\u001b[0m\u001b[0m\n\u001b[0;32m----> 7\u001b[0;31m \u001b[0mobj\u001b[0m\u001b[0;34m=\u001b[0m\u001b[0mtest\u001b[0m\u001b[0;34m(\u001b[0m\u001b[0;34m)\u001b[0m\u001b[0;34m\u001b[0m\u001b[0;34m\u001b[0m\u001b[0m\n\u001b[0m\u001b[1;32m      8\u001b[0m \u001b[0mobj\u001b[0m\u001b[0;34m.\u001b[0m\u001b[0mdisplay\u001b[0m\u001b[0;34m(\u001b[0m\u001b[0;34m)\u001b[0m\u001b[0;34m\u001b[0m\u001b[0;34m\u001b[0m\u001b[0m\n",
            "\u001b[0;31mTypeError\u001b[0m: test.__init__() missing 1 required positional argument: 'a'"
          ]
        }
      ]
    },
    {
      "cell_type": "code",
      "source": [
        "class A():\n",
        "        def __init__(self,count=100):\n",
        "                self.count=count\n",
        "obj1=A()\n",
        "obj2=A(102)\n",
        "print(obj1.count)\n",
        "print(obj2.count)"
      ],
      "metadata": {
        "colab": {
          "base_uri": "https://localhost:8080/"
        },
        "id": "xSKasOWG4bMV",
        "outputId": "adade3c2-4265-412f-bba4-fe0d81c77405"
      },
      "execution_count": null,
      "outputs": [
        {
          "output_type": "stream",
          "name": "stdout",
          "text": [
            "100\n",
            "102\n"
          ]
        }
      ]
    },
    {
      "cell_type": "code",
      "source": [
        "class test:\n",
        "    def __init__(self):\n",
        "        self.variable = 'Old'\n",
        "        self.Change(self.variable)\n",
        "    def Change(self, var):\n",
        "        var = 'New'\n",
        "obj=test()\n",
        "print(obj.variable)"
      ],
      "metadata": {
        "id": "lktPq1dL4h8J",
        "outputId": "978708a9-5d58-41c8-8fb5-4b61667ddaf8",
        "colab": {
          "base_uri": "https://localhost:8080/"
        }
      },
      "execution_count": null,
      "outputs": [
        {
          "output_type": "stream",
          "name": "stdout",
          "text": [
            "Old\n"
          ]
        }
      ]
    },
    {
      "cell_type": "code",
      "source": [
        "while True :\n",
        "    try:\n",
        "      fahrenheit = float(input(\"Enter temperature in Fahrenheit: \"))\n",
        "        celsius = (fahrenheit - 32) * 5/9\n",
        "        print(\"The temperature in Celsius is\", round(celsius, 2))\n",
        "    except ValueError:\n",
        "        print(\"Invalid input. Please enter a numeric value.\")"
      ],
      "metadata": {
        "colab": {
          "base_uri": "https://localhost:8080/",
          "height": 131
        },
        "id": "hs__mkpOudEG",
        "outputId": "24d0fa72-6e72-404e-ff3e-5df1b46b3d2c"
      },
      "execution_count": null,
      "outputs": [
        {
          "output_type": "error",
          "ename": "IndentationError",
          "evalue": "ignored",
          "traceback": [
            "\u001b[0;36m  File \u001b[0;32m\"<ipython-input-2-6a141d659ce8>\"\u001b[0;36m, line \u001b[0;32m4\u001b[0m\n\u001b[0;31m    celsius = (fahrenheit - 32) * 5/9\u001b[0m\n\u001b[0m    ^\u001b[0m\n\u001b[0;31mIndentationError\u001b[0m\u001b[0;31m:\u001b[0m unexpected indent\n"
          ]
        }
      ]
    },
    {
      "cell_type": "code",
      "source": [
        "x = 10\n",
        "y = 5\n",
        "z = x / y\n",
        "print(z)"
      ],
      "metadata": {
        "colab": {
          "base_uri": "https://localhost:8080/"
        },
        "id": "UVEYPd1gvGbM",
        "outputId": "c08d98b2-f707-4c64-f47c-af92b32497be"
      },
      "execution_count": null,
      "outputs": [
        {
          "output_type": "stream",
          "name": "stdout",
          "text": [
            "2.0\n"
          ]
        }
      ]
    },
    {
      "cell_type": "code",
      "source": [
        "x = [1, 2, 3, 4, 5]\n",
        "print(x[5])x = 5\n",
        "y = 2\n",
        "print(\"x % y = \", x % y)"
      ],
      "metadata": {
        "colab": {
          "base_uri": "https://localhost:8080/",
          "height": 131
        },
        "id": "s7okn4vuvjvr",
        "outputId": "07cd03b4-e52a-4c80-bf7e-3c7f31df741f"
      },
      "execution_count": null,
      "outputs": [
        {
          "output_type": "error",
          "ename": "SyntaxError",
          "evalue": "ignored",
          "traceback": [
            "\u001b[0;36m  File \u001b[0;32m\"<ipython-input-6-febe4f6514e3>\"\u001b[0;36m, line \u001b[0;32m2\u001b[0m\n\u001b[0;31m    print(x[5])x = 5\u001b[0m\n\u001b[0m               ^\u001b[0m\n\u001b[0;31mSyntaxError\u001b[0m\u001b[0;31m:\u001b[0m invalid syntax\n"
          ]
        }
      ]
    },
    {
      "cell_type": "code",
      "source": [
        "‘1’ == 1"
      ],
      "metadata": {
        "colab": {
          "base_uri": "https://localhost:8080/",
          "height": 131
        },
        "id": "s4AR0c39vrwP",
        "outputId": "f998e4a1-8fd9-47ff-9e58-edcc2a2bc750"
      },
      "execution_count": null,
      "outputs": [
        {
          "output_type": "error",
          "ename": "SyntaxError",
          "evalue": "ignored",
          "traceback": [
            "\u001b[0;36m  File \u001b[0;32m\"<ipython-input-5-1f298890524b>\"\u001b[0;36m, line \u001b[0;32m1\u001b[0m\n\u001b[0;31m    ‘1’ == 1\u001b[0m\n\u001b[0m    ^\u001b[0m\n\u001b[0;31mSyntaxError\u001b[0m\u001b[0;31m:\u001b[0m invalid character '‘' (U+2018)\n"
          ]
        }
      ]
    },
    {
      "cell_type": "code",
      "source": [],
      "metadata": {
        "id": "EXOK10Xzkn4w"
      },
      "execution_count": null,
      "outputs": []
    },
    {
      "cell_type": "code",
      "source": [
        "x = 5\n",
        "y = 2\n",
        "print(\"x % y = \", x % y)"
      ],
      "metadata": {
        "colab": {
          "base_uri": "https://localhost:8080/"
        },
        "id": "MNyMS22Jv9us",
        "outputId": "66c2882a-8eec-42e5-bff1-918e524bb77d"
      },
      "execution_count": null,
      "outputs": [
        {
          "output_type": "stream",
          "name": "stdout",
          "text": [
            "x % y =  1\n"
          ]
        }
      ]
    },
    {
      "cell_type": "code",
      "source": [
        "try:\n",
        "    print(x)\n",
        "except NameError:\n",
        "    print(\"Variable x is not defined\")"
      ],
      "metadata": {
        "colab": {
          "base_uri": "https://localhost:8080/"
        },
        "id": "JTefd_QHwEUa",
        "outputId": "8c615ca2-3edb-4f37-f8ae-587deee7d83e"
      },
      "execution_count": null,
      "outputs": [
        {
          "output_type": "stream",
          "name": "stdout",
          "text": [
            "5\n"
          ]
        }
      ]
    },
    {
      "cell_type": "code",
      "source": [
        "try:\n",
        "    print(10/0)\n",
        "except ZeroDivisionError:\n",
        "    print(\"Cannot divide by zero\")"
      ],
      "metadata": {
        "id": "c4jPPw5EwXKL",
        "outputId": "88de9cb0-048a-43c3-ffa5-e6c1db56c781",
        "colab": {
          "base_uri": "https://localhost:8080/"
        }
      },
      "execution_count": null,
      "outputs": [
        {
          "output_type": "stream",
          "name": "stdout",
          "text": [
            "Cannot divide by zero\n"
          ]
        }
      ]
    },
    {
      "cell_type": "code",
      "source": [],
      "metadata": {
        "id": "HgMdbHsz4JUK"
      },
      "execution_count": null,
      "outputs": []
    },
    {
      "cell_type": "code",
      "source": [
        "message = \"Hey kal, how are you doing?\"\n",
        "\n",
        "# Oops, I made a typo!\n",
        "message[4] == 'p' #this is called slicing. You'll learn more about it in upcoming sessions\n",
        "\n",
        "print(message)"
      ],
      "metadata": {
        "colab": {
          "base_uri": "https://localhost:8080/"
        },
        "id": "dQv_g8sSJf_d",
        "outputId": "13ffc435-bd35-42a7-ed32-211e71e96ae5"
      },
      "execution_count": null,
      "outputs": [
        {
          "output_type": "stream",
          "name": "stdout",
          "text": [
            "Hey kal, how are you doing?\n"
          ]
        }
      ]
    },
    {
      "cell_type": "code",
      "source": [
        "algorithm = \"Stringg\"\n",
        "len(algorithm)\n",
        "algorithm.count(\"Stringg\")"
      ],
      "metadata": {
        "colab": {
          "base_uri": "https://localhost:8080/",
          "height": 201
        },
        "id": "qeAU6cSXJgum",
        "outputId": "b10d2470-9f51-4aa5-f997-ef1cdbe098d4"
      },
      "execution_count": null,
      "outputs": [
        {
          "output_type": "error",
          "ename": "NameError",
          "evalue": "ignored",
          "traceback": [
            "\u001b[0;31m---------------------------------------------------------------------------\u001b[0m",
            "\u001b[0;31mNameError\u001b[0m                                 Traceback (most recent call last)",
            "\u001b[0;32m<ipython-input-9-80ccf674b96c>\u001b[0m in \u001b[0;36m<cell line: 3>\u001b[0;34m()\u001b[0m\n\u001b[1;32m      1\u001b[0m \u001b[0malgorithm\u001b[0m \u001b[0;34m=\u001b[0m \u001b[0;34m\"Stringg\"\u001b[0m\u001b[0;34m\u001b[0m\u001b[0;34m\u001b[0m\u001b[0m\n\u001b[1;32m      2\u001b[0m \u001b[0mlen\u001b[0m\u001b[0;34m(\u001b[0m\u001b[0malgorithm\u001b[0m\u001b[0;34m)\u001b[0m\u001b[0;34m\u001b[0m\u001b[0;34m\u001b[0m\u001b[0m\n\u001b[0;32m----> 3\u001b[0;31m \u001b[0mcount\u001b[0m\u001b[0;34m(\u001b[0m\u001b[0;34m\"Stringg\"\u001b[0m\u001b[0;34m)\u001b[0m\u001b[0;34m\u001b[0m\u001b[0;34m\u001b[0m\u001b[0m\n\u001b[0m",
            "\u001b[0;31mNameError\u001b[0m: name 'count' is not defined"
          ]
        }
      ]
    },
    {
      "cell_type": "code",
      "source": [
        "# create a list\n",
        "my_list = [1, 2, 3, 4, 5]\n",
        "\n",
        "# modify the list\n",
        "my_list[0] = 10\n",
        "\n",
        "# print out the modified list\n",
        "print(my_list)\n"
      ],
      "metadata": {
        "colab": {
          "base_uri": "https://localhost:8080/"
        },
        "id": "zTUH2feLN38K",
        "outputId": "6a3cae93-1351-4b02-bb5a-dcaa53b6e0d8"
      },
      "execution_count": null,
      "outputs": [
        {
          "output_type": "stream",
          "name": "stdout",
          "text": [
            "[10, 2, 3, 4, 5]\n"
          ]
        }
      ]
    },
    {
      "cell_type": "markdown",
      "source": [],
      "metadata": {
        "id": "MlVUsIp6N4f-"
      }
    },
    {
      "cell_type": "code",
      "source": [
        "set = [1,2,3]\n",
        "\n",
        "type(set)"
      ],
      "metadata": {
        "colab": {
          "base_uri": "https://localhost:8080/"
        },
        "id": "gu-vnteEOwtR",
        "outputId": "9892435d-8588-432a-d276-67ea4f0cbce6"
      },
      "execution_count": null,
      "outputs": [
        {
          "output_type": "execute_result",
          "data": {
            "text/plain": [
              "list"
            ]
          },
          "metadata": {},
          "execution_count": 14
        }
      ]
    },
    {
      "cell_type": "code",
      "source": [
        "#typles = (1,)  --> tuple\n",
        "#typles = (1)  --> int\n",
        "#typles = [1] # --> list\n",
        "typles = [1,]\n",
        "type(typles)"
      ],
      "metadata": {
        "colab": {
          "base_uri": "https://localhost:8080/"
        },
        "id": "nwtNNmeGPsW1",
        "outputId": "deb33641-a566-4698-9e47-ded71d55e016"
      },
      "execution_count": null,
      "outputs": [
        {
          "output_type": "execute_result",
          "data": {
            "text/plain": [
              "list"
            ]
          },
          "metadata": {},
          "execution_count": 19
        }
      ]
    },
    {
      "cell_type": "code",
      "source": [
        "fruits=['Mango','Mango','Pineapple','Pineapple','Apple','Mango','Banana','Banana','Pineapple','Apple','Pineapple']\n"
      ],
      "metadata": {
        "id": "dTFfLzkARJAL"
      },
      "execution_count": null,
      "outputs": []
    },
    {
      "cell_type": "code",
      "source": [
        "# Step 2: Create an empty dictionary which will contain the unique fruit names\n",
        "fruit_dict={}\n",
        "\n",
        "# Set the values for each key separately\n",
        "\n",
        "# First Key\n",
        "fruit_dict['Mango']=  fruits.count('Mango')  #use the count method you learned in Lists to get the count of Mango\n",
        "print(fruit_dict)\n",
        "\n",
        "# Second Key\n",
        "fruit_dict['Pineapple']=fruits.count('Pineapple')\n",
        "\n",
        "# Third Key\n",
        "fruit_dict['Apple']=fruits.count('Apple')\n",
        "\n",
        "# Fourth Key\n",
        "fruit_dict['Banana']=fruits.count('Banana')\n",
        "fruit_dict"
      ],
      "metadata": {
        "colab": {
          "base_uri": "https://localhost:8080/"
        },
        "id": "_IfxJUzBRM9K",
        "outputId": "be4d4fc1-8f52-4c5f-f568-a034da4bf030"
      },
      "execution_count": null,
      "outputs": [
        {
          "output_type": "stream",
          "name": "stdout",
          "text": [
            "{'Mango': 3}\n"
          ]
        },
        {
          "output_type": "execute_result",
          "data": {
            "text/plain": [
              "{'Mango': 3, 'Pineapple': 4, 'Apple': 2, 'Banana': 2}"
            ]
          },
          "metadata": {},
          "execution_count": 25
        }
      ]
    },
    {
      "cell_type": "code",
      "source": [
        "# Create a list with repeats\n",
        "my_list = [1,1,2,2,3,4,5,6,1,1]\n",
        "print(my_list)\n",
        "\n"
      ],
      "metadata": {
        "colab": {
          "base_uri": "https://localhost:8080/"
        },
        "id": "fw8mtaxqU-F-",
        "outputId": "56cf88be-c97d-44d2-b00d-e93e4fdfe9de"
      },
      "execution_count": null,
      "outputs": [
        {
          "output_type": "stream",
          "name": "stdout",
          "text": [
            "[1, 1, 2, 2, 3, 4, 5, 6, 1, 1]\n"
          ]
        }
      ]
    },
    {
      "cell_type": "code",
      "source": [
        "# Cast as set to get unique values\n",
        "my_set = set(my_list)\n",
        "\n",
        "my_set"
      ],
      "metadata": {
        "colab": {
          "base_uri": "https://localhost:8080/",
          "height": 218
        },
        "id": "ctRKYyxuVYIB",
        "outputId": "637515f1-be55-4752-beeb-6e321eba0e27"
      },
      "execution_count": null,
      "outputs": [
        {
          "output_type": "error",
          "ename": "TypeError",
          "evalue": "ignored",
          "traceback": [
            "\u001b[0;31m---------------------------------------------------------------------------\u001b[0m",
            "\u001b[0;31mTypeError\u001b[0m                                 Traceback (most recent call last)",
            "\u001b[0;32m<ipython-input-31-de4490f51a1e>\u001b[0m in \u001b[0;36m<cell line: 2>\u001b[0;34m()\u001b[0m\n\u001b[1;32m      1\u001b[0m \u001b[0;31m# Cast as set to get unique values\u001b[0m\u001b[0;34m\u001b[0m\u001b[0;34m\u001b[0m\u001b[0m\n\u001b[0;32m----> 2\u001b[0;31m \u001b[0mmy_set\u001b[0m \u001b[0;34m=\u001b[0m \u001b[0mset\u001b[0m\u001b[0;34m(\u001b[0m\u001b[0mmy_list\u001b[0m\u001b[0;34m)\u001b[0m\u001b[0;34m\u001b[0m\u001b[0;34m\u001b[0m\u001b[0m\n\u001b[0m\u001b[1;32m      3\u001b[0m \u001b[0;34m\u001b[0m\u001b[0m\n\u001b[1;32m      4\u001b[0m \u001b[0mmy_set\u001b[0m\u001b[0;34m\u001b[0m\u001b[0;34m\u001b[0m\u001b[0m\n",
            "\u001b[0;31mTypeError\u001b[0m: 'list' object is not callable"
          ]
        }
      ]
    },
    {
      "cell_type": "code",
      "source": [
        "sentence=(\"Data Science\")\n",
        "sentence.count('Data')"
      ],
      "metadata": {
        "colab": {
          "base_uri": "https://localhost:8080/"
        },
        "id": "nS504aplXcN3",
        "outputId": "be29e3dc-242f-4682-a611-c488c12b7e9d"
      },
      "execution_count": null,
      "outputs": [
        {
          "output_type": "execute_result",
          "data": {
            "text/plain": [
              "1"
            ]
          },
          "metadata": {},
          "execution_count": 33
        }
      ]
    },
    {
      "cell_type": "code",
      "source": [
        "sentence=\"Data Science is a pretty interesting subject\"\n",
        "print(type(\"sentence\"))"
      ],
      "metadata": {
        "colab": {
          "base_uri": "https://localhost:8080/"
        },
        "id": "0cbLJCdXXpb3",
        "outputId": "f746fb30-deb4-4994-afa0-35732b7775cb"
      },
      "execution_count": null,
      "outputs": [
        {
          "output_type": "stream",
          "name": "stdout",
          "text": [
            "<class 'str'>\n"
          ]
        }
      ]
    },
    {
      "cell_type": "code",
      "source": [],
      "metadata": {
        "id": "Ksp9aagNtNkd"
      },
      "execution_count": null,
      "outputs": []
    },
    {
      "cell_type": "code",
      "source": [
        "list1 = [1,2,3,4,5]\n",
        "print(len(list1))"
      ],
      "metadata": {
        "colab": {
          "base_uri": "https://localhost:8080/"
        },
        "id": "QHRz5SZ6X0MV",
        "outputId": "7159d138-85e1-44e5-f9e1-54c3cb3169e3"
      },
      "execution_count": null,
      "outputs": [
        {
          "output_type": "stream",
          "name": "stdout",
          "text": [
            "5\n"
          ]
        }
      ]
    },
    {
      "cell_type": "code",
      "source": [
        "x=4\n",
        "y=8/2\n",
        "print(x!=y)"
      ],
      "metadata": {
        "colab": {
          "base_uri": "https://localhost:8080/"
        },
        "id": "PRwmBeNJf5JL",
        "outputId": "d7b6ab60-9322-4a05-bf62-ee7c645da2d0"
      },
      "execution_count": null,
      "outputs": [
        {
          "output_type": "stream",
          "name": "stdout",
          "text": [
            "False\n"
          ]
        }
      ]
    },
    {
      "cell_type": "code",
      "source": [
        "list_1 = [expr(i) for i in list_0 if func(i)]"
      ],
      "metadata": {
        "colab": {
          "base_uri": "https://localhost:8080/",
          "height": 166
        },
        "id": "Zx87YaKCtPGg",
        "outputId": "7bada355-7eea-40e6-b34b-4620022d7a31"
      },
      "execution_count": null,
      "outputs": [
        {
          "output_type": "error",
          "ename": "NameError",
          "evalue": "ignored",
          "traceback": [
            "\u001b[0;31m---------------------------------------------------------------------------\u001b[0m",
            "\u001b[0;31mNameError\u001b[0m                                 Traceback (most recent call last)",
            "\u001b[0;32m<ipython-input-39-9b74ff5d995a>\u001b[0m in \u001b[0;36m<cell line: 1>\u001b[0;34m()\u001b[0m\n\u001b[0;32m----> 1\u001b[0;31m \u001b[0mlist_1\u001b[0m \u001b[0;34m=\u001b[0m \u001b[0;34m[\u001b[0m\u001b[0mexpr\u001b[0m\u001b[0;34m(\u001b[0m\u001b[0mi\u001b[0m\u001b[0;34m)\u001b[0m \u001b[0;32mfor\u001b[0m \u001b[0mi\u001b[0m \u001b[0;32min\u001b[0m \u001b[0mlist_0\u001b[0m \u001b[0;32mif\u001b[0m \u001b[0mfunc\u001b[0m\u001b[0;34m(\u001b[0m\u001b[0mi\u001b[0m\u001b[0;34m)\u001b[0m\u001b[0;34m]\u001b[0m\u001b[0;34m\u001b[0m\u001b[0;34m\u001b[0m\u001b[0m\n\u001b[0m",
            "\u001b[0;31mNameError\u001b[0m: name 'list_0' is not defined"
          ]
        }
      ]
    },
    {
      "cell_type": "code",
      "source": [
        "def divide(x, y):\n",
        "    return x / y\n",
        "\n",
        "print(divide(10, 0))"
      ],
      "metadata": {
        "colab": {
          "base_uri": "https://localhost:8080/",
          "height": 305
        },
        "id": "BDy-9OhYtlxO",
        "outputId": "bbe2c4bb-134b-4ac8-a0e2-e1fb840730d1"
      },
      "execution_count": null,
      "outputs": [
        {
          "output_type": "error",
          "ename": "ZeroDivisionError",
          "evalue": "ignored",
          "traceback": [
            "\u001b[0;31m---------------------------------------------------------------------------\u001b[0m",
            "\u001b[0;31mZeroDivisionError\u001b[0m                         Traceback (most recent call last)",
            "\u001b[0;32m<ipython-input-40-faca64242d23>\u001b[0m in \u001b[0;36m<cell line: 4>\u001b[0;34m()\u001b[0m\n\u001b[1;32m      2\u001b[0m     \u001b[0;32mreturn\u001b[0m \u001b[0mx\u001b[0m \u001b[0;34m/\u001b[0m \u001b[0my\u001b[0m\u001b[0;34m\u001b[0m\u001b[0;34m\u001b[0m\u001b[0m\n\u001b[1;32m      3\u001b[0m \u001b[0;34m\u001b[0m\u001b[0m\n\u001b[0;32m----> 4\u001b[0;31m \u001b[0mprint\u001b[0m\u001b[0;34m(\u001b[0m\u001b[0mdivide\u001b[0m\u001b[0;34m(\u001b[0m\u001b[0;36m10\u001b[0m\u001b[0;34m,\u001b[0m \u001b[0;36m0\u001b[0m\u001b[0;34m)\u001b[0m\u001b[0;34m)\u001b[0m\u001b[0;34m\u001b[0m\u001b[0;34m\u001b[0m\u001b[0m\n\u001b[0m",
            "\u001b[0;32m<ipython-input-40-faca64242d23>\u001b[0m in \u001b[0;36mdivide\u001b[0;34m(x, y)\u001b[0m\n\u001b[1;32m      1\u001b[0m \u001b[0;32mdef\u001b[0m \u001b[0mdivide\u001b[0m\u001b[0;34m(\u001b[0m\u001b[0mx\u001b[0m\u001b[0;34m,\u001b[0m \u001b[0my\u001b[0m\u001b[0;34m)\u001b[0m\u001b[0;34m:\u001b[0m\u001b[0;34m\u001b[0m\u001b[0;34m\u001b[0m\u001b[0m\n\u001b[0;32m----> 2\u001b[0;31m     \u001b[0;32mreturn\u001b[0m \u001b[0mx\u001b[0m \u001b[0;34m/\u001b[0m \u001b[0my\u001b[0m\u001b[0;34m\u001b[0m\u001b[0;34m\u001b[0m\u001b[0m\n\u001b[0m\u001b[1;32m      3\u001b[0m \u001b[0;34m\u001b[0m\u001b[0m\n\u001b[1;32m      4\u001b[0m \u001b[0mprint\u001b[0m\u001b[0;34m(\u001b[0m\u001b[0mdivide\u001b[0m\u001b[0;34m(\u001b[0m\u001b[0;36m10\u001b[0m\u001b[0;34m,\u001b[0m \u001b[0;36m0\u001b[0m\u001b[0;34m)\u001b[0m\u001b[0;34m)\u001b[0m\u001b[0;34m\u001b[0m\u001b[0;34m\u001b[0m\u001b[0m\n",
            "\u001b[0;31mZeroDivisionError\u001b[0m: division by zero"
          ]
        }
      ]
    },
    {
      "cell_type": "code",
      "source": [
        "[x**2 for x in range(5)\n",
        "if x % 2 == 0]"
      ],
      "metadata": {
        "colab": {
          "base_uri": "https://localhost:8080/"
        },
        "id": "Isnx2vl6tt_R",
        "outputId": "61402d0e-a3c9-4282-f938-73401074d3ea"
      },
      "execution_count": null,
      "outputs": [
        {
          "output_type": "execute_result",
          "data": {
            "text/plain": [
              "[0, 4, 16]"
            ]
          },
          "metadata": {},
          "execution_count": 41
        }
      ]
    },
    {
      "cell_type": "code",
      "source": [
        "raise Exception(\"Oops!\")"
      ],
      "metadata": {
        "colab": {
          "base_uri": "https://localhost:8080/",
          "height": 166
        },
        "id": "iDy-EBsiuG6V",
        "outputId": "f0a65d48-5075-4ac2-88b0-6ed55b268c07"
      },
      "execution_count": null,
      "outputs": [
        {
          "output_type": "error",
          "ename": "Exception",
          "evalue": "ignored",
          "traceback": [
            "\u001b[0;31m---------------------------------------------------------------------------\u001b[0m",
            "\u001b[0;31mException\u001b[0m                                 Traceback (most recent call last)",
            "\u001b[0;32m<ipython-input-42-23927e8d237e>\u001b[0m in \u001b[0;36m<cell line: 1>\u001b[0;34m()\u001b[0m\n\u001b[0;32m----> 1\u001b[0;31m \u001b[0;32mraise\u001b[0m \u001b[0mException\u001b[0m\u001b[0;34m(\u001b[0m\u001b[0;34m\"Oops!\"\u001b[0m\u001b[0;34m)\u001b[0m\u001b[0;34m\u001b[0m\u001b[0;34m\u001b[0m\u001b[0m\n\u001b[0m",
            "\u001b[0;31mException\u001b[0m: Oops!"
          ]
        }
      ]
    },
    {
      "cell_type": "code",
      "source": [
        "class A:\n",
        "        def __init__(self,num):\n",
        "                num=3\n",
        "                self.num=num\n",
        "        def change(self):\n",
        "                self.num=7\n",
        "a=A(5)\n",
        "print(a.num)\n",
        "a.change()\n",
        "print(a.num)"
      ],
      "metadata": {
        "colab": {
          "base_uri": "https://localhost:8080/"
        },
        "id": "r-gvFYUkuV81",
        "outputId": "f67de80b-a3f0-40eb-90cd-90b845f0cc06"
      },
      "execution_count": null,
      "outputs": [
        {
          "output_type": "stream",
          "name": "stdout",
          "text": [
            "3\n",
            "7\n"
          ]
        }
      ]
    },
    {
      "cell_type": "code",
      "source": [
        "a = 10\n",
        "b = 0\n",
        "c = a/b\n",
        "print(c)"
      ],
      "metadata": {
        "colab": {
          "base_uri": "https://localhost:8080/",
          "height": 218
        },
        "id": "D4EoKieoubgV",
        "outputId": "98b8b57d-e826-4a82-f89e-0a6e8003becd"
      },
      "execution_count": null,
      "outputs": [
        {
          "output_type": "error",
          "ename": "ZeroDivisionError",
          "evalue": "ignored",
          "traceback": [
            "\u001b[0;31m---------------------------------------------------------------------------\u001b[0m",
            "\u001b[0;31mZeroDivisionError\u001b[0m                         Traceback (most recent call last)",
            "\u001b[0;32m<ipython-input-44-16fdd7ba8379>\u001b[0m in \u001b[0;36m<cell line: 3>\u001b[0;34m()\u001b[0m\n\u001b[1;32m      1\u001b[0m \u001b[0ma\u001b[0m \u001b[0;34m=\u001b[0m \u001b[0;36m10\u001b[0m\u001b[0;34m\u001b[0m\u001b[0;34m\u001b[0m\u001b[0m\n\u001b[1;32m      2\u001b[0m \u001b[0mb\u001b[0m \u001b[0;34m=\u001b[0m \u001b[0;36m0\u001b[0m\u001b[0;34m\u001b[0m\u001b[0;34m\u001b[0m\u001b[0m\n\u001b[0;32m----> 3\u001b[0;31m \u001b[0mc\u001b[0m \u001b[0;34m=\u001b[0m \u001b[0ma\u001b[0m\u001b[0;34m/\u001b[0m\u001b[0mb\u001b[0m\u001b[0;34m\u001b[0m\u001b[0;34m\u001b[0m\u001b[0m\n\u001b[0m\u001b[1;32m      4\u001b[0m \u001b[0mprint\u001b[0m\u001b[0;34m(\u001b[0m\u001b[0mc\u001b[0m\u001b[0;34m)\u001b[0m\u001b[0;34m\u001b[0m\u001b[0;34m\u001b[0m\u001b[0m\n",
            "\u001b[0;31mZeroDivisionError\u001b[0m: division by zero"
          ]
        }
      ]
    },
    {
      "cell_type": "code",
      "source": [
        "try:\n",
        "    print(x)\n",
        "except NameError:\n",
        "    print(\"Variable x is not defined\")"
      ],
      "metadata": {
        "id": "-mMury50ujwJ",
        "outputId": "75051e88-939c-42e7-b89d-ba892249cdae",
        "colab": {
          "base_uri": "https://localhost:8080/"
        }
      },
      "execution_count": null,
      "outputs": [
        {
          "output_type": "stream",
          "name": "stdout",
          "text": [
            "4\n"
          ]
        }
      ]
    },
    {
      "cell_type": "code",
      "source": [
        "my_array = [1, 2, 3, 4, 5]"
      ],
      "metadata": {
        "id": "tdxWtZL69mra"
      },
      "execution_count": null,
      "outputs": []
    },
    {
      "cell_type": "code",
      "source": [
        "array = [1, 2, 3]\n",
        "\n"
      ],
      "metadata": {
        "id": "OsU_QtUY9LBq"
      },
      "execution_count": null,
      "outputs": []
    },
    {
      "cell_type": "code",
      "source": [
        "arr = array.array('i', [1, 2, 3])\n",
        "print(arr[0])\n"
      ],
      "metadata": {
        "colab": {
          "base_uri": "https://localhost:8080/",
          "height": 184
        },
        "id": "CiCmKtwGquIw",
        "outputId": "c35be7bf-44e5-4f2c-c208-a980e71219d3"
      },
      "execution_count": null,
      "outputs": [
        {
          "output_type": "error",
          "ename": "AttributeError",
          "evalue": "ignored",
          "traceback": [
            "\u001b[0;31m---------------------------------------------------------------------------\u001b[0m",
            "\u001b[0;31mAttributeError\u001b[0m                            Traceback (most recent call last)",
            "\u001b[0;32m<ipython-input-4-bc09c15afb44>\u001b[0m in \u001b[0;36m<cell line: 1>\u001b[0;34m()\u001b[0m\n\u001b[0;32m----> 1\u001b[0;31m \u001b[0marr\u001b[0m \u001b[0;34m=\u001b[0m \u001b[0marray\u001b[0m\u001b[0;34m.\u001b[0m\u001b[0marray\u001b[0m\u001b[0;34m(\u001b[0m\u001b[0;34m'i'\u001b[0m\u001b[0;34m,\u001b[0m \u001b[0;34m[\u001b[0m\u001b[0;36m1\u001b[0m\u001b[0;34m,\u001b[0m \u001b[0;36m2\u001b[0m\u001b[0;34m,\u001b[0m \u001b[0;36m3\u001b[0m\u001b[0;34m]\u001b[0m\u001b[0;34m)\u001b[0m\u001b[0;34m\u001b[0m\u001b[0;34m\u001b[0m\u001b[0m\n\u001b[0m\u001b[1;32m      2\u001b[0m \u001b[0mprint\u001b[0m\u001b[0;34m(\u001b[0m\u001b[0marr\u001b[0m\u001b[0;34m[\u001b[0m\u001b[0;36m0\u001b[0m\u001b[0;34m]\u001b[0m\u001b[0;34m)\u001b[0m\u001b[0;34m\u001b[0m\u001b[0;34m\u001b[0m\u001b[0m\n",
            "\u001b[0;31mAttributeError\u001b[0m: 'list' object has no attribute 'array'"
          ]
        }
      ]
    },
    {
      "cell_type": "code",
      "source": [
        "\n",
        "array('i', [1, 2, 3])\n",
        "arr = array.array('i', [1, 2, 3])\n",
        "arr.append(4)\n",
        "print(arr)"
      ],
      "metadata": {
        "colab": {
          "base_uri": "https://localhost:8080/",
          "height": 218
        },
        "id": "xQoQsld2q1jp",
        "outputId": "3bba9d2f-0ab1-45bd-d46e-8edbdf2ce104"
      },
      "execution_count": null,
      "outputs": [
        {
          "output_type": "error",
          "ename": "TypeError",
          "evalue": "ignored",
          "traceback": [
            "\u001b[0;31m---------------------------------------------------------------------------\u001b[0m",
            "\u001b[0;31mTypeError\u001b[0m                                 Traceback (most recent call last)",
            "\u001b[0;32m<ipython-input-6-7640bec5aa55>\u001b[0m in \u001b[0;36m<cell line: 1>\u001b[0;34m()\u001b[0m\n\u001b[0;32m----> 1\u001b[0;31m \u001b[0marray\u001b[0m\u001b[0;34m(\u001b[0m\u001b[0;34m'i'\u001b[0m\u001b[0;34m,\u001b[0m \u001b[0;34m[\u001b[0m\u001b[0;36m1\u001b[0m\u001b[0;34m,\u001b[0m \u001b[0;36m2\u001b[0m\u001b[0;34m,\u001b[0m \u001b[0;36m3\u001b[0m\u001b[0;34m]\u001b[0m\u001b[0;34m)\u001b[0m\u001b[0;34m\u001b[0m\u001b[0;34m\u001b[0m\u001b[0m\n\u001b[0m\u001b[1;32m      2\u001b[0m \u001b[0marr\u001b[0m \u001b[0;34m=\u001b[0m \u001b[0marray\u001b[0m\u001b[0;34m.\u001b[0m\u001b[0marray\u001b[0m\u001b[0;34m(\u001b[0m\u001b[0;34m'i'\u001b[0m\u001b[0;34m,\u001b[0m \u001b[0;34m[\u001b[0m\u001b[0;36m1\u001b[0m\u001b[0;34m,\u001b[0m \u001b[0;36m2\u001b[0m\u001b[0;34m,\u001b[0m \u001b[0;36m3\u001b[0m\u001b[0;34m]\u001b[0m\u001b[0;34m)\u001b[0m\u001b[0;34m\u001b[0m\u001b[0;34m\u001b[0m\u001b[0m\n\u001b[1;32m      3\u001b[0m \u001b[0marr\u001b[0m\u001b[0;34m.\u001b[0m\u001b[0mappend\u001b[0m\u001b[0;34m(\u001b[0m\u001b[0;36m4\u001b[0m\u001b[0;34m)\u001b[0m\u001b[0;34m\u001b[0m\u001b[0;34m\u001b[0m\u001b[0m\n\u001b[1;32m      4\u001b[0m \u001b[0mprint\u001b[0m\u001b[0;34m(\u001b[0m\u001b[0marr\u001b[0m\u001b[0;34m)\u001b[0m\u001b[0;34m\u001b[0m\u001b[0;34m\u001b[0m\u001b[0m\n",
            "\u001b[0;31mTypeError\u001b[0m: 'list' object is not callable"
          ]
        }
      ]
    },
    {
      "cell_type": "code",
      "source": [
        "array('f', [1.0, 2.0, 3.0])"
      ],
      "metadata": {
        "colab": {
          "base_uri": "https://localhost:8080/",
          "height": 166
        },
        "id": "rZXzNdVHp0yz",
        "outputId": "4b17c573-58c0-498d-a95a-160a6e2a4cb7"
      },
      "execution_count": null,
      "outputs": [
        {
          "output_type": "error",
          "ename": "NameError",
          "evalue": "ignored",
          "traceback": [
            "\u001b[0;31m---------------------------------------------------------------------------\u001b[0m",
            "\u001b[0;31mNameError\u001b[0m                                 Traceback (most recent call last)",
            "\u001b[0;32m<ipython-input-1-ecb3087f1229>\u001b[0m in \u001b[0;36m<cell line: 1>\u001b[0;34m()\u001b[0m\n\u001b[0;32m----> 1\u001b[0;31m \u001b[0marray\u001b[0m\u001b[0;34m(\u001b[0m\u001b[0;34m'f'\u001b[0m\u001b[0;34m,\u001b[0m \u001b[0;34m[\u001b[0m\u001b[0;36m1.0\u001b[0m\u001b[0;34m,\u001b[0m \u001b[0;36m2.0\u001b[0m\u001b[0;34m,\u001b[0m \u001b[0;36m3.0\u001b[0m\u001b[0;34m]\u001b[0m\u001b[0;34m)\u001b[0m\u001b[0;34m\u001b[0m\u001b[0;34m\u001b[0m\u001b[0m\n\u001b[0m",
            "\u001b[0;31mNameError\u001b[0m: name 'array' is not defined"
          ]
        }
      ]
    },
    {
      "cell_type": "code",
      "source": [
        "arr = array.array('i', [1, 2, 3])\n",
        "print(arr[0])"
      ],
      "metadata": {
        "colab": {
          "base_uri": "https://localhost:8080/",
          "height": 184
        },
        "id": "wtRpSxDAqmI-",
        "outputId": "25b7dd36-1ff0-4825-a488-c246cae81dac"
      },
      "execution_count": null,
      "outputs": [
        {
          "output_type": "error",
          "ename": "NameError",
          "evalue": "ignored",
          "traceback": [
            "\u001b[0;31m---------------------------------------------------------------------------\u001b[0m",
            "\u001b[0;31mNameError\u001b[0m                                 Traceback (most recent call last)",
            "\u001b[0;32m<ipython-input-2-bc09c15afb44>\u001b[0m in \u001b[0;36m<cell line: 1>\u001b[0;34m()\u001b[0m\n\u001b[0;32m----> 1\u001b[0;31m \u001b[0marr\u001b[0m \u001b[0;34m=\u001b[0m \u001b[0marray\u001b[0m\u001b[0;34m.\u001b[0m\u001b[0marray\u001b[0m\u001b[0;34m(\u001b[0m\u001b[0;34m'i'\u001b[0m\u001b[0;34m,\u001b[0m \u001b[0;34m[\u001b[0m\u001b[0;36m1\u001b[0m\u001b[0;34m,\u001b[0m \u001b[0;36m2\u001b[0m\u001b[0;34m,\u001b[0m \u001b[0;36m3\u001b[0m\u001b[0;34m]\u001b[0m\u001b[0;34m)\u001b[0m\u001b[0;34m\u001b[0m\u001b[0;34m\u001b[0m\u001b[0m\n\u001b[0m\u001b[1;32m      2\u001b[0m \u001b[0mprint\u001b[0m\u001b[0;34m(\u001b[0m\u001b[0marr\u001b[0m\u001b[0;34m[\u001b[0m\u001b[0;36m0\u001b[0m\u001b[0;34m]\u001b[0m\u001b[0;34m)\u001b[0m\u001b[0;34m\u001b[0m\u001b[0;34m\u001b[0m\u001b[0m\n",
            "\u001b[0;31mNameError\u001b[0m: name 'array' is not defined"
          ]
        }
      ]
    },
    {
      "cell_type": "code",
      "source": [
        "\n",
        "import re\n",
        "text = \"The quick brown fox jumps over the lazy dog.\"\n",
        "result = re.findall(\"fox|dog\", text)\n",
        "print(result)"
      ],
      "metadata": {
        "id": "ivmEJ3s-9SAZ",
        "colab": {
          "base_uri": "https://localhost:8080/"
        },
        "outputId": "f45fe2b1-7196-462c-804e-53edb667bb57"
      },
      "execution_count": null,
      "outputs": [
        {
          "output_type": "stream",
          "name": "stdout",
          "text": [
            "['fox', 'dog']\n"
          ]
        }
      ]
    },
    {
      "cell_type": "code",
      "source": [
        "re.findall(r'(\\d{3})-(\\d{2})-(\\d{4})', 'My SSN is 123-45-6789')"
      ],
      "metadata": {
        "colab": {
          "base_uri": "https://localhost:8080/"
        },
        "id": "uyVG2uqeR4yn",
        "outputId": "ef54aa0e-732e-4fa0-ad07-37e984854c37"
      },
      "execution_count": null,
      "outputs": [
        {
          "output_type": "execute_result",
          "data": {
            "text/plain": [
              "[('123', '45', '6789')]"
            ]
          },
          "metadata": {},
          "execution_count": 2
        }
      ]
    },
    {
      "cell_type": "code",
      "source": [
        "re.findall(r'\\d+', 'Hello 123 World 456')"
      ],
      "metadata": {
        "id": "R06r8ZTLTcoI",
        "outputId": "50c4e598-d1e7-4737-f4e1-4fa3d88e9444",
        "colab": {
          "base_uri": "https://localhost:8080/"
        }
      },
      "execution_count": null,
      "outputs": [
        {
          "output_type": "execute_result",
          "data": {
            "text/plain": [
              "['123', '456']"
            ]
          },
          "metadata": {},
          "execution_count": 3
        }
      ]
    },
    {
      "cell_type": "code",
      "source": [
        "def fibonacci(n):\n",
        "    series = [0, 1]  # Initializing the series with the first two numbers\n",
        "    if n <= 0:\n",
        "        return []\n",
        "    elif n == 1:\n",
        "        return [0]\n",
        "    elif n == 2:\n",
        "        return series\n",
        "    else:\n",
        "        while len(series) < n:\n",
        "            next_num = series[-1] + series[-2]  # Generating the next number in the series\n",
        "            series.append(next_num)\n",
        "        return series\n",
        "\n",
        "# Example usage\n",
        "n = 10  # The number of Fibonacci numbers to generate\n",
        "fib_nums = fibonacci(n)\n",
        "print(fib_nums)\n"
      ],
      "metadata": {
        "id": "HKdr60l4MDjP",
        "outputId": "50ae4ee4-cd3c-4fce-85a3-fdf14119eaca",
        "colab": {
          "base_uri": "https://localhost:8080/"
        }
      },
      "execution_count": null,
      "outputs": [
        {
          "output_type": "stream",
          "name": "stdout",
          "text": [
            "[0, 1, 1, 2, 3, 5, 8, 13, 21, 34]\n"
          ]
        }
      ]
    },
    {
      "cell_type": "code",
      "source": [
        "def is_leap_year(year):\n",
        "    if year % 4 == 0:\n",
        "        if year % 100 == 0:\n",
        "            if year % 400 == 0:\n",
        "                return True  # Divisible by 400, so it's a leap year\n",
        "            else:\n",
        "                return False  # Divisible by 100 but not by 400, so it's not a leap year\n",
        "        else:\n",
        "            return True  # Divisible by 4 but not by 100, so it's a leap year\n",
        "    else:\n",
        "        return False  # Not divisible by 4, so it's not a leap year\n",
        "\n",
        "# Test the function\n",
        "year = int(input(\"Enter a year: \"))\n",
        "if is_leap_year(year):\n",
        "    print(year, \"is a leap year.\")\n",
        "else:\n",
        "    print(year, \"is not a leap year.\")\n"
      ],
      "metadata": {
        "colab": {
          "base_uri": "https://localhost:8080/"
        },
        "id": "qlLMKK7R-BXt",
        "outputId": "603e3a87-efb3-40a0-a748-4d27395e3816"
      },
      "execution_count": null,
      "outputs": [
        {
          "output_type": "stream",
          "name": "stdout",
          "text": [
            "Enter a year: 104\n",
            "104 is a leap year.\n"
          ]
        }
      ]
    },
    {
      "cell_type": "code",
      "source": [
        "from tkinter import Tk, Label, Entry, Button\n",
        "\n",
        "def subscribe_email():\n",
        "    email = email_entry.get()\n",
        "\n",
        "    # Here, you can perform further processing with the email,\n",
        "    # such as sending a confirmation email or storing it in a database.\n",
        "\n",
        "    # Example output\n",
        "    output_label.config(text=\"Thank you for subscribing!\")\n",
        "\n",
        "# Create the pop-up window\n",
        "window = Tk()\n",
        "window.title(\"Subscribe to Email\")\n",
        "\n",
        "# Create input elements\n",
        "email_label = Label(window, text=\"Enter your email:\")\n",
        "email_label.pack()\n",
        "email_entry = Entry(window)\n",
        "email_entry.pack()\n",
        "\n",
        "# Create a button for subscribing\n",
        "subscribe_button = Button(window, text=\"Subscribe\", command=subscribe_email)\n",
        "subscribe_button.pack()\n",
        "\n",
        "# Create an output label\n",
        "output_label = Label(window, text=\"\")\n",
        "output_label.pack()\n",
        "\n",
        "# Run the pop-up window\n",
        "window.mainloop()\n"
      ],
      "metadata": {
        "colab": {
          "base_uri": "https://localhost:8080/",
          "height": 372
        },
        "id": "h33GaYA3-UvN",
        "outputId": "c19ca60c-705a-4931-cde6-3488b7f82ee9"
      },
      "execution_count": null,
      "outputs": [
        {
          "output_type": "error",
          "ename": "TclError",
          "evalue": "ignored",
          "traceback": [
            "\u001b[0;31m---------------------------------------------------------------------------\u001b[0m",
            "\u001b[0;31mTclError\u001b[0m                                  Traceback (most recent call last)",
            "\u001b[0;32m<ipython-input-3-07a4f7e4fae9>\u001b[0m in \u001b[0;36m<cell line: 13>\u001b[0;34m()\u001b[0m\n\u001b[1;32m     11\u001b[0m \u001b[0;34m\u001b[0m\u001b[0m\n\u001b[1;32m     12\u001b[0m \u001b[0;31m# Create the pop-up window\u001b[0m\u001b[0;34m\u001b[0m\u001b[0;34m\u001b[0m\u001b[0m\n\u001b[0;32m---> 13\u001b[0;31m \u001b[0mwindow\u001b[0m \u001b[0;34m=\u001b[0m \u001b[0mTk\u001b[0m\u001b[0;34m(\u001b[0m\u001b[0;34m)\u001b[0m\u001b[0;34m\u001b[0m\u001b[0;34m\u001b[0m\u001b[0m\n\u001b[0m\u001b[1;32m     14\u001b[0m \u001b[0mwindow\u001b[0m\u001b[0;34m.\u001b[0m\u001b[0mtitle\u001b[0m\u001b[0;34m(\u001b[0m\u001b[0;34m\"Subscribe to Email\"\u001b[0m\u001b[0;34m)\u001b[0m\u001b[0;34m\u001b[0m\u001b[0;34m\u001b[0m\u001b[0m\n\u001b[1;32m     15\u001b[0m \u001b[0;34m\u001b[0m\u001b[0m\n",
            "\u001b[0;32m/usr/lib/python3.10/tkinter/__init__.py\u001b[0m in \u001b[0;36m__init__\u001b[0;34m(self, screenName, baseName, className, useTk, sync, use)\u001b[0m\n\u001b[1;32m   2300\u001b[0m                 \u001b[0mbaseName\u001b[0m \u001b[0;34m=\u001b[0m \u001b[0mbaseName\u001b[0m \u001b[0;34m+\u001b[0m \u001b[0mext\u001b[0m\u001b[0;34m\u001b[0m\u001b[0;34m\u001b[0m\u001b[0m\n\u001b[1;32m   2301\u001b[0m         \u001b[0minteractive\u001b[0m \u001b[0;34m=\u001b[0m \u001b[0;32mFalse\u001b[0m\u001b[0;34m\u001b[0m\u001b[0;34m\u001b[0m\u001b[0m\n\u001b[0;32m-> 2302\u001b[0;31m         \u001b[0mself\u001b[0m\u001b[0;34m.\u001b[0m\u001b[0mtk\u001b[0m \u001b[0;34m=\u001b[0m \u001b[0m_tkinter\u001b[0m\u001b[0;34m.\u001b[0m\u001b[0mcreate\u001b[0m\u001b[0;34m(\u001b[0m\u001b[0mscreenName\u001b[0m\u001b[0;34m,\u001b[0m \u001b[0mbaseName\u001b[0m\u001b[0;34m,\u001b[0m \u001b[0mclassName\u001b[0m\u001b[0;34m,\u001b[0m \u001b[0minteractive\u001b[0m\u001b[0;34m,\u001b[0m \u001b[0mwantobjects\u001b[0m\u001b[0;34m,\u001b[0m \u001b[0museTk\u001b[0m\u001b[0;34m,\u001b[0m \u001b[0msync\u001b[0m\u001b[0;34m,\u001b[0m \u001b[0muse\u001b[0m\u001b[0;34m)\u001b[0m\u001b[0;34m\u001b[0m\u001b[0;34m\u001b[0m\u001b[0m\n\u001b[0m\u001b[1;32m   2303\u001b[0m         \u001b[0;32mif\u001b[0m \u001b[0museTk\u001b[0m\u001b[0;34m:\u001b[0m\u001b[0;34m\u001b[0m\u001b[0;34m\u001b[0m\u001b[0m\n\u001b[1;32m   2304\u001b[0m             \u001b[0mself\u001b[0m\u001b[0;34m.\u001b[0m\u001b[0m_loadtk\u001b[0m\u001b[0;34m(\u001b[0m\u001b[0;34m)\u001b[0m\u001b[0;34m\u001b[0m\u001b[0;34m\u001b[0m\u001b[0m\n",
            "\u001b[0;31mTclError\u001b[0m: no display name and no $DISPLAY environment variable"
          ]
        }
      ]
    },
    {
      "cell_type": "code",
      "source": [
        "import pandas as pd\n",
        "df = pd.DataFrame({'A': [1, 2, 3, 4], 'B': [5, 6, 7, 8]})\n",
        "print(df.iloc[1:3, 0:1])"
      ],
      "metadata": {
        "id": "IYVRhXeqoj98",
        "colab": {
          "base_uri": "https://localhost:8080/"
        },
        "outputId": "46424a9f-df81-430b-f138-1ffe7bfc41f7"
      },
      "execution_count": null,
      "outputs": [
        {
          "output_type": "stream",
          "name": "stdout",
          "text": [
            "   A\n",
            "1  2\n",
            "2  3\n"
          ]
        }
      ]
    },
    {
      "cell_type": "code",
      "source": [
        "import matplotlib.pyplot as plt\n",
        "\n",
        "# Sample data for pie chart\n",
        "labels = ['Churned', 'Retained']\n",
        "sizes = [20, 80]  # Sample percentages (can be actual calculated values)\n",
        "\n",
        "# Create pie chart\n",
        "fig, ax = plt.subplots()\n",
        "ax.pie(sizes, labels=labels, autopct='%1.1f%%', startangle=90)\n",
        "ax.axis('equal')  # Equal aspect ratio ensures that pie is drawn as a circle\n",
        "\n",
        "# Add title\n",
        "plt.title('Customer Churn: Churned vs Retained')\n",
        "\n",
        "# Display the chart\n",
        "plt.show()\n"
      ],
      "metadata": {
        "colab": {
          "base_uri": "https://localhost:8080/",
          "height": 428
        },
        "id": "Y_p79eN8KVy4",
        "outputId": "9d610da8-f883-4086-feac-b08973ffce34"
      },
      "execution_count": null,
      "outputs": [
        {
          "output_type": "display_data",
          "data": {
            "text/plain": [
              "<Figure size 640x480 with 1 Axes>"
            ],
            "image/png": "[encoded data removed]"
          },
          "metadata": {}
        }
      ]
    }
  ],
  "metadata": {
    "colab": {
      "provenance": [],
      "authorship_tag": "ABX9TyOYyaBQ/Kh1wHtK16W3JMl2",
      "include_colab_link": true
    },
    "kernelspec": {
      "display_name": "Python 3",
      "name": "python3"
    },
    "language_info": {
      "name": "python"
    }
  },
  "nbformat": 4,
  "nbformat_minor": 0
}